{
 "cells": [
  {
   "cell_type": "markdown",
   "id": "08e91cdb-4693-4632-b7aa-f37eec027131",
   "metadata": {},
   "source": [
    "## Working with Transformers in the HuggingFace Ecosystem\n",
    "\n",
    "In this laboratory exercise we will learn how to work with the HuggingFace ecosystem to adapt models to new tasks. As you will see, much of what is required is *investigation* into the inner-workings of the HuggingFace abstractions. With a little work, a little trial-and-error, it is fairly easy to get a working adaptation pipeline up and running."
   ]
  },
  {
   "cell_type": "markdown",
   "source": [
    "### Exercise 1: Sentiment Analysis (warm up)\n",
    "\n",
    "In this first exercise we will start from a pre-trained BERT transformer and build up a model able to perform text sentiment analysis. Transformers are complex beasts, so we will build up our pipeline in several explorative and incremental steps.\n",
    "\n",
    "#### Exercise 1.1: Dataset Splits and Pre-trained model\n",
    "There are a many sentiment analysis datasets, but we will use one of the smallest ones available: the [Cornell Rotten Tomatoes movie review dataset](cornell-movie-review-data/rotten_tomatoes), which consists of 5,331 positive and 5,331 negative processed sentences from the Rotten Tomatoes movie reviews.\n",
    "\n",
    "**Your first task**: Load the dataset and figure out what splits are available and how to get them. Spend some time exploring the dataset to see how it is organized. Note that we will be using the [HuggingFace Datasets](https://huggingface.co/docs/datasets/en/index) library for downloading, accessing, splitting, and batching data for training and evaluation."
   ],
   "metadata": {
    "collapsed": false
   },
   "id": "f84474d5bd0f7d43"
  },
  {
   "cell_type": "markdown",
   "id": "7e556105-269f-43e3-8933-227269afb9ea",
   "metadata": {},
   "source": [
    "#### Exercise 1.1\n"
   ]
  },
  {
   "cell_type": "code",
   "execution_count": 17,
   "outputs": [],
   "source": [
    "from datasets import load_dataset, get_dataset_split_names\n",
    "from transformers import AutoTokenizer, AutoModel\n",
    "import torch\n",
    "from tqdm import tqdm\n",
    "from sklearn.svm import LinearSVC\n",
    "from transformers import AutoModelForSequenceClassification\n",
    "from sklearn.metrics import accuracy_score, precision_recall_fscore_support\n",
    "import numpy as np\n",
    "from transformers import TrainingArguments, Trainer, DataCollatorWithPadding\n",
    "import pandas as pd\n",
    "from transformers import CLIPProcessor, CLIPModel, CLIPTokenizer\n",
    "import torch.nn.functional as F\n",
    "import random\n",
    "import os\n",
    "import matplotlib.pyplot as plt\n",
    "from peft import LoraConfig, get_peft_model\n",
    "from sklearn.model_selection import train_test_split\n",
    "from PIL import Image\n",
    "from collections import Counter"
   ],
   "metadata": {
    "collapsed": false,
    "ExecuteTime": {
     "end_time": "2025-08-31T14:35:54.174215700Z",
     "start_time": "2025-08-31T14:35:54.129603900Z"
    }
   },
   "id": "e7e3b2d4f225ef24"
  },
  {
   "cell_type": "code",
   "execution_count": 2,
   "id": "15819af4-e850-412b-ab67-61b9b98e3a90",
   "metadata": {
    "ExecuteTime": {
     "end_time": "2025-08-31T13:24:08.771230900Z",
     "start_time": "2025-08-31T13:24:04.194665400Z"
    }
   },
   "outputs": [
    {
     "name": "stdout",
     "output_type": "stream",
     "text": [
      "Splits: ['train', 'validation', 'test']\n"
     ]
    }
   ],
   "source": [
    "dataset = load_dataset(\"cornell-movie-review-data/rotten_tomatoes\")\n",
    "\n",
    "splits = get_dataset_split_names(\"cornell-movie-review-data/rotten_tomatoes\")\n",
    "print(\"Splits:\", splits)"
   ]
  },
  {
   "cell_type": "code",
   "execution_count": 3,
   "outputs": [
    {
     "name": "stdout",
     "output_type": "stream",
     "text": [
      "Train size: 8530\n",
      "Validation size: 1066\n",
      "Test size: 1066\n"
     ]
    }
   ],
   "source": [
    "print(\"Train size:\", len(dataset[\"train\"]))\n",
    "print(\"Validation size:\", len(dataset[\"validation\"]))\n",
    "print(\"Test size:\", len(dataset[\"test\"]))"
   ],
   "metadata": {
    "collapsed": false,
    "ExecuteTime": {
     "end_time": "2025-08-31T13:24:20.086297Z",
     "start_time": "2025-08-31T13:24:20.043805500Z"
    }
   },
   "id": "5ef46c69e90ec35"
  },
  {
   "cell_type": "code",
   "execution_count": 4,
   "outputs": [
    {
     "name": "stdout",
     "output_type": "stream",
     "text": [
      "Example:\n",
      " {'text': '[a] rare , beautiful film .', 'label': 1}\n"
     ]
    }
   ],
   "source": [
    "print(\"Example:\\n\", dataset[\"train\"][211])"
   ],
   "metadata": {
    "collapsed": false,
    "ExecuteTime": {
     "end_time": "2025-08-31T13:24:27.267875500Z",
     "start_time": "2025-08-31T13:24:27.227455400Z"
    }
   },
   "id": "f4e3c07bfd064cc3"
  },
  {
   "cell_type": "markdown",
   "source": [
    "#### Exercise 1.2: A Pre-trained BERT and Tokenizer\n",
    "\n",
    "The model we will use is a *very* small BERT transformer called [Distilbert](https://huggingface.co/distilbert/distilbert-base-uncased) this model was trained (using self-supervised learning) on the same corpus as BERT but using the full BERT base model as a *teacher*.\n",
    "\n",
    "**Your next task**: Load the Distilbert model and corresponding tokenizer. Use the tokenizer on a few samples from the dataset and pass the tokens through the model to see what outputs are provided. I suggest you use the [`AutoModel`](https://huggingface.co/transformers/v3.0.2/model_doc/auto.html) class (and the `from_pretrained()` method) to load the model and `AutoTokenizer` to load the tokenizer)."
   ],
   "metadata": {
    "collapsed": false
   },
   "id": "f9aec900fcee54a0"
  },
  {
   "cell_type": "markdown",
   "id": "a27f50a0-0af4-4bdd-9a60-bab26f126c14",
   "metadata": {},
   "source": [
    "#### Exercise 1.2"
   ]
  },
  {
   "cell_type": "code",
   "execution_count": 5,
   "id": "3eefc651-8551-44c2-8340-37d64660fc58",
   "metadata": {
    "ExecuteTime": {
     "end_time": "2025-08-31T13:24:34.611003500Z",
     "start_time": "2025-08-31T13:24:33.543512400Z"
    }
   },
   "outputs": [
    {
     "name": "stdout",
     "output_type": "stream",
     "text": [
      "intensely romantic , thought-provoking and even an engaging mystery .\n",
      "{'input_ids': tensor([[  101, 20531,  6298,  1010,  2245,  1011,  4013, 22776,  1998,  2130,\n",
      "          2019, 11973,  6547,  1012,   102]]), 'attention_mask': tensor([[1, 1, 1, 1, 1, 1, 1, 1, 1, 1, 1, 1, 1, 1, 1]])}\n"
     ]
    }
   ],
   "source": [
    "name = \"distilbert-base-uncased\"\n",
    "tokenizer = AutoTokenizer.from_pretrained(name)\n",
    "model = AutoModel.from_pretrained(name)\n",
    "\n",
    "sample = dataset[\"test\"][\"text\"][260]\n",
    "print(sample)\n",
    "\n",
    "encoded_input = tokenizer(sample, return_tensors=\"pt\")\n",
    "print(encoded_input)"
   ]
  },
  {
   "cell_type": "code",
   "execution_count": 6,
   "outputs": [
    {
     "name": "stdout",
     "output_type": "stream",
     "text": [
      "BaseModelOutput(last_hidden_state=tensor([[[-0.2474, -0.2550, -0.1434,  ..., -0.2345,  0.4026,  0.1096],\n",
      "         [-0.0094,  0.2953,  0.0051,  ..., -0.3797,  0.2477, -0.3513],\n",
      "         [-0.2699,  0.1544,  0.3303,  ..., -0.5992,  0.1053, -0.4761],\n",
      "         ...,\n",
      "         [-0.1478, -0.0413,  0.4556,  ..., -0.2515,  0.2923, -0.3443],\n",
      "         [-0.5207, -0.7747, -0.1066,  ...,  0.3429,  0.4019, -0.4375],\n",
      "         [ 0.9744, -0.0602, -0.1639,  ..., -0.0061, -0.3364, -0.0374]]],\n",
      "       grad_fn=<NativeLayerNormBackward0>), hidden_states=None, attentions=None)\n"
     ]
    }
   ],
   "source": [
    "output = model(**encoded_input)\n",
    "print(output)"
   ],
   "metadata": {
    "collapsed": false,
    "ExecuteTime": {
     "end_time": "2025-08-31T13:24:36.530811300Z",
     "start_time": "2025-08-31T13:24:36.234513200Z"
    }
   },
   "id": "a38cbd3d3042e9d9"
  },
  {
   "cell_type": "code",
   "execution_count": 7,
   "outputs": [
    {
     "name": "stdout",
     "output_type": "stream",
     "text": [
      "\n",
      "Last hidden state shape: torch.Size([1, 15, 768])\n"
     ]
    }
   ],
   "source": [
    "print(\"\\nLast hidden state shape:\", output.last_hidden_state.shape)"
   ],
   "metadata": {
    "collapsed": false,
    "ExecuteTime": {
     "end_time": "2025-08-31T13:24:39.823147Z",
     "start_time": "2025-08-31T13:24:39.781649100Z"
    }
   },
   "id": "27f76d3348856a91"
  },
  {
   "cell_type": "code",
   "execution_count": 8,
   "outputs": [
    {
     "name": "stdout",
     "output_type": "stream",
     "text": [
      "a soul-stirring documentary about the israeli/palestinian conflict as revealed through the eyes of some children who remain curious about each other against all odds .\n",
      "\n",
      "Last hidden state shape: torch.Size([1, 31, 768])\n"
     ]
    }
   ],
   "source": [
    "sample = dataset[\"test\"][\"text\"][29]\n",
    "print(sample)\n",
    "\n",
    "encoded_input = tokenizer(sample, return_tensors=\"pt\")\n",
    "\n",
    "output = model(**encoded_input)\n",
    "print(\"\\nLast hidden state shape:\", output.last_hidden_state.shape)"
   ],
   "metadata": {
    "collapsed": false,
    "ExecuteTime": {
     "end_time": "2025-08-30T16:33:00.183219400Z",
     "start_time": "2025-08-30T16:33:00.085531600Z"
    }
   },
   "id": "832ce7f8c57deef4"
  },
  {
   "cell_type": "markdown",
   "source": [
    "#### Exercise 1.3: A Stable Baseline\n",
    "\n",
    "In this exercise I want you to:\n",
    "1. Use Distilbert as a *feature extractor* to extract representations of the text strings from the dataset splits;\n",
    "2. Train a classifier (your choice, by an SVM from Scikit-learn is an easy choice).\n",
    "3. Evaluate performance on the validation and test splits.\n",
    "\n",
    "These results are our *stable baseline* -- the **starting** point on which we will (hopefully) improve in the next exercise.\n",
    "\n",
    "**Hint**: There are a number of ways to implement the feature extractor, but probably the best is to use a [feature extraction `pipeline`](https://huggingface.co/tasks/feature-extraction). You will need to interpret the output of the pipeline and extract only the `[CLS]` token from the *last* transformer layer. *How can you figure out which output that is?*"
   ],
   "metadata": {
    "collapsed": false
   },
   "id": "5eb169e1b62a94c"
  },
  {
   "cell_type": "markdown",
   "id": "ec0f6fd4-b80b-466d-b4ff-9aac0492c062",
   "metadata": {},
   "source": [
    "#### Exercise 1.3: A Stable Baseline"
   ]
  },
  {
   "cell_type": "code",
   "execution_count": 9,
   "id": "ebb961ab-aa24-4d5c-86a1-c9b4237b40fc",
   "metadata": {
    "ExecuteTime": {
     "end_time": "2025-08-30T16:33:00.184221200Z",
     "start_time": "2025-08-30T16:33:00.130554300Z"
    }
   },
   "outputs": [
    {
     "name": "stdout",
     "output_type": "stream",
     "text": [
      "Token IDs: tensor([[ 101, 1045, 2215, 2000, 2156, 2065,  101, 2003, 2012, 1996, 2927, 2030,\n",
      "         2012, 1996, 2203, 1997, 1996, 5537,  102]])\n",
      "Decoded tokens: ['[CLS]', 'i', 'want', 'to', 'see', 'if', '[CLS]', 'is', 'at', 'the', 'beginning', 'or', 'at', 'the', 'end', 'of', 'the', 'sequence', '[SEP]']\n"
     ]
    }
   ],
   "source": [
    "sample = \"i want to see if [CLS] is at the beginning or at the end of the sequence\"\n",
    "encoded = tokenizer(sample, return_tensors=\"pt\")\n",
    "\n",
    "print(\"Token IDs:\", encoded[\"input_ids\"])\n",
    "print(\"Decoded tokens:\", tokenizer.convert_ids_to_tokens(encoded[\"input_ids\"][0]))"
   ]
  },
  {
   "cell_type": "markdown",
   "source": [
    "#### So the [CLS] is the first element of the output sequence!"
   ],
   "metadata": {
    "collapsed": false
   },
   "id": "3cea50936cfa490"
  },
  {
   "cell_type": "code",
   "execution_count": 10,
   "outputs": [],
   "source": [
    "def extract_features(texts, tokenizer, model, device=\"cuda\"):\n",
    "    model = model.to(device)\n",
    "    model.eval()  \n",
    "\n",
    "    hidden_size = 768  \n",
    "    features = torch.zeros((len(texts), hidden_size))\n",
    "\n",
    "    with torch.no_grad():  \n",
    "        for i, text in enumerate(tqdm(texts, desc=\"Extracting features\")):\n",
    "            encoded = tokenizer(text, return_tensors=\"pt\").to(device)\n",
    "\n",
    "            output = model(**encoded)\n",
    "\n",
    "            cls_vec = output.last_hidden_state[:, 0, :] \n",
    "\n",
    "            features[i, :] = cls_vec.cpu()\n",
    "\n",
    "    return features\n"
   ],
   "metadata": {
    "collapsed": false,
    "ExecuteTime": {
     "end_time": "2025-08-30T16:33:00.185221200Z",
     "start_time": "2025-08-30T16:33:00.141334Z"
    }
   },
   "id": "d53885d4b949b162"
  },
  {
   "cell_type": "code",
   "execution_count": 11,
   "outputs": [
    {
     "name": "stderr",
     "output_type": "stream",
     "text": [
      "Extracting features: 100%|██████████| 8530/8530 [01:08<00:00, 125.34it/s]\n",
      "Extracting features: 100%|██████████| 1066/1066 [00:08<00:00, 128.84it/s]\n",
      "Extracting features: 100%|██████████| 1066/1066 [00:08<00:00, 126.44it/s]\n"
     ]
    }
   ],
   "source": [
    "text_train = extract_features(dataset[\"train\"][\"text\"], tokenizer, model)\n",
    "labels_train = dataset[\"train\"][\"label\"]\n",
    "\n",
    "text_validation = extract_features(dataset[\"validation\"][\"text\"], tokenizer, model)\n",
    "labels_validation = dataset[\"validation\"][\"label\"]\n",
    "\n",
    "text_test = extract_features(dataset[\"test\"][\"text\"], tokenizer, model)\n",
    "labels_test = dataset[\"test\"][\"label\"]\n"
   ],
   "metadata": {
    "collapsed": false,
    "ExecuteTime": {
     "end_time": "2025-08-30T16:34:26.408656400Z",
     "start_time": "2025-08-30T16:33:00.145747700Z"
    }
   },
   "id": "d73ba30cb3617623"
  },
  {
   "cell_type": "code",
   "execution_count": 12,
   "outputs": [
    {
     "name": "stdout",
     "output_type": "stream",
     "text": [
      "Validation accuracy: 0.822\n",
      "Test accuracy: 0.798\n"
     ]
    }
   ],
   "source": [
    "clf = LinearSVC()\n",
    "clf.fit(text_train, labels_train)\n",
    "\n",
    "validation_predictions = clf.predict(text_validation)\n",
    "test_predictions = clf.predict(text_test)\n",
    "\n",
    "print(f\"Validation accuracy: {accuracy_score(labels_validation, validation_predictions):.3f}\")\n",
    "print(f\"Test accuracy: {accuracy_score(labels_test, test_predictions):.3f}\")"
   ],
   "metadata": {
    "collapsed": false,
    "ExecuteTime": {
     "end_time": "2025-08-30T16:34:32.009205300Z",
     "start_time": "2025-08-30T16:34:26.408656400Z"
    }
   },
   "id": "6da420f82da3854f"
  },
  {
   "cell_type": "markdown",
   "id": "37141d1b-935b-425c-804c-b9b487853791",
   "metadata": {},
   "source": [
    "-----\n",
    "### Exercise 2: Fine-tuning Distilbert"
   ]
  },
  {
   "cell_type": "markdown",
   "source": [
    "In this exercise we will fine-tune the Distilbert model to (hopefully) improve sentiment analysis performance."
   ],
   "metadata": {
    "collapsed": false
   },
   "id": "87a18cdab1c246b8"
  },
  {
   "cell_type": "markdown",
   "id": "3392b1ed-597b-4a92-90fc-10eb11eac515",
   "metadata": {},
   "source": [
    "#### Exercise 2.1: Token Preprocessing"
   ]
  },
  {
   "cell_type": "markdown",
   "source": [
    "The first thing we need to do is *tokenize* our dataset splits. Our current datasets return a dictionary with *strings*, but we want *input token ids* (i.e. the output of the tokenizer). This is easy enough to do my hand, but the HugginFace `Dataset` class provides convenient, efficient, and *lazy* methods. See the documentation for [`Dataset.map`](https://huggingface.co/docs/datasets/v3.5.0/en/package_reference/main_classes#datasets.Dataset.map).\n",
    "\n",
    "**Tip**: Verify that your new datasets are returning for every element: `text`, `label`, `intput_ids`, and `attention_mask`."
   ],
   "metadata": {
    "collapsed": false
   },
   "id": "f683adefcdcedb99"
  },
  {
   "cell_type": "code",
   "execution_count": 13,
   "id": "9e6e2a95-5b08-4f81-b824-59a0fb3404e5",
   "metadata": {
    "ExecuteTime": {
     "end_time": "2025-08-30T16:34:32.021713100Z",
     "start_time": "2025-08-30T16:34:32.012205100Z"
    }
   },
   "outputs": [],
   "source": [
    "def tokenize(dataset_element):\n",
    "    encoded = tokenizer(dataset_element[\"text\"])\n",
    "\n",
    "    return {\n",
    "        \"text\": dataset_element[\"text\"],\n",
    "        \"label\": dataset_element[\"label\"],\n",
    "        \"input_ids\": encoded[\"input_ids\"],\n",
    "        \"attention_mask\": encoded[\"attention_mask\"],\n",
    "    }"
   ]
  },
  {
   "cell_type": "code",
   "execution_count": 14,
   "outputs": [],
   "source": [
    "tokenized_train = dataset[\"train\"].map(tokenize)\n",
    "tokenized_val = dataset[\"validation\"].map(tokenize)\n",
    "tokenized_test = dataset[\"test\"].map(tokenize)"
   ],
   "metadata": {
    "collapsed": false,
    "ExecuteTime": {
     "end_time": "2025-08-30T16:34:32.084572600Z",
     "start_time": "2025-08-30T16:34:32.018713600Z"
    }
   },
   "id": "7c7e18b26df57c90"
  },
  {
   "cell_type": "code",
   "execution_count": 15,
   "outputs": [
    {
     "name": "stdout",
     "output_type": "stream",
     "text": [
      "{'text': 'a soul-stirring documentary about the israeli/palestinian conflict as revealed through the eyes of some children who remain curious about each other against all odds .', 'label': 1, 'input_ids': [101, 1037, 3969, 1011, 18385, 4516, 2055, 1996, 5611, 1013, 9302, 4736, 2004, 3936, 2083, 1996, 2159, 1997, 2070, 2336, 2040, 3961, 8025, 2055, 2169, 2060, 2114, 2035, 10238, 1012, 102], 'attention_mask': [1, 1, 1, 1, 1, 1, 1, 1, 1, 1, 1, 1, 1, 1, 1, 1, 1, 1, 1, 1, 1, 1, 1, 1, 1, 1, 1, 1, 1, 1, 1]}\n"
     ]
    }
   ],
   "source": [
    "print(tokenized_test[29])"
   ],
   "metadata": {
    "collapsed": false,
    "ExecuteTime": {
     "end_time": "2025-08-30T16:34:32.085606400Z",
     "start_time": "2025-08-30T16:34:32.051502900Z"
    }
   },
   "id": "1ff77ced3604c97f"
  },
  {
   "cell_type": "markdown",
   "id": "62a80de2-83c9-4c12-af4e-34babe23ffd1",
   "metadata": {},
   "source": [
    "#### Exercise 2.2: Setting up the Model to be Fine-tuned\n",
    "\n",
    "In this exercise we need to prepare the base Distilbert model for fine-tuning for a *sequence classification task*. This means, at the very least, appending a new, randomly-initialized classification head connected to the `[CLS]` token of the last transformer layer. Luckily, HuggingFace already provides an `AutoModel` for just this type of instantiation: [`AutoModelForSequenceClassification`](https://huggingface.co/transformers/v3.0.2/model_doc/auto.html#automodelforsequenceclassification). You will want you instantiate one of these for fine-tuning."
   ]
  },
  {
   "cell_type": "code",
   "execution_count": 16,
   "id": "a6327d73-3b71-478a-9932-bb062a650c57",
   "metadata": {
    "ExecuteTime": {
     "end_time": "2025-08-30T16:34:32.256780500Z",
     "start_time": "2025-08-30T16:34:32.057066900Z"
    }
   },
   "outputs": [
    {
     "name": "stderr",
     "output_type": "stream",
     "text": [
      "Some weights of DistilBertForSequenceClassification were not initialized from the model checkpoint at distilbert-base-uncased and are newly initialized: ['classifier.bias', 'classifier.weight', 'pre_classifier.bias', 'pre_classifier.weight']\n",
      "You should probably TRAIN this model on a down-stream task to be able to use it for predictions and inference.\n"
     ]
    }
   ],
   "source": [
    "model = AutoModelForSequenceClassification.from_pretrained(\"distilbert-base-uncased\")"
   ]
  },
  {
   "cell_type": "markdown",
   "id": "d109f7bd-955f-4fc4-bc3e-75bd99a17adf",
   "metadata": {},
   "source": [
    "#### Exercise 2.3: Fine-tuning Distilbert\n",
    "\n",
    "Finally. In this exercise you should use a HuggingFace [`Trainer`](https://huggingface.co/docs/transformers/main/en/trainer) to fine-tune your model on the Rotten Tomatoes training split. Setting up the trainer will involve (at least):\n",
    "\n",
    "\n",
    "1. Instantiating a [`DataCollatorWithPadding`](https://huggingface.co/docs/transformers/en/main_classes/data_collator) object which is what *actually* does your batch construction (by padding all sequences to the same length).\n",
    "2. Writing an *evaluation function* that will measure the classification accuracy. This function takes a single argument which is a tuple containing `(logits, labels)` which you should use to compute classification accuracy (and maybe other metrics like F1 score, precision, recall) and return a `dict` with these metrics.  \n",
    "3. Instantiating a [`TrainingArguments`](https://huggingface.co/docs/transformers/v4.51.1/en/main_classes/trainer#transformers.TrainingArguments) object using some reasonable defaults.\n",
    "4. Instantiating a `Trainer` object using your train and validation splits, you data collator, and function to compute performance metrics.\n",
    "5. Calling `trainer.train()`, waiting, waiting some more, and then calling `trainer.evaluate()` to see how it did.\n",
    "\n",
    "**Tip**: When prototyping this laboratory I discovered the HuggingFace [Evaluate library](https://huggingface.co/docs/evaluate/en/index) which provides evaluation metrics. However I found it to have insufferable layers of abstraction and getting actual metrics computed. I suggest just using the Scikit-learn metrics..."
   ]
  },
  {
   "cell_type": "code",
   "execution_count": 57,
   "outputs": [],
   "source": [
    "def compute_metrics(eval_pred):\n",
    "    logits, labels = eval_pred\n",
    "    predictions = np.argmax(logits, axis=-1)  \n",
    "    accuracy = accuracy_score(labels, predictions)\n",
    "    precision, recall, f1, _ = precision_recall_fscore_support(labels, predictions, average='binary')\n",
    "    return {\"accuracy\": accuracy, \"precision\": precision, \"recall\": recall, \"f1\": f1}\n"
   ],
   "metadata": {
    "collapsed": false,
    "ExecuteTime": {
     "end_time": "2025-08-30T21:06:37.563287Z",
     "start_time": "2025-08-30T21:06:37.534433100Z"
    }
   },
   "id": "ffd757d28eb0a1b2"
  },
  {
   "cell_type": "code",
   "execution_count": 58,
   "outputs": [
    {
     "name": "stderr",
     "output_type": "stream",
     "text": [
      "PyTorch: setting up devices\n",
      "average_tokens_across_devices is True but world size is 1. Setting it to False automatically.\n",
      "The default value for the training argument `--report_to` will change in v5 (from all installed integrations to none). In v5, you will need to use `--report_to all` to get the same behavior as now. You should start updating your code and make this info disappear :-).\n",
      "The following columns in the Training set don't have a corresponding argument in `DistilBertForSequenceClassification.forward` and have been ignored: text. If text are not expected by `DistilBertForSequenceClassification.forward`,  you can safely ignore this message.\n",
      "***** Running training *****\n",
      "  Num examples = 8,530\n",
      "  Num Epochs = 30\n",
      "  Instantaneous batch size per device = 64\n",
      "  Total train batch size (w. parallel, distributed & accumulation) = 64\n",
      "  Gradient Accumulation steps = 1\n",
      "  Total optimization steps = 4,020\n",
      "  Number of trainable parameters = 66,955,010\n"
     ]
    },
    {
     "data": {
      "text/plain": "<IPython.core.display.HTML object>",
      "text/html": "\n    <div>\n      \n      <progress value='2' max='4020' style='width:300px; height:20px; vertical-align: middle;'></progress>\n      [   2/4020 : < :, Epoch 0.01/30]\n    </div>\n    <table border=\"1\" class=\"dataframe\">\n  <thead>\n <tr style=\"text-align: left;\">\n      <th>Epoch</th>\n      <th>Training Loss</th>\n      <th>Validation Loss</th>\n    </tr>\n  </thead>\n  <tbody>\n  </tbody>\n</table><p>"
     },
     "metadata": {},
     "output_type": "display_data"
    },
    {
     "name": "stderr",
     "output_type": "stream",
     "text": [
      "The following columns in the Evaluation set don't have a corresponding argument in `DistilBertForSequenceClassification.forward` and have been ignored: text. If text are not expected by `DistilBertForSequenceClassification.forward`,  you can safely ignore this message.\n",
      "\n",
      "***** Running Evaluation *****\n",
      "  Num examples = 1066\n",
      "  Batch size = 64\n",
      "Saving model checkpoint to ./results\\checkpoint-134\n",
      "Configuration saved in ./results\\checkpoint-134\\config.json\n",
      "Model weights saved in ./results\\checkpoint-134\\model.safetensors\n",
      "tokenizer config file saved in ./results\\checkpoint-134\\tokenizer_config.json\n",
      "Special tokens file saved in ./results\\checkpoint-134\\special_tokens_map.json\n",
      "The following columns in the Evaluation set don't have a corresponding argument in `DistilBertForSequenceClassification.forward` and have been ignored: text. If text are not expected by `DistilBertForSequenceClassification.forward`,  you can safely ignore this message.\n",
      "\n",
      "***** Running Evaluation *****\n",
      "  Num examples = 1066\n",
      "  Batch size = 64\n",
      "Saving model checkpoint to ./results\\checkpoint-268\n",
      "Configuration saved in ./results\\checkpoint-268\\config.json\n",
      "Model weights saved in ./results\\checkpoint-268\\model.safetensors\n",
      "tokenizer config file saved in ./results\\checkpoint-268\\tokenizer_config.json\n",
      "Special tokens file saved in ./results\\checkpoint-268\\special_tokens_map.json\n",
      "The following columns in the Evaluation set don't have a corresponding argument in `DistilBertForSequenceClassification.forward` and have been ignored: text. If text are not expected by `DistilBertForSequenceClassification.forward`,  you can safely ignore this message.\n",
      "\n",
      "***** Running Evaluation *****\n",
      "  Num examples = 1066\n",
      "  Batch size = 64\n",
      "Saving model checkpoint to ./results\\checkpoint-402\n",
      "Configuration saved in ./results\\checkpoint-402\\config.json\n",
      "Model weights saved in ./results\\checkpoint-402\\model.safetensors\n",
      "tokenizer config file saved in ./results\\checkpoint-402\\tokenizer_config.json\n",
      "Special tokens file saved in ./results\\checkpoint-402\\special_tokens_map.json\n",
      "Deleting older checkpoint [results\\checkpoint-268] due to args.save_total_limit\n",
      "The following columns in the Evaluation set don't have a corresponding argument in `DistilBertForSequenceClassification.forward` and have been ignored: text. If text are not expected by `DistilBertForSequenceClassification.forward`,  you can safely ignore this message.\n",
      "\n",
      "***** Running Evaluation *****\n",
      "  Num examples = 1066\n",
      "  Batch size = 64\n",
      "Saving model checkpoint to ./results\\checkpoint-536\n",
      "Configuration saved in ./results\\checkpoint-536\\config.json\n",
      "Model weights saved in ./results\\checkpoint-536\\model.safetensors\n",
      "tokenizer config file saved in ./results\\checkpoint-536\\tokenizer_config.json\n",
      "Special tokens file saved in ./results\\checkpoint-536\\special_tokens_map.json\n",
      "Deleting older checkpoint [results\\checkpoint-402] due to args.save_total_limit\n",
      "The following columns in the Evaluation set don't have a corresponding argument in `DistilBertForSequenceClassification.forward` and have been ignored: text. If text are not expected by `DistilBertForSequenceClassification.forward`,  you can safely ignore this message.\n",
      "\n",
      "***** Running Evaluation *****\n",
      "  Num examples = 1066\n",
      "  Batch size = 64\n",
      "Saving model checkpoint to ./results\\checkpoint-670\n",
      "Configuration saved in ./results\\checkpoint-670\\config.json\n",
      "Model weights saved in ./results\\checkpoint-670\\model.safetensors\n",
      "tokenizer config file saved in ./results\\checkpoint-670\\tokenizer_config.json\n",
      "Special tokens file saved in ./results\\checkpoint-670\\special_tokens_map.json\n",
      "Deleting older checkpoint [results\\checkpoint-536] due to args.save_total_limit\n",
      "The following columns in the Evaluation set don't have a corresponding argument in `DistilBertForSequenceClassification.forward` and have been ignored: text. If text are not expected by `DistilBertForSequenceClassification.forward`,  you can safely ignore this message.\n",
      "\n",
      "***** Running Evaluation *****\n",
      "  Num examples = 1066\n",
      "  Batch size = 64\n",
      "Saving model checkpoint to ./results\\checkpoint-804\n",
      "Configuration saved in ./results\\checkpoint-804\\config.json\n",
      "Model weights saved in ./results\\checkpoint-804\\model.safetensors\n",
      "tokenizer config file saved in ./results\\checkpoint-804\\tokenizer_config.json\n",
      "Special tokens file saved in ./results\\checkpoint-804\\special_tokens_map.json\n",
      "Deleting older checkpoint [results\\checkpoint-134] due to args.save_total_limit\n",
      "The following columns in the Evaluation set don't have a corresponding argument in `DistilBertForSequenceClassification.forward` and have been ignored: text. If text are not expected by `DistilBertForSequenceClassification.forward`,  you can safely ignore this message.\n",
      "\n",
      "***** Running Evaluation *****\n",
      "  Num examples = 1066\n",
      "  Batch size = 64\n",
      "Saving model checkpoint to ./results\\checkpoint-938\n",
      "Configuration saved in ./results\\checkpoint-938\\config.json\n",
      "Model weights saved in ./results\\checkpoint-938\\model.safetensors\n",
      "tokenizer config file saved in ./results\\checkpoint-938\\tokenizer_config.json\n",
      "Special tokens file saved in ./results\\checkpoint-938\\special_tokens_map.json\n",
      "Deleting older checkpoint [results\\checkpoint-670] due to args.save_total_limit\n",
      "The following columns in the Evaluation set don't have a corresponding argument in `DistilBertForSequenceClassification.forward` and have been ignored: text. If text are not expected by `DistilBertForSequenceClassification.forward`,  you can safely ignore this message.\n",
      "\n",
      "***** Running Evaluation *****\n",
      "  Num examples = 1066\n",
      "  Batch size = 64\n",
      "Saving model checkpoint to ./results\\checkpoint-1072\n",
      "Configuration saved in ./results\\checkpoint-1072\\config.json\n",
      "Model weights saved in ./results\\checkpoint-1072\\model.safetensors\n",
      "tokenizer config file saved in ./results\\checkpoint-1072\\tokenizer_config.json\n",
      "Special tokens file saved in ./results\\checkpoint-1072\\special_tokens_map.json\n",
      "Deleting older checkpoint [results\\checkpoint-938] due to args.save_total_limit\n",
      "The following columns in the Evaluation set don't have a corresponding argument in `DistilBertForSequenceClassification.forward` and have been ignored: text. If text are not expected by `DistilBertForSequenceClassification.forward`,  you can safely ignore this message.\n",
      "\n",
      "***** Running Evaluation *****\n",
      "  Num examples = 1066\n",
      "  Batch size = 64\n",
      "Saving model checkpoint to ./results\\checkpoint-1206\n",
      "Configuration saved in ./results\\checkpoint-1206\\config.json\n",
      "Model weights saved in ./results\\checkpoint-1206\\model.safetensors\n",
      "tokenizer config file saved in ./results\\checkpoint-1206\\tokenizer_config.json\n",
      "Special tokens file saved in ./results\\checkpoint-1206\\special_tokens_map.json\n",
      "Deleting older checkpoint [results\\checkpoint-1072] due to args.save_total_limit\n",
      "The following columns in the Evaluation set don't have a corresponding argument in `DistilBertForSequenceClassification.forward` and have been ignored: text. If text are not expected by `DistilBertForSequenceClassification.forward`,  you can safely ignore this message.\n",
      "\n",
      "***** Running Evaluation *****\n",
      "  Num examples = 1066\n",
      "  Batch size = 64\n",
      "Saving model checkpoint to ./results\\checkpoint-1340\n",
      "Configuration saved in ./results\\checkpoint-1340\\config.json\n",
      "Model weights saved in ./results\\checkpoint-1340\\model.safetensors\n",
      "tokenizer config file saved in ./results\\checkpoint-1340\\tokenizer_config.json\n",
      "Special tokens file saved in ./results\\checkpoint-1340\\special_tokens_map.json\n",
      "Deleting older checkpoint [results\\checkpoint-1206] due to args.save_total_limit\n",
      "The following columns in the Evaluation set don't have a corresponding argument in `DistilBertForSequenceClassification.forward` and have been ignored: text. If text are not expected by `DistilBertForSequenceClassification.forward`,  you can safely ignore this message.\n",
      "\n",
      "***** Running Evaluation *****\n",
      "  Num examples = 1066\n",
      "  Batch size = 64\n",
      "Saving model checkpoint to ./results\\checkpoint-1474\n",
      "Configuration saved in ./results\\checkpoint-1474\\config.json\n",
      "Model weights saved in ./results\\checkpoint-1474\\model.safetensors\n",
      "tokenizer config file saved in ./results\\checkpoint-1474\\tokenizer_config.json\n",
      "Special tokens file saved in ./results\\checkpoint-1474\\special_tokens_map.json\n",
      "Deleting older checkpoint [results\\checkpoint-1340] due to args.save_total_limit\n",
      "The following columns in the Evaluation set don't have a corresponding argument in `DistilBertForSequenceClassification.forward` and have been ignored: text. If text are not expected by `DistilBertForSequenceClassification.forward`,  you can safely ignore this message.\n",
      "\n",
      "***** Running Evaluation *****\n",
      "  Num examples = 1066\n",
      "  Batch size = 64\n",
      "Saving model checkpoint to ./results\\checkpoint-1608\n",
      "Configuration saved in ./results\\checkpoint-1608\\config.json\n",
      "Model weights saved in ./results\\checkpoint-1608\\model.safetensors\n",
      "tokenizer config file saved in ./results\\checkpoint-1608\\tokenizer_config.json\n",
      "Special tokens file saved in ./results\\checkpoint-1608\\special_tokens_map.json\n",
      "Deleting older checkpoint [results\\checkpoint-1474] due to args.save_total_limit\n",
      "The following columns in the Evaluation set don't have a corresponding argument in `DistilBertForSequenceClassification.forward` and have been ignored: text. If text are not expected by `DistilBertForSequenceClassification.forward`,  you can safely ignore this message.\n",
      "\n",
      "***** Running Evaluation *****\n",
      "  Num examples = 1066\n",
      "  Batch size = 64\n",
      "Saving model checkpoint to ./results\\checkpoint-1742\n",
      "Configuration saved in ./results\\checkpoint-1742\\config.json\n",
      "Model weights saved in ./results\\checkpoint-1742\\model.safetensors\n",
      "tokenizer config file saved in ./results\\checkpoint-1742\\tokenizer_config.json\n",
      "Special tokens file saved in ./results\\checkpoint-1742\\special_tokens_map.json\n",
      "Deleting older checkpoint [results\\checkpoint-1608] due to args.save_total_limit\n",
      "The following columns in the Evaluation set don't have a corresponding argument in `DistilBertForSequenceClassification.forward` and have been ignored: text. If text are not expected by `DistilBertForSequenceClassification.forward`,  you can safely ignore this message.\n",
      "\n",
      "***** Running Evaluation *****\n",
      "  Num examples = 1066\n",
      "  Batch size = 64\n",
      "Saving model checkpoint to ./results\\checkpoint-1876\n",
      "Configuration saved in ./results\\checkpoint-1876\\config.json\n",
      "Model weights saved in ./results\\checkpoint-1876\\model.safetensors\n",
      "tokenizer config file saved in ./results\\checkpoint-1876\\tokenizer_config.json\n",
      "Special tokens file saved in ./results\\checkpoint-1876\\special_tokens_map.json\n",
      "Deleting older checkpoint [results\\checkpoint-1742] due to args.save_total_limit\n",
      "The following columns in the Evaluation set don't have a corresponding argument in `DistilBertForSequenceClassification.forward` and have been ignored: text. If text are not expected by `DistilBertForSequenceClassification.forward`,  you can safely ignore this message.\n",
      "\n",
      "***** Running Evaluation *****\n",
      "  Num examples = 1066\n",
      "  Batch size = 64\n",
      "Saving model checkpoint to ./results\\checkpoint-2010\n",
      "Configuration saved in ./results\\checkpoint-2010\\config.json\n",
      "Model weights saved in ./results\\checkpoint-2010\\model.safetensors\n",
      "tokenizer config file saved in ./results\\checkpoint-2010\\tokenizer_config.json\n",
      "Special tokens file saved in ./results\\checkpoint-2010\\special_tokens_map.json\n",
      "Deleting older checkpoint [results\\checkpoint-1876] due to args.save_total_limit\n",
      "The following columns in the Evaluation set don't have a corresponding argument in `DistilBertForSequenceClassification.forward` and have been ignored: text. If text are not expected by `DistilBertForSequenceClassification.forward`,  you can safely ignore this message.\n",
      "\n",
      "***** Running Evaluation *****\n",
      "  Num examples = 1066\n",
      "  Batch size = 64\n",
      "Saving model checkpoint to ./results\\checkpoint-2144\n",
      "Configuration saved in ./results\\checkpoint-2144\\config.json\n",
      "Model weights saved in ./results\\checkpoint-2144\\model.safetensors\n",
      "tokenizer config file saved in ./results\\checkpoint-2144\\tokenizer_config.json\n",
      "Special tokens file saved in ./results\\checkpoint-2144\\special_tokens_map.json\n",
      "Deleting older checkpoint [results\\checkpoint-2010] due to args.save_total_limit\n",
      "The following columns in the Evaluation set don't have a corresponding argument in `DistilBertForSequenceClassification.forward` and have been ignored: text. If text are not expected by `DistilBertForSequenceClassification.forward`,  you can safely ignore this message.\n",
      "\n",
      "***** Running Evaluation *****\n",
      "  Num examples = 1066\n",
      "  Batch size = 64\n",
      "Saving model checkpoint to ./results\\checkpoint-2278\n",
      "Configuration saved in ./results\\checkpoint-2278\\config.json\n",
      "Model weights saved in ./results\\checkpoint-2278\\model.safetensors\n",
      "tokenizer config file saved in ./results\\checkpoint-2278\\tokenizer_config.json\n",
      "Special tokens file saved in ./results\\checkpoint-2278\\special_tokens_map.json\n",
      "Deleting older checkpoint [results\\checkpoint-2144] due to args.save_total_limit\n",
      "The following columns in the Evaluation set don't have a corresponding argument in `DistilBertForSequenceClassification.forward` and have been ignored: text. If text are not expected by `DistilBertForSequenceClassification.forward`,  you can safely ignore this message.\n",
      "\n",
      "***** Running Evaluation *****\n",
      "  Num examples = 1066\n",
      "  Batch size = 64\n",
      "Saving model checkpoint to ./results\\checkpoint-2412\n",
      "Configuration saved in ./results\\checkpoint-2412\\config.json\n",
      "Model weights saved in ./results\\checkpoint-2412\\model.safetensors\n",
      "tokenizer config file saved in ./results\\checkpoint-2412\\tokenizer_config.json\n",
      "Special tokens file saved in ./results\\checkpoint-2412\\special_tokens_map.json\n",
      "Deleting older checkpoint [results\\checkpoint-2278] due to args.save_total_limit\n",
      "The following columns in the Evaluation set don't have a corresponding argument in `DistilBertForSequenceClassification.forward` and have been ignored: text. If text are not expected by `DistilBertForSequenceClassification.forward`,  you can safely ignore this message.\n",
      "\n",
      "***** Running Evaluation *****\n",
      "  Num examples = 1066\n",
      "  Batch size = 64\n",
      "Saving model checkpoint to ./results\\checkpoint-2546\n",
      "Configuration saved in ./results\\checkpoint-2546\\config.json\n",
      "Model weights saved in ./results\\checkpoint-2546\\model.safetensors\n",
      "tokenizer config file saved in ./results\\checkpoint-2546\\tokenizer_config.json\n",
      "Special tokens file saved in ./results\\checkpoint-2546\\special_tokens_map.json\n",
      "Deleting older checkpoint [results\\checkpoint-2412] due to args.save_total_limit\n",
      "The following columns in the Evaluation set don't have a corresponding argument in `DistilBertForSequenceClassification.forward` and have been ignored: text. If text are not expected by `DistilBertForSequenceClassification.forward`,  you can safely ignore this message.\n",
      "\n",
      "***** Running Evaluation *****\n",
      "  Num examples = 1066\n",
      "  Batch size = 64\n",
      "Saving model checkpoint to ./results\\checkpoint-2680\n",
      "Configuration saved in ./results\\checkpoint-2680\\config.json\n",
      "Model weights saved in ./results\\checkpoint-2680\\model.safetensors\n",
      "tokenizer config file saved in ./results\\checkpoint-2680\\tokenizer_config.json\n",
      "Special tokens file saved in ./results\\checkpoint-2680\\special_tokens_map.json\n",
      "Deleting older checkpoint [results\\checkpoint-2546] due to args.save_total_limit\n",
      "The following columns in the Evaluation set don't have a corresponding argument in `DistilBertForSequenceClassification.forward` and have been ignored: text. If text are not expected by `DistilBertForSequenceClassification.forward`,  you can safely ignore this message.\n",
      "\n",
      "***** Running Evaluation *****\n",
      "  Num examples = 1066\n",
      "  Batch size = 64\n",
      "Saving model checkpoint to ./results\\checkpoint-2814\n",
      "Configuration saved in ./results\\checkpoint-2814\\config.json\n",
      "Model weights saved in ./results\\checkpoint-2814\\model.safetensors\n",
      "tokenizer config file saved in ./results\\checkpoint-2814\\tokenizer_config.json\n",
      "Special tokens file saved in ./results\\checkpoint-2814\\special_tokens_map.json\n",
      "Deleting older checkpoint [results\\checkpoint-2680] due to args.save_total_limit\n",
      "The following columns in the Evaluation set don't have a corresponding argument in `DistilBertForSequenceClassification.forward` and have been ignored: text. If text are not expected by `DistilBertForSequenceClassification.forward`,  you can safely ignore this message.\n",
      "\n",
      "***** Running Evaluation *****\n",
      "  Num examples = 1066\n",
      "  Batch size = 64\n",
      "Saving model checkpoint to ./results\\checkpoint-2948\n",
      "Configuration saved in ./results\\checkpoint-2948\\config.json\n",
      "Model weights saved in ./results\\checkpoint-2948\\model.safetensors\n",
      "tokenizer config file saved in ./results\\checkpoint-2948\\tokenizer_config.json\n",
      "Special tokens file saved in ./results\\checkpoint-2948\\special_tokens_map.json\n",
      "Deleting older checkpoint [results\\checkpoint-2814] due to args.save_total_limit\n",
      "The following columns in the Evaluation set don't have a corresponding argument in `DistilBertForSequenceClassification.forward` and have been ignored: text. If text are not expected by `DistilBertForSequenceClassification.forward`,  you can safely ignore this message.\n",
      "\n",
      "***** Running Evaluation *****\n",
      "  Num examples = 1066\n",
      "  Batch size = 64\n",
      "Saving model checkpoint to ./results\\checkpoint-3082\n",
      "Configuration saved in ./results\\checkpoint-3082\\config.json\n",
      "Model weights saved in ./results\\checkpoint-3082\\model.safetensors\n",
      "tokenizer config file saved in ./results\\checkpoint-3082\\tokenizer_config.json\n",
      "Special tokens file saved in ./results\\checkpoint-3082\\special_tokens_map.json\n",
      "Deleting older checkpoint [results\\checkpoint-2948] due to args.save_total_limit\n",
      "The following columns in the Evaluation set don't have a corresponding argument in `DistilBertForSequenceClassification.forward` and have been ignored: text. If text are not expected by `DistilBertForSequenceClassification.forward`,  you can safely ignore this message.\n",
      "\n",
      "***** Running Evaluation *****\n",
      "  Num examples = 1066\n",
      "  Batch size = 64\n",
      "Saving model checkpoint to ./results\\checkpoint-3216\n",
      "Configuration saved in ./results\\checkpoint-3216\\config.json\n",
      "Model weights saved in ./results\\checkpoint-3216\\model.safetensors\n",
      "tokenizer config file saved in ./results\\checkpoint-3216\\tokenizer_config.json\n",
      "Special tokens file saved in ./results\\checkpoint-3216\\special_tokens_map.json\n",
      "Deleting older checkpoint [results\\checkpoint-3082] due to args.save_total_limit\n",
      "The following columns in the Evaluation set don't have a corresponding argument in `DistilBertForSequenceClassification.forward` and have been ignored: text. If text are not expected by `DistilBertForSequenceClassification.forward`,  you can safely ignore this message.\n",
      "\n",
      "***** Running Evaluation *****\n",
      "  Num examples = 1066\n",
      "  Batch size = 64\n",
      "Saving model checkpoint to ./results\\checkpoint-3350\n",
      "Configuration saved in ./results\\checkpoint-3350\\config.json\n",
      "Model weights saved in ./results\\checkpoint-3350\\model.safetensors\n",
      "tokenizer config file saved in ./results\\checkpoint-3350\\tokenizer_config.json\n",
      "Special tokens file saved in ./results\\checkpoint-3350\\special_tokens_map.json\n",
      "Deleting older checkpoint [results\\checkpoint-3216] due to args.save_total_limit\n",
      "The following columns in the Evaluation set don't have a corresponding argument in `DistilBertForSequenceClassification.forward` and have been ignored: text. If text are not expected by `DistilBertForSequenceClassification.forward`,  you can safely ignore this message.\n",
      "\n",
      "***** Running Evaluation *****\n",
      "  Num examples = 1066\n",
      "  Batch size = 64\n",
      "Saving model checkpoint to ./results\\checkpoint-3484\n",
      "Configuration saved in ./results\\checkpoint-3484\\config.json\n",
      "Model weights saved in ./results\\checkpoint-3484\\model.safetensors\n",
      "tokenizer config file saved in ./results\\checkpoint-3484\\tokenizer_config.json\n",
      "Special tokens file saved in ./results\\checkpoint-3484\\special_tokens_map.json\n",
      "Deleting older checkpoint [results\\checkpoint-3350] due to args.save_total_limit\n",
      "The following columns in the Evaluation set don't have a corresponding argument in `DistilBertForSequenceClassification.forward` and have been ignored: text. If text are not expected by `DistilBertForSequenceClassification.forward`,  you can safely ignore this message.\n",
      "\n",
      "***** Running Evaluation *****\n",
      "  Num examples = 1066\n",
      "  Batch size = 64\n",
      "Saving model checkpoint to ./results\\checkpoint-3618\n",
      "Configuration saved in ./results\\checkpoint-3618\\config.json\n",
      "Model weights saved in ./results\\checkpoint-3618\\model.safetensors\n",
      "tokenizer config file saved in ./results\\checkpoint-3618\\tokenizer_config.json\n",
      "Special tokens file saved in ./results\\checkpoint-3618\\special_tokens_map.json\n",
      "Deleting older checkpoint [results\\checkpoint-3484] due to args.save_total_limit\n",
      "The following columns in the Evaluation set don't have a corresponding argument in `DistilBertForSequenceClassification.forward` and have been ignored: text. If text are not expected by `DistilBertForSequenceClassification.forward`,  you can safely ignore this message.\n",
      "\n",
      "***** Running Evaluation *****\n",
      "  Num examples = 1066\n",
      "  Batch size = 64\n",
      "Saving model checkpoint to ./results\\checkpoint-3752\n",
      "Configuration saved in ./results\\checkpoint-3752\\config.json\n",
      "Model weights saved in ./results\\checkpoint-3752\\model.safetensors\n",
      "tokenizer config file saved in ./results\\checkpoint-3752\\tokenizer_config.json\n",
      "Special tokens file saved in ./results\\checkpoint-3752\\special_tokens_map.json\n",
      "Deleting older checkpoint [results\\checkpoint-3618] due to args.save_total_limit\n",
      "The following columns in the Evaluation set don't have a corresponding argument in `DistilBertForSequenceClassification.forward` and have been ignored: text. If text are not expected by `DistilBertForSequenceClassification.forward`,  you can safely ignore this message.\n",
      "\n",
      "***** Running Evaluation *****\n",
      "  Num examples = 1066\n",
      "  Batch size = 64\n",
      "Saving model checkpoint to ./results\\checkpoint-3886\n",
      "Configuration saved in ./results\\checkpoint-3886\\config.json\n",
      "Model weights saved in ./results\\checkpoint-3886\\model.safetensors\n",
      "tokenizer config file saved in ./results\\checkpoint-3886\\tokenizer_config.json\n",
      "Special tokens file saved in ./results\\checkpoint-3886\\special_tokens_map.json\n",
      "Deleting older checkpoint [results\\checkpoint-3752] due to args.save_total_limit\n",
      "The following columns in the Evaluation set don't have a corresponding argument in `DistilBertForSequenceClassification.forward` and have been ignored: text. If text are not expected by `DistilBertForSequenceClassification.forward`,  you can safely ignore this message.\n",
      "\n",
      "***** Running Evaluation *****\n",
      "  Num examples = 1066\n",
      "  Batch size = 64\n",
      "Saving model checkpoint to ./results\\checkpoint-4020\n",
      "Configuration saved in ./results\\checkpoint-4020\\config.json\n",
      "Model weights saved in ./results\\checkpoint-4020\\model.safetensors\n",
      "tokenizer config file saved in ./results\\checkpoint-4020\\tokenizer_config.json\n",
      "Special tokens file saved in ./results\\checkpoint-4020\\special_tokens_map.json\n",
      "Deleting older checkpoint [results\\checkpoint-3886] due to args.save_total_limit\n",
      "\n",
      "\n",
      "Training completed. Do not forget to share your model on huggingface.co/models =)\n",
      "\n",
      "\n",
      "Loading best model from ./results\\checkpoint-804 (score: 0.8470919324577861).\n",
      "Deleting older checkpoint [results\\checkpoint-4020] due to args.save_total_limit\n"
     ]
    },
    {
     "data": {
      "text/plain": "TrainOutput(global_step=4020, training_loss=0.0009202774501549112, metrics={'train_runtime': 3209.7005, 'train_samples_per_second': 79.727, 'train_steps_per_second': 1.252, 'total_flos': 3698470624796808.0, 'train_loss': 0.0009202774501549112, 'epoch': 30.0})"
     },
     "execution_count": 58,
     "metadata": {},
     "output_type": "execute_result"
    }
   ],
   "source": [
    "data_collator = DataCollatorWithPadding(tokenizer=tokenizer)\n",
    "\n",
    "\n",
    "training_args = TrainingArguments(\n",
    "    output_dir=\"./output\",\n",
    "    logging_dir=\"./logs\",\n",
    "    eval_strategy=\"epoch\",      \n",
    "    save_strategy=\"epoch\",  \n",
    "    save_total_limit=1,           \n",
    "    load_best_model_at_end=True,   \n",
    "    metric_for_best_model=\"accuracy\",\n",
    "    greater_is_better=True,\n",
    "    per_device_train_batch_size=64,\n",
    "    per_device_eval_batch_size=64,\n",
    "    num_train_epochs=30,\n",
    "    logging_strategy=\"epoch\" \n",
    ")\n",
    "\n",
    "trainer = Trainer(\n",
    "    model=model,\n",
    "    args=training_args,\n",
    "    train_dataset=tokenized_train,\n",
    "    eval_dataset=tokenized_val,\n",
    "    processing_class=tokenizer,\n",
    "    data_collator=data_collator,\n",
    "    compute_metrics=compute_metrics,\n",
    ")\n",
    "\n",
    "trainer.train()"
   ],
   "metadata": {
    "collapsed": false,
    "ExecuteTime": {
     "end_time": "2025-08-30T22:00:28.334001400Z",
     "start_time": "2025-08-30T21:06:57.653435300Z"
    }
   },
   "id": "853ddfbb494f78bb"
  },
  {
   "cell_type": "code",
   "execution_count": 62,
   "outputs": [
    {
     "name": "stderr",
     "output_type": "stream",
     "text": [
      "The following columns in the Evaluation set don't have a corresponding argument in `DistilBertForSequenceClassification.forward` and have been ignored: text. If text are not expected by `DistilBertForSequenceClassification.forward`,  you can safely ignore this message.\n",
      "\n",
      "***** Running Evaluation *****\n",
      "  Num examples = 1066\n",
      "  Batch size = 64\n"
     ]
    },
    {
     "data": {
      "text/plain": "   eval_loss  eval_accuracy  eval_precision  eval_recall   eval_f1  \\\n0    1.55037       0.847092        0.855769     0.834897  0.845204   \n\n   eval_runtime  eval_samples_per_second  eval_steps_per_second  epoch  \n0        2.9078                  366.598                  5.846   30.0  ",
      "text/html": "<div>\n<style scoped>\n    .dataframe tbody tr th:only-of-type {\n        vertical-align: middle;\n    }\n\n    .dataframe tbody tr th {\n        vertical-align: top;\n    }\n\n    .dataframe thead th {\n        text-align: right;\n    }\n</style>\n<table border=\"1\" class=\"dataframe\">\n  <thead>\n    <tr style=\"text-align: right;\">\n      <th></th>\n      <th>eval_loss</th>\n      <th>eval_accuracy</th>\n      <th>eval_precision</th>\n      <th>eval_recall</th>\n      <th>eval_f1</th>\n      <th>eval_runtime</th>\n      <th>eval_samples_per_second</th>\n      <th>eval_steps_per_second</th>\n      <th>epoch</th>\n    </tr>\n  </thead>\n  <tbody>\n    <tr>\n      <th>0</th>\n      <td>1.55037</td>\n      <td>0.847092</td>\n      <td>0.855769</td>\n      <td>0.834897</td>\n      <td>0.845204</td>\n      <td>2.9078</td>\n      <td>366.598</td>\n      <td>5.846</td>\n      <td>30.0</td>\n    </tr>\n  </tbody>\n</table>\n</div>"
     },
     "execution_count": 62,
     "metadata": {},
     "output_type": "execute_result"
    }
   ],
   "source": [
    "results = trainer.evaluate()\n",
    "\n",
    "df_results = pd.DataFrame([results])\n",
    "df_results"
   ],
   "metadata": {
    "collapsed": false,
    "ExecuteTime": {
     "end_time": "2025-08-31T00:12:54.807037500Z",
     "start_time": "2025-08-31T00:12:51.821064600Z"
    }
   },
   "id": "a970711be1459b1e"
  },
  {
   "cell_type": "markdown",
   "source": [
    "#### Exercise 3.2: Fine-tuning a CLIP Model (harder)\n",
    "\n",
    "Use a (small) CLIP model like [`openai/clip-vit-base-patch16`](https://huggingface.co/openai/clip-vit-base-patch16) and evaluate its zero-shot performance on a small image classification dataset like ImageNette or TinyImageNet. Fine-tune (using a parameter-efficient method!) the CLIP model to see how much improvement you can squeeze out of it.\n",
    "\n",
    "**Note**: There are several ways to adapt the CLIP model; you could fine-tune the image encoder, the text encoder, or both. Or, you could experiment with prompt learning.\n",
    "\n",
    "**Tip**: CLIP probably already works very well on ImageNet and ImageNet-like images. For extra fun, look for an image classification dataset with different image types (e.g. *sketches*)."
   ],
   "metadata": {
    "collapsed": false
   },
   "id": "5eeca737-ee00-4d98-a3ae-f4d6eb3d264f"
  },
  {
   "cell_type": "code",
   "execution_count": 8,
   "id": "00b59ec2-4fe6-44c6-ab0b-0069f486bbb5",
   "metadata": {
    "ExecuteTime": {
     "end_time": "2025-08-31T13:24:59.167297400Z",
     "start_time": "2025-08-31T13:24:56.990252100Z"
    }
   },
   "outputs": [],
   "source": [
    "dataset = load_dataset(\"zh-plus/tiny-imagenet\", split=\"valid\")"
   ]
  },
  {
   "cell_type": "code",
   "execution_count": 9,
   "outputs": [
    {
     "name": "stdout",
     "output_type": "stream",
     "text": [
      "0: goldfish\n",
      "1: European fire salamander\n",
      "2: bullfrog\n",
      "3: tailed frog\n",
      "4: American alligator\n",
      "5: boa constrictor\n",
      "6: trilobite\n",
      "7: scorpion\n",
      "8: black widow\n",
      "9: tarantula\n"
     ]
    }
   ],
   "source": [
    "words_file = 'words.txt'  # to map class names into human understandable labels\n",
    "wnid_to_name = {}\n",
    "\n",
    "with open(words_file) as f:\n",
    "    for line in f:\n",
    "        wnid, name = line.strip().split(\"\\t\")\n",
    "        wnid_to_name[wnid] = name.split(\",\")[0]  # to take only the first description, example  black widow, Latrodectus mactans -> black widow\n",
    "\n",
    "idx_to_class_name = {\n",
    "    i: wnid_to_name[wnid]\n",
    "    for i, wnid in enumerate(dataset.features[\"label\"].names)\n",
    "}\n",
    "\n",
    "for i in range(10):\n",
    "    print(f\"{i}: {idx_to_class_name[i]}\")"
   ],
   "metadata": {
    "collapsed": false,
    "ExecuteTime": {
     "end_time": "2025-08-31T13:25:00.824238300Z",
     "start_time": "2025-08-31T13:25:00.730348800Z"
    }
   },
   "id": "9e170df254843859"
  },
  {
   "cell_type": "code",
   "execution_count": 10,
   "outputs": [
    {
     "data": {
      "text/plain": "<Figure size 640x480 with 1 Axes>",
      "image/png": "[encoded data removed]"
     },
     "metadata": {},
     "output_type": "display_data"
    }
   ],
   "source": [
    "def show_image_with_label(idx, save=False):\n",
    "    item = dataset[idx]\n",
    "    image = item[\"image\"]\n",
    "    label_idx = item[\"label\"]\n",
    "    label_name = idx_to_class_name.get(label_idx, f\"Unknown ({label_idx})\")\n",
    "    \n",
    "    plt.imshow(image)\n",
    "    plt.title(f\"Label: {label_name}\")\n",
    "    plt.axis('off')\n",
    "    plt.show()\n",
    "    \n",
    "    if save:\n",
    "        image.save(\"image.jpg\")\n",
    "\n",
    "\n",
    "show_image_with_label(32)"
   ],
   "metadata": {
    "collapsed": false,
    "ExecuteTime": {
     "end_time": "2025-08-31T13:25:04.244491300Z",
     "start_time": "2025-08-31T13:25:04.149164300Z"
    }
   },
   "id": "184c021ac7635337"
  },
  {
   "cell_type": "code",
   "execution_count": 39,
   "outputs": [
    {
     "data": {
      "text/plain": "Fetching 1 files:   0%|          | 0/1 [00:00<?, ?it/s]",
      "application/vnd.jupyter.widget-view+json": {
       "version_major": 2,
       "version_minor": 0,
       "model_id": "04c768da5a87492cbbfa031f7159edab"
      }
     },
     "metadata": {},
     "output_type": "display_data"
    }
   ],
   "source": [
    "device = \"cuda\" if torch.cuda.is_available() else \"cpu\"\n",
    "model_name = \"openai/clip-vit-base-patch16\"\n",
    "model = CLIPModel.from_pretrained(model_name).to(device)\n",
    "processor = CLIPProcessor.from_pretrained(model_name)"
   ],
   "metadata": {
    "collapsed": false,
    "ExecuteTime": {
     "end_time": "2025-08-31T13:36:14.649024700Z",
     "start_time": "2025-08-31T13:36:10.609983200Z"
    }
   },
   "id": "b90c03b88d27e346"
  },
  {
   "cell_type": "code",
   "execution_count": 138,
   "outputs": [
    {
     "data": {
      "text/plain": "<Figure size 640x480 with 1 Axes>",
      "image/png": "[encoded data removed]"
     },
     "metadata": {},
     "output_type": "display_data"
    },
    {
     "name": "stdout",
     "output_type": "stream",
     "text": [
      "\n",
      "Top-5 predictions:\n",
      "1: goldfish -> 0.776\n",
      "2: brain coral -> 0.066\n",
      "3: coral reef -> 0.055\n",
      "4: dugong -> 0.013\n",
      "5: reel -> 0.009\n"
     ]
    }
   ],
   "source": [
    "def show_image_with_clip_prediction(idx, topk=5, save=False):\n",
    "    item = dataset[idx]\n",
    "    image = item[\"image\"]\n",
    "    label_idx = item[\"label\"]\n",
    "    label_name = idx_to_class_name[label_idx]\n",
    "    \n",
    "\n",
    "    class_labels = [idx_to_class_name[i] for i in range(len(idx_to_class_name))]\n",
    "    text_inputs = processor(text=class_labels, return_tensors=\"pt\", padding=True).to(device)\n",
    "    image_input = processor(images=image, return_tensors=\"pt\").to(device)\n",
    "\n",
    "    \n",
    "    with torch.no_grad():\n",
    "        outputs = model(**image_input, **text_inputs)\n",
    "        logits_per_image = outputs.logits_per_image\n",
    "        probs = logits_per_image.softmax(dim=-1)\n",
    "        pred_idx = logits_per_image.argmax().item()\n",
    "    \n",
    "    plt.imshow(image)\n",
    "    plt.title(f\"True: {label_name} | Predicted: {idx_to_class_name[pred_idx]}\")\n",
    "    plt.axis(\"off\")\n",
    "    plt.show()\n",
    "    \n",
    "    top_probs, top_idx = probs.topk(topk)\n",
    "    print(f\"\\nTop-{topk} predictions:\")\n",
    "    for i, (p, j) in enumerate(zip(top_probs[0], top_idx[0])):\n",
    "        print(f\"{i+1}: {idx_to_class_name[j.item()]} -> {p.item():.3f}\")\n",
    "    \n",
    "    if save:\n",
    "        image.save(\"image_pred.jpg\")\n",
    "\n",
    "show_image_with_clip_prediction(32)"
   ],
   "metadata": {
    "collapsed": false,
    "ExecuteTime": {
     "end_time": "2025-08-31T12:32:32.118564Z",
     "start_time": "2025-08-31T12:32:31.700365800Z"
    }
   },
   "id": "a43b0f5b2ed8826e"
  },
  {
   "cell_type": "code",
   "execution_count": 16,
   "outputs": [],
   "source": [
    "n_val = 100\n",
    "n_train = 500 \n",
    "seed = 29\n",
    "\n",
    "\n",
    "random.seed(seed)\n",
    "all_indices = list(range(len(dataset)))\n",
    "\n",
    "val_indices = random.sample(all_indices, n_val)\n",
    "\n",
    "remaining_indices = list(set(all_indices) - set(val_indices))\n",
    "train_indices = random.sample(remaining_indices, n_train)\n",
    "\n",
    "train_subset = [dataset[i] for i in train_indices]\n",
    "val_subset = [dataset[i] for i in val_indices]"
   ],
   "metadata": {
    "collapsed": false,
    "ExecuteTime": {
     "end_time": "2025-08-31T13:25:55.791316900Z",
     "start_time": "2025-08-31T13:25:55.634272Z"
    }
   },
   "id": "ca5f688d09cc53e0"
  },
  {
   "cell_type": "code",
   "execution_count": 17,
   "outputs": [],
   "source": [
    "class_labels = [idx_to_class_name[i] for i in range(len(idx_to_class_name))]\n",
    "text_inputs = processor(text=class_labels, return_tensors=\"pt\", padding=True).to(device)"
   ],
   "metadata": {
    "collapsed": false,
    "ExecuteTime": {
     "end_time": "2025-08-31T13:25:59.335785100Z",
     "start_time": "2025-08-31T13:25:59.302192700Z"
    }
   },
   "id": "62a4483cd6f96989"
  },
  {
   "cell_type": "code",
   "execution_count": 14,
   "outputs": [
    {
     "name": "stderr",
     "output_type": "stream",
     "text": [
      "Zero-shot evaluation: 100%|██████████| 100/100 [00:06<00:00, 15.38it/s]"
     ]
    },
    {
     "name": "stdout",
     "output_type": "stream",
     "text": [
      "Zero-shot accuracy on 100 validation samples: 0.6300\n"
     ]
    },
    {
     "name": "stderr",
     "output_type": "stream",
     "text": [
      "\n"
     ]
    }
   ],
   "source": [
    "correct = 0\n",
    "\n",
    "for item in tqdm(val_subset, desc=\"Zero-shot evaluation\"):\n",
    "    image = processor(images=item[\"image\"], return_tensors=\"pt\").to(device)\n",
    "    with torch.no_grad():\n",
    "        outputs = model(**image, **text_inputs)\n",
    "        logits_per_image = outputs.logits_per_image\n",
    "        pred_idx = logits_per_image.argmax().item()\n",
    "    \n",
    "    if pred_idx == item[\"label\"]:\n",
    "        correct += 1\n",
    "\n",
    "accuracy = correct / n_val\n",
    "print(f\"Zero-shot accuracy on {n_val} validation samples: {accuracy:.4f}\")"
   ],
   "metadata": {
    "collapsed": false,
    "ExecuteTime": {
     "end_time": "2025-08-31T13:25:36.779066300Z",
     "start_time": "2025-08-31T13:25:30.269548900Z"
    }
   },
   "id": "aff1d477c3f7af1e"
  },
  {
   "cell_type": "markdown",
   "source": [
    "#### Let's try to add \"a photo of a ...\" to the text inputs, to have a simple baseline for the fine tuning"
   ],
   "metadata": {
    "collapsed": false
   },
   "id": "d2ec75bf55f5600d"
  },
  {
   "cell_type": "code",
   "execution_count": 147,
   "outputs": [
    {
     "name": "stderr",
     "output_type": "stream",
     "text": [
      "Zero-shot evaluation with prompts: 100%|██████████| 100/100 [00:07<00:00, 12.92it/s]"
     ]
    },
    {
     "name": "stdout",
     "output_type": "stream",
     "text": [
      "Zero-shot accuracy with 'a photo of a ...' prompts on 100 validation samples: 0.7000\n"
     ]
    },
    {
     "name": "stderr",
     "output_type": "stream",
     "text": [
      "\n"
     ]
    }
   ],
   "source": [
    "prompted_class_labels = [f\"a photo of a {label}\" for label in class_labels]\n",
    "text_inputs = processor(text=prompted_class_labels, return_tensors=\"pt\", padding=True).to(device)\n",
    "\n",
    "correct = 0\n",
    "\n",
    "for item in tqdm(val_subset, desc=\"Zero-shot evaluation with prompts\"):\n",
    "    image_input = processor(images=item[\"image\"], return_tensors=\"pt\").to(device)\n",
    "    \n",
    "    with torch.no_grad():\n",
    "        outputs = model(**image_input, **text_inputs)\n",
    "        logits_per_image = outputs.logits_per_image\n",
    "        pred_idx = logits_per_image.argmax().item()\n",
    "    \n",
    "    if pred_idx == item[\"label\"]:\n",
    "        correct += 1\n",
    "\n",
    "accuracy = correct / n_val\n",
    "print(f\"Zero-shot accuracy with 'a photo of a ...' prompts on {n_val} validation samples: {accuracy:.4f}\")\n"
   ],
   "metadata": {
    "collapsed": false,
    "ExecuteTime": {
     "end_time": "2025-08-31T12:36:44.164389Z",
     "start_time": "2025-08-31T12:36:36.407636600Z"
    }
   },
   "id": "721e739807b6b7f0"
  },
  {
   "cell_type": "markdown",
   "source": [
    "#### Fine tuning"
   ],
   "metadata": {
    "collapsed": false
   },
   "id": "c585d2f1f6028d"
  },
  {
   "cell_type": "code",
   "execution_count": 18,
   "outputs": [
    {
     "name": "stdout",
     "output_type": "stream",
     "text": [
      "Text encoder: \n",
      "\n",
      " CLIPTextTransformer(\n",
      "  (embeddings): CLIPTextEmbeddings(\n",
      "    (token_embedding): Embedding(49408, 512)\n",
      "    (position_embedding): Embedding(77, 512)\n",
      "  )\n",
      "  (encoder): CLIPEncoder(\n",
      "    (layers): ModuleList(\n",
      "      (0-11): 12 x CLIPEncoderLayer(\n",
      "        (self_attn): CLIPAttention(\n",
      "          (k_proj): Linear(in_features=512, out_features=512, bias=True)\n",
      "          (v_proj): Linear(in_features=512, out_features=512, bias=True)\n",
      "          (q_proj): Linear(in_features=512, out_features=512, bias=True)\n",
      "          (out_proj): Linear(in_features=512, out_features=512, bias=True)\n",
      "        )\n",
      "        (layer_norm1): LayerNorm((512,), eps=1e-05, elementwise_affine=True)\n",
      "        (mlp): CLIPMLP(\n",
      "          (activation_fn): QuickGELUActivation()\n",
      "          (fc1): Linear(in_features=512, out_features=2048, bias=True)\n",
      "          (fc2): Linear(in_features=2048, out_features=512, bias=True)\n",
      "        )\n",
      "        (layer_norm2): LayerNorm((512,), eps=1e-05, elementwise_affine=True)\n",
      "      )\n",
      "    )\n",
      "  )\n",
      "  (final_layer_norm): LayerNorm((512,), eps=1e-05, elementwise_affine=True)\n",
      ")\n",
      "embeddings CLIPTextEmbeddings(\n",
      "  (token_embedding): Embedding(49408, 512)\n",
      "  (position_embedding): Embedding(77, 512)\n",
      ")\n",
      "embeddings.token_embedding Embedding(49408, 512)\n",
      "embeddings.position_embedding Embedding(77, 512)\n",
      "encoder CLIPEncoder(\n",
      "  (layers): ModuleList(\n",
      "    (0-11): 12 x CLIPEncoderLayer(\n",
      "      (self_attn): CLIPAttention(\n",
      "        (k_proj): Linear(in_features=512, out_features=512, bias=True)\n",
      "        (v_proj): Linear(in_features=512, out_features=512, bias=True)\n",
      "        (q_proj): Linear(in_features=512, out_features=512, bias=True)\n",
      "        (out_proj): Linear(in_features=512, out_features=512, bias=True)\n",
      "      )\n",
      "      (layer_norm1): LayerNorm((512,), eps=1e-05, elementwise_affine=True)\n",
      "      (mlp): CLIPMLP(\n",
      "        (activation_fn): QuickGELUActivation()\n",
      "        (fc1): Linear(in_features=512, out_features=2048, bias=True)\n",
      "        (fc2): Linear(in_features=2048, out_features=512, bias=True)\n",
      "      )\n",
      "      (layer_norm2): LayerNorm((512,), eps=1e-05, elementwise_affine=True)\n",
      "    )\n",
      "  )\n",
      ")\n",
      "encoder.layers ModuleList(\n",
      "  (0-11): 12 x CLIPEncoderLayer(\n",
      "    (self_attn): CLIPAttention(\n",
      "      (k_proj): Linear(in_features=512, out_features=512, bias=True)\n",
      "      (v_proj): Linear(in_features=512, out_features=512, bias=True)\n",
      "      (q_proj): Linear(in_features=512, out_features=512, bias=True)\n",
      "      (out_proj): Linear(in_features=512, out_features=512, bias=True)\n",
      "    )\n",
      "    (layer_norm1): LayerNorm((512,), eps=1e-05, elementwise_affine=True)\n",
      "    (mlp): CLIPMLP(\n",
      "      (activation_fn): QuickGELUActivation()\n",
      "      (fc1): Linear(in_features=512, out_features=2048, bias=True)\n",
      "      (fc2): Linear(in_features=2048, out_features=512, bias=True)\n",
      "    )\n",
      "    (layer_norm2): LayerNorm((512,), eps=1e-05, elementwise_affine=True)\n",
      "  )\n",
      ")\n",
      "encoder.layers.0 CLIPEncoderLayer(\n",
      "  (self_attn): CLIPAttention(\n",
      "    (k_proj): Linear(in_features=512, out_features=512, bias=True)\n",
      "    (v_proj): Linear(in_features=512, out_features=512, bias=True)\n",
      "    (q_proj): Linear(in_features=512, out_features=512, bias=True)\n",
      "    (out_proj): Linear(in_features=512, out_features=512, bias=True)\n",
      "  )\n",
      "  (layer_norm1): LayerNorm((512,), eps=1e-05, elementwise_affine=True)\n",
      "  (mlp): CLIPMLP(\n",
      "    (activation_fn): QuickGELUActivation()\n",
      "    (fc1): Linear(in_features=512, out_features=2048, bias=True)\n",
      "    (fc2): Linear(in_features=2048, out_features=512, bias=True)\n",
      "  )\n",
      "  (layer_norm2): LayerNorm((512,), eps=1e-05, elementwise_affine=True)\n",
      ")\n",
      "encoder.layers.0.self_attn CLIPAttention(\n",
      "  (k_proj): Linear(in_features=512, out_features=512, bias=True)\n",
      "  (v_proj): Linear(in_features=512, out_features=512, bias=True)\n",
      "  (q_proj): Linear(in_features=512, out_features=512, bias=True)\n",
      "  (out_proj): Linear(in_features=512, out_features=512, bias=True)\n",
      ")\n",
      "encoder.layers.0.self_attn.k_proj Linear(in_features=512, out_features=512, bias=True)\n",
      "encoder.layers.0.self_attn.v_proj Linear(in_features=512, out_features=512, bias=True)\n",
      "encoder.layers.0.self_attn.q_proj Linear(in_features=512, out_features=512, bias=True)\n",
      "encoder.layers.0.self_attn.out_proj Linear(in_features=512, out_features=512, bias=True)\n",
      "encoder.layers.0.layer_norm1 LayerNorm((512,), eps=1e-05, elementwise_affine=True)\n",
      "encoder.layers.0.mlp CLIPMLP(\n",
      "  (activation_fn): QuickGELUActivation()\n",
      "  (fc1): Linear(in_features=512, out_features=2048, bias=True)\n",
      "  (fc2): Linear(in_features=2048, out_features=512, bias=True)\n",
      ")\n",
      "encoder.layers.0.mlp.activation_fn QuickGELUActivation()\n",
      "encoder.layers.0.mlp.fc1 Linear(in_features=512, out_features=2048, bias=True)\n",
      "encoder.layers.0.mlp.fc2 Linear(in_features=2048, out_features=512, bias=True)\n",
      "encoder.layers.0.layer_norm2 LayerNorm((512,), eps=1e-05, elementwise_affine=True)\n",
      "encoder.layers.1 CLIPEncoderLayer(\n",
      "  (self_attn): CLIPAttention(\n",
      "    (k_proj): Linear(in_features=512, out_features=512, bias=True)\n",
      "    (v_proj): Linear(in_features=512, out_features=512, bias=True)\n",
      "    (q_proj): Linear(in_features=512, out_features=512, bias=True)\n",
      "    (out_proj): Linear(in_features=512, out_features=512, bias=True)\n",
      "  )\n",
      "  (layer_norm1): LayerNorm((512,), eps=1e-05, elementwise_affine=True)\n",
      "  (mlp): CLIPMLP(\n",
      "    (activation_fn): QuickGELUActivation()\n",
      "    (fc1): Linear(in_features=512, out_features=2048, bias=True)\n",
      "    (fc2): Linear(in_features=2048, out_features=512, bias=True)\n",
      "  )\n",
      "  (layer_norm2): LayerNorm((512,), eps=1e-05, elementwise_affine=True)\n",
      ")\n",
      "encoder.layers.1.self_attn CLIPAttention(\n",
      "  (k_proj): Linear(in_features=512, out_features=512, bias=True)\n",
      "  (v_proj): Linear(in_features=512, out_features=512, bias=True)\n",
      "  (q_proj): Linear(in_features=512, out_features=512, bias=True)\n",
      "  (out_proj): Linear(in_features=512, out_features=512, bias=True)\n",
      ")\n",
      "encoder.layers.1.self_attn.k_proj Linear(in_features=512, out_features=512, bias=True)\n",
      "encoder.layers.1.self_attn.v_proj Linear(in_features=512, out_features=512, bias=True)\n",
      "encoder.layers.1.self_attn.q_proj Linear(in_features=512, out_features=512, bias=True)\n",
      "encoder.layers.1.self_attn.out_proj Linear(in_features=512, out_features=512, bias=True)\n",
      "encoder.layers.1.layer_norm1 LayerNorm((512,), eps=1e-05, elementwise_affine=True)\n",
      "encoder.layers.1.mlp CLIPMLP(\n",
      "  (activation_fn): QuickGELUActivation()\n",
      "  (fc1): Linear(in_features=512, out_features=2048, bias=True)\n",
      "  (fc2): Linear(in_features=2048, out_features=512, bias=True)\n",
      ")\n",
      "encoder.layers.1.mlp.activation_fn QuickGELUActivation()\n",
      "encoder.layers.1.mlp.fc1 Linear(in_features=512, out_features=2048, bias=True)\n",
      "encoder.layers.1.mlp.fc2 Linear(in_features=2048, out_features=512, bias=True)\n",
      "encoder.layers.1.layer_norm2 LayerNorm((512,), eps=1e-05, elementwise_affine=True)\n",
      "encoder.layers.2 CLIPEncoderLayer(\n",
      "  (self_attn): CLIPAttention(\n",
      "    (k_proj): Linear(in_features=512, out_features=512, bias=True)\n",
      "    (v_proj): Linear(in_features=512, out_features=512, bias=True)\n",
      "    (q_proj): Linear(in_features=512, out_features=512, bias=True)\n",
      "    (out_proj): Linear(in_features=512, out_features=512, bias=True)\n",
      "  )\n",
      "  (layer_norm1): LayerNorm((512,), eps=1e-05, elementwise_affine=True)\n",
      "  (mlp): CLIPMLP(\n",
      "    (activation_fn): QuickGELUActivation()\n",
      "    (fc1): Linear(in_features=512, out_features=2048, bias=True)\n",
      "    (fc2): Linear(in_features=2048, out_features=512, bias=True)\n",
      "  )\n",
      "  (layer_norm2): LayerNorm((512,), eps=1e-05, elementwise_affine=True)\n",
      ")\n",
      "encoder.layers.2.self_attn CLIPAttention(\n",
      "  (k_proj): Linear(in_features=512, out_features=512, bias=True)\n",
      "  (v_proj): Linear(in_features=512, out_features=512, bias=True)\n",
      "  (q_proj): Linear(in_features=512, out_features=512, bias=True)\n",
      "  (out_proj): Linear(in_features=512, out_features=512, bias=True)\n",
      ")\n",
      "encoder.layers.2.self_attn.k_proj Linear(in_features=512, out_features=512, bias=True)\n",
      "encoder.layers.2.self_attn.v_proj Linear(in_features=512, out_features=512, bias=True)\n",
      "encoder.layers.2.self_attn.q_proj Linear(in_features=512, out_features=512, bias=True)\n",
      "encoder.layers.2.self_attn.out_proj Linear(in_features=512, out_features=512, bias=True)\n",
      "encoder.layers.2.layer_norm1 LayerNorm((512,), eps=1e-05, elementwise_affine=True)\n",
      "encoder.layers.2.mlp CLIPMLP(\n",
      "  (activation_fn): QuickGELUActivation()\n",
      "  (fc1): Linear(in_features=512, out_features=2048, bias=True)\n",
      "  (fc2): Linear(in_features=2048, out_features=512, bias=True)\n",
      ")\n",
      "encoder.layers.2.mlp.activation_fn QuickGELUActivation()\n",
      "encoder.layers.2.mlp.fc1 Linear(in_features=512, out_features=2048, bias=True)\n",
      "encoder.layers.2.mlp.fc2 Linear(in_features=2048, out_features=512, bias=True)\n",
      "encoder.layers.2.layer_norm2 LayerNorm((512,), eps=1e-05, elementwise_affine=True)\n",
      "encoder.layers.3 CLIPEncoderLayer(\n",
      "  (self_attn): CLIPAttention(\n",
      "    (k_proj): Linear(in_features=512, out_features=512, bias=True)\n",
      "    (v_proj): Linear(in_features=512, out_features=512, bias=True)\n",
      "    (q_proj): Linear(in_features=512, out_features=512, bias=True)\n",
      "    (out_proj): Linear(in_features=512, out_features=512, bias=True)\n",
      "  )\n",
      "  (layer_norm1): LayerNorm((512,), eps=1e-05, elementwise_affine=True)\n",
      "  (mlp): CLIPMLP(\n",
      "    (activation_fn): QuickGELUActivation()\n",
      "    (fc1): Linear(in_features=512, out_features=2048, bias=True)\n",
      "    (fc2): Linear(in_features=2048, out_features=512, bias=True)\n",
      "  )\n",
      "  (layer_norm2): LayerNorm((512,), eps=1e-05, elementwise_affine=True)\n",
      ")\n",
      "encoder.layers.3.self_attn CLIPAttention(\n",
      "  (k_proj): Linear(in_features=512, out_features=512, bias=True)\n",
      "  (v_proj): Linear(in_features=512, out_features=512, bias=True)\n",
      "  (q_proj): Linear(in_features=512, out_features=512, bias=True)\n",
      "  (out_proj): Linear(in_features=512, out_features=512, bias=True)\n",
      ")\n",
      "encoder.layers.3.self_attn.k_proj Linear(in_features=512, out_features=512, bias=True)\n",
      "encoder.layers.3.self_attn.v_proj Linear(in_features=512, out_features=512, bias=True)\n",
      "encoder.layers.3.self_attn.q_proj Linear(in_features=512, out_features=512, bias=True)\n",
      "encoder.layers.3.self_attn.out_proj Linear(in_features=512, out_features=512, bias=True)\n",
      "encoder.layers.3.layer_norm1 LayerNorm((512,), eps=1e-05, elementwise_affine=True)\n",
      "encoder.layers.3.mlp CLIPMLP(\n",
      "  (activation_fn): QuickGELUActivation()\n",
      "  (fc1): Linear(in_features=512, out_features=2048, bias=True)\n",
      "  (fc2): Linear(in_features=2048, out_features=512, bias=True)\n",
      ")\n",
      "encoder.layers.3.mlp.activation_fn QuickGELUActivation()\n",
      "encoder.layers.3.mlp.fc1 Linear(in_features=512, out_features=2048, bias=True)\n",
      "encoder.layers.3.mlp.fc2 Linear(in_features=2048, out_features=512, bias=True)\n",
      "encoder.layers.3.layer_norm2 LayerNorm((512,), eps=1e-05, elementwise_affine=True)\n",
      "encoder.layers.4 CLIPEncoderLayer(\n",
      "  (self_attn): CLIPAttention(\n",
      "    (k_proj): Linear(in_features=512, out_features=512, bias=True)\n",
      "    (v_proj): Linear(in_features=512, out_features=512, bias=True)\n",
      "    (q_proj): Linear(in_features=512, out_features=512, bias=True)\n",
      "    (out_proj): Linear(in_features=512, out_features=512, bias=True)\n",
      "  )\n",
      "  (layer_norm1): LayerNorm((512,), eps=1e-05, elementwise_affine=True)\n",
      "  (mlp): CLIPMLP(\n",
      "    (activation_fn): QuickGELUActivation()\n",
      "    (fc1): Linear(in_features=512, out_features=2048, bias=True)\n",
      "    (fc2): Linear(in_features=2048, out_features=512, bias=True)\n",
      "  )\n",
      "  (layer_norm2): LayerNorm((512,), eps=1e-05, elementwise_affine=True)\n",
      ")\n",
      "encoder.layers.4.self_attn CLIPAttention(\n",
      "  (k_proj): Linear(in_features=512, out_features=512, bias=True)\n",
      "  (v_proj): Linear(in_features=512, out_features=512, bias=True)\n",
      "  (q_proj): Linear(in_features=512, out_features=512, bias=True)\n",
      "  (out_proj): Linear(in_features=512, out_features=512, bias=True)\n",
      ")\n",
      "encoder.layers.4.self_attn.k_proj Linear(in_features=512, out_features=512, bias=True)\n",
      "encoder.layers.4.self_attn.v_proj Linear(in_features=512, out_features=512, bias=True)\n",
      "encoder.layers.4.self_attn.q_proj Linear(in_features=512, out_features=512, bias=True)\n",
      "encoder.layers.4.self_attn.out_proj Linear(in_features=512, out_features=512, bias=True)\n",
      "encoder.layers.4.layer_norm1 LayerNorm((512,), eps=1e-05, elementwise_affine=True)\n",
      "encoder.layers.4.mlp CLIPMLP(\n",
      "  (activation_fn): QuickGELUActivation()\n",
      "  (fc1): Linear(in_features=512, out_features=2048, bias=True)\n",
      "  (fc2): Linear(in_features=2048, out_features=512, bias=True)\n",
      ")\n",
      "encoder.layers.4.mlp.activation_fn QuickGELUActivation()\n",
      "encoder.layers.4.mlp.fc1 Linear(in_features=512, out_features=2048, bias=True)\n",
      "encoder.layers.4.mlp.fc2 Linear(in_features=2048, out_features=512, bias=True)\n",
      "encoder.layers.4.layer_norm2 LayerNorm((512,), eps=1e-05, elementwise_affine=True)\n",
      "encoder.layers.5 CLIPEncoderLayer(\n",
      "  (self_attn): CLIPAttention(\n",
      "    (k_proj): Linear(in_features=512, out_features=512, bias=True)\n",
      "    (v_proj): Linear(in_features=512, out_features=512, bias=True)\n",
      "    (q_proj): Linear(in_features=512, out_features=512, bias=True)\n",
      "    (out_proj): Linear(in_features=512, out_features=512, bias=True)\n",
      "  )\n",
      "  (layer_norm1): LayerNorm((512,), eps=1e-05, elementwise_affine=True)\n",
      "  (mlp): CLIPMLP(\n",
      "    (activation_fn): QuickGELUActivation()\n",
      "    (fc1): Linear(in_features=512, out_features=2048, bias=True)\n",
      "    (fc2): Linear(in_features=2048, out_features=512, bias=True)\n",
      "  )\n",
      "  (layer_norm2): LayerNorm((512,), eps=1e-05, elementwise_affine=True)\n",
      ")\n",
      "encoder.layers.5.self_attn CLIPAttention(\n",
      "  (k_proj): Linear(in_features=512, out_features=512, bias=True)\n",
      "  (v_proj): Linear(in_features=512, out_features=512, bias=True)\n",
      "  (q_proj): Linear(in_features=512, out_features=512, bias=True)\n",
      "  (out_proj): Linear(in_features=512, out_features=512, bias=True)\n",
      ")\n",
      "encoder.layers.5.self_attn.k_proj Linear(in_features=512, out_features=512, bias=True)\n",
      "encoder.layers.5.self_attn.v_proj Linear(in_features=512, out_features=512, bias=True)\n",
      "encoder.layers.5.self_attn.q_proj Linear(in_features=512, out_features=512, bias=True)\n",
      "encoder.layers.5.self_attn.out_proj Linear(in_features=512, out_features=512, bias=True)\n",
      "encoder.layers.5.layer_norm1 LayerNorm((512,), eps=1e-05, elementwise_affine=True)\n",
      "encoder.layers.5.mlp CLIPMLP(\n",
      "  (activation_fn): QuickGELUActivation()\n",
      "  (fc1): Linear(in_features=512, out_features=2048, bias=True)\n",
      "  (fc2): Linear(in_features=2048, out_features=512, bias=True)\n",
      ")\n",
      "encoder.layers.5.mlp.activation_fn QuickGELUActivation()\n",
      "encoder.layers.5.mlp.fc1 Linear(in_features=512, out_features=2048, bias=True)\n",
      "encoder.layers.5.mlp.fc2 Linear(in_features=2048, out_features=512, bias=True)\n",
      "encoder.layers.5.layer_norm2 LayerNorm((512,), eps=1e-05, elementwise_affine=True)\n",
      "encoder.layers.6 CLIPEncoderLayer(\n",
      "  (self_attn): CLIPAttention(\n",
      "    (k_proj): Linear(in_features=512, out_features=512, bias=True)\n",
      "    (v_proj): Linear(in_features=512, out_features=512, bias=True)\n",
      "    (q_proj): Linear(in_features=512, out_features=512, bias=True)\n",
      "    (out_proj): Linear(in_features=512, out_features=512, bias=True)\n",
      "  )\n",
      "  (layer_norm1): LayerNorm((512,), eps=1e-05, elementwise_affine=True)\n",
      "  (mlp): CLIPMLP(\n",
      "    (activation_fn): QuickGELUActivation()\n",
      "    (fc1): Linear(in_features=512, out_features=2048, bias=True)\n",
      "    (fc2): Linear(in_features=2048, out_features=512, bias=True)\n",
      "  )\n",
      "  (layer_norm2): LayerNorm((512,), eps=1e-05, elementwise_affine=True)\n",
      ")\n",
      "encoder.layers.6.self_attn CLIPAttention(\n",
      "  (k_proj): Linear(in_features=512, out_features=512, bias=True)\n",
      "  (v_proj): Linear(in_features=512, out_features=512, bias=True)\n",
      "  (q_proj): Linear(in_features=512, out_features=512, bias=True)\n",
      "  (out_proj): Linear(in_features=512, out_features=512, bias=True)\n",
      ")\n",
      "encoder.layers.6.self_attn.k_proj Linear(in_features=512, out_features=512, bias=True)\n",
      "encoder.layers.6.self_attn.v_proj Linear(in_features=512, out_features=512, bias=True)\n",
      "encoder.layers.6.self_attn.q_proj Linear(in_features=512, out_features=512, bias=True)\n",
      "encoder.layers.6.self_attn.out_proj Linear(in_features=512, out_features=512, bias=True)\n",
      "encoder.layers.6.layer_norm1 LayerNorm((512,), eps=1e-05, elementwise_affine=True)\n",
      "encoder.layers.6.mlp CLIPMLP(\n",
      "  (activation_fn): QuickGELUActivation()\n",
      "  (fc1): Linear(in_features=512, out_features=2048, bias=True)\n",
      "  (fc2): Linear(in_features=2048, out_features=512, bias=True)\n",
      ")\n",
      "encoder.layers.6.mlp.activation_fn QuickGELUActivation()\n",
      "encoder.layers.6.mlp.fc1 Linear(in_features=512, out_features=2048, bias=True)\n",
      "encoder.layers.6.mlp.fc2 Linear(in_features=2048, out_features=512, bias=True)\n",
      "encoder.layers.6.layer_norm2 LayerNorm((512,), eps=1e-05, elementwise_affine=True)\n",
      "encoder.layers.7 CLIPEncoderLayer(\n",
      "  (self_attn): CLIPAttention(\n",
      "    (k_proj): Linear(in_features=512, out_features=512, bias=True)\n",
      "    (v_proj): Linear(in_features=512, out_features=512, bias=True)\n",
      "    (q_proj): Linear(in_features=512, out_features=512, bias=True)\n",
      "    (out_proj): Linear(in_features=512, out_features=512, bias=True)\n",
      "  )\n",
      "  (layer_norm1): LayerNorm((512,), eps=1e-05, elementwise_affine=True)\n",
      "  (mlp): CLIPMLP(\n",
      "    (activation_fn): QuickGELUActivation()\n",
      "    (fc1): Linear(in_features=512, out_features=2048, bias=True)\n",
      "    (fc2): Linear(in_features=2048, out_features=512, bias=True)\n",
      "  )\n",
      "  (layer_norm2): LayerNorm((512,), eps=1e-05, elementwise_affine=True)\n",
      ")\n",
      "encoder.layers.7.self_attn CLIPAttention(\n",
      "  (k_proj): Linear(in_features=512, out_features=512, bias=True)\n",
      "  (v_proj): Linear(in_features=512, out_features=512, bias=True)\n",
      "  (q_proj): Linear(in_features=512, out_features=512, bias=True)\n",
      "  (out_proj): Linear(in_features=512, out_features=512, bias=True)\n",
      ")\n",
      "encoder.layers.7.self_attn.k_proj Linear(in_features=512, out_features=512, bias=True)\n",
      "encoder.layers.7.self_attn.v_proj Linear(in_features=512, out_features=512, bias=True)\n",
      "encoder.layers.7.self_attn.q_proj Linear(in_features=512, out_features=512, bias=True)\n",
      "encoder.layers.7.self_attn.out_proj Linear(in_features=512, out_features=512, bias=True)\n",
      "encoder.layers.7.layer_norm1 LayerNorm((512,), eps=1e-05, elementwise_affine=True)\n",
      "encoder.layers.7.mlp CLIPMLP(\n",
      "  (activation_fn): QuickGELUActivation()\n",
      "  (fc1): Linear(in_features=512, out_features=2048, bias=True)\n",
      "  (fc2): Linear(in_features=2048, out_features=512, bias=True)\n",
      ")\n",
      "encoder.layers.7.mlp.activation_fn QuickGELUActivation()\n",
      "encoder.layers.7.mlp.fc1 Linear(in_features=512, out_features=2048, bias=True)\n",
      "encoder.layers.7.mlp.fc2 Linear(in_features=2048, out_features=512, bias=True)\n",
      "encoder.layers.7.layer_norm2 LayerNorm((512,), eps=1e-05, elementwise_affine=True)\n",
      "encoder.layers.8 CLIPEncoderLayer(\n",
      "  (self_attn): CLIPAttention(\n",
      "    (k_proj): Linear(in_features=512, out_features=512, bias=True)\n",
      "    (v_proj): Linear(in_features=512, out_features=512, bias=True)\n",
      "    (q_proj): Linear(in_features=512, out_features=512, bias=True)\n",
      "    (out_proj): Linear(in_features=512, out_features=512, bias=True)\n",
      "  )\n",
      "  (layer_norm1): LayerNorm((512,), eps=1e-05, elementwise_affine=True)\n",
      "  (mlp): CLIPMLP(\n",
      "    (activation_fn): QuickGELUActivation()\n",
      "    (fc1): Linear(in_features=512, out_features=2048, bias=True)\n",
      "    (fc2): Linear(in_features=2048, out_features=512, bias=True)\n",
      "  )\n",
      "  (layer_norm2): LayerNorm((512,), eps=1e-05, elementwise_affine=True)\n",
      ")\n",
      "encoder.layers.8.self_attn CLIPAttention(\n",
      "  (k_proj): Linear(in_features=512, out_features=512, bias=True)\n",
      "  (v_proj): Linear(in_features=512, out_features=512, bias=True)\n",
      "  (q_proj): Linear(in_features=512, out_features=512, bias=True)\n",
      "  (out_proj): Linear(in_features=512, out_features=512, bias=True)\n",
      ")\n",
      "encoder.layers.8.self_attn.k_proj Linear(in_features=512, out_features=512, bias=True)\n",
      "encoder.layers.8.self_attn.v_proj Linear(in_features=512, out_features=512, bias=True)\n",
      "encoder.layers.8.self_attn.q_proj Linear(in_features=512, out_features=512, bias=True)\n",
      "encoder.layers.8.self_attn.out_proj Linear(in_features=512, out_features=512, bias=True)\n",
      "encoder.layers.8.layer_norm1 LayerNorm((512,), eps=1e-05, elementwise_affine=True)\n",
      "encoder.layers.8.mlp CLIPMLP(\n",
      "  (activation_fn): QuickGELUActivation()\n",
      "  (fc1): Linear(in_features=512, out_features=2048, bias=True)\n",
      "  (fc2): Linear(in_features=2048, out_features=512, bias=True)\n",
      ")\n",
      "encoder.layers.8.mlp.activation_fn QuickGELUActivation()\n",
      "encoder.layers.8.mlp.fc1 Linear(in_features=512, out_features=2048, bias=True)\n",
      "encoder.layers.8.mlp.fc2 Linear(in_features=2048, out_features=512, bias=True)\n",
      "encoder.layers.8.layer_norm2 LayerNorm((512,), eps=1e-05, elementwise_affine=True)\n",
      "encoder.layers.9 CLIPEncoderLayer(\n",
      "  (self_attn): CLIPAttention(\n",
      "    (k_proj): Linear(in_features=512, out_features=512, bias=True)\n",
      "    (v_proj): Linear(in_features=512, out_features=512, bias=True)\n",
      "    (q_proj): Linear(in_features=512, out_features=512, bias=True)\n",
      "    (out_proj): Linear(in_features=512, out_features=512, bias=True)\n",
      "  )\n",
      "  (layer_norm1): LayerNorm((512,), eps=1e-05, elementwise_affine=True)\n",
      "  (mlp): CLIPMLP(\n",
      "    (activation_fn): QuickGELUActivation()\n",
      "    (fc1): Linear(in_features=512, out_features=2048, bias=True)\n",
      "    (fc2): Linear(in_features=2048, out_features=512, bias=True)\n",
      "  )\n",
      "  (layer_norm2): LayerNorm((512,), eps=1e-05, elementwise_affine=True)\n",
      ")\n",
      "encoder.layers.9.self_attn CLIPAttention(\n",
      "  (k_proj): Linear(in_features=512, out_features=512, bias=True)\n",
      "  (v_proj): Linear(in_features=512, out_features=512, bias=True)\n",
      "  (q_proj): Linear(in_features=512, out_features=512, bias=True)\n",
      "  (out_proj): Linear(in_features=512, out_features=512, bias=True)\n",
      ")\n",
      "encoder.layers.9.self_attn.k_proj Linear(in_features=512, out_features=512, bias=True)\n",
      "encoder.layers.9.self_attn.v_proj Linear(in_features=512, out_features=512, bias=True)\n",
      "encoder.layers.9.self_attn.q_proj Linear(in_features=512, out_features=512, bias=True)\n",
      "encoder.layers.9.self_attn.out_proj Linear(in_features=512, out_features=512, bias=True)\n",
      "encoder.layers.9.layer_norm1 LayerNorm((512,), eps=1e-05, elementwise_affine=True)\n",
      "encoder.layers.9.mlp CLIPMLP(\n",
      "  (activation_fn): QuickGELUActivation()\n",
      "  (fc1): Linear(in_features=512, out_features=2048, bias=True)\n",
      "  (fc2): Linear(in_features=2048, out_features=512, bias=True)\n",
      ")\n",
      "encoder.layers.9.mlp.activation_fn QuickGELUActivation()\n",
      "encoder.layers.9.mlp.fc1 Linear(in_features=512, out_features=2048, bias=True)\n",
      "encoder.layers.9.mlp.fc2 Linear(in_features=2048, out_features=512, bias=True)\n",
      "encoder.layers.9.layer_norm2 LayerNorm((512,), eps=1e-05, elementwise_affine=True)\n",
      "encoder.layers.10 CLIPEncoderLayer(\n",
      "  (self_attn): CLIPAttention(\n",
      "    (k_proj): Linear(in_features=512, out_features=512, bias=True)\n",
      "    (v_proj): Linear(in_features=512, out_features=512, bias=True)\n",
      "    (q_proj): Linear(in_features=512, out_features=512, bias=True)\n",
      "    (out_proj): Linear(in_features=512, out_features=512, bias=True)\n",
      "  )\n",
      "  (layer_norm1): LayerNorm((512,), eps=1e-05, elementwise_affine=True)\n",
      "  (mlp): CLIPMLP(\n",
      "    (activation_fn): QuickGELUActivation()\n",
      "    (fc1): Linear(in_features=512, out_features=2048, bias=True)\n",
      "    (fc2): Linear(in_features=2048, out_features=512, bias=True)\n",
      "  )\n",
      "  (layer_norm2): LayerNorm((512,), eps=1e-05, elementwise_affine=True)\n",
      ")\n",
      "encoder.layers.10.self_attn CLIPAttention(\n",
      "  (k_proj): Linear(in_features=512, out_features=512, bias=True)\n",
      "  (v_proj): Linear(in_features=512, out_features=512, bias=True)\n",
      "  (q_proj): Linear(in_features=512, out_features=512, bias=True)\n",
      "  (out_proj): Linear(in_features=512, out_features=512, bias=True)\n",
      ")\n",
      "encoder.layers.10.self_attn.k_proj Linear(in_features=512, out_features=512, bias=True)\n",
      "encoder.layers.10.self_attn.v_proj Linear(in_features=512, out_features=512, bias=True)\n",
      "encoder.layers.10.self_attn.q_proj Linear(in_features=512, out_features=512, bias=True)\n",
      "encoder.layers.10.self_attn.out_proj Linear(in_features=512, out_features=512, bias=True)\n",
      "encoder.layers.10.layer_norm1 LayerNorm((512,), eps=1e-05, elementwise_affine=True)\n",
      "encoder.layers.10.mlp CLIPMLP(\n",
      "  (activation_fn): QuickGELUActivation()\n",
      "  (fc1): Linear(in_features=512, out_features=2048, bias=True)\n",
      "  (fc2): Linear(in_features=2048, out_features=512, bias=True)\n",
      ")\n",
      "encoder.layers.10.mlp.activation_fn QuickGELUActivation()\n",
      "encoder.layers.10.mlp.fc1 Linear(in_features=512, out_features=2048, bias=True)\n",
      "encoder.layers.10.mlp.fc2 Linear(in_features=2048, out_features=512, bias=True)\n",
      "encoder.layers.10.layer_norm2 LayerNorm((512,), eps=1e-05, elementwise_affine=True)\n",
      "encoder.layers.11 CLIPEncoderLayer(\n",
      "  (self_attn): CLIPAttention(\n",
      "    (k_proj): Linear(in_features=512, out_features=512, bias=True)\n",
      "    (v_proj): Linear(in_features=512, out_features=512, bias=True)\n",
      "    (q_proj): Linear(in_features=512, out_features=512, bias=True)\n",
      "    (out_proj): Linear(in_features=512, out_features=512, bias=True)\n",
      "  )\n",
      "  (layer_norm1): LayerNorm((512,), eps=1e-05, elementwise_affine=True)\n",
      "  (mlp): CLIPMLP(\n",
      "    (activation_fn): QuickGELUActivation()\n",
      "    (fc1): Linear(in_features=512, out_features=2048, bias=True)\n",
      "    (fc2): Linear(in_features=2048, out_features=512, bias=True)\n",
      "  )\n",
      "  (layer_norm2): LayerNorm((512,), eps=1e-05, elementwise_affine=True)\n",
      ")\n",
      "encoder.layers.11.self_attn CLIPAttention(\n",
      "  (k_proj): Linear(in_features=512, out_features=512, bias=True)\n",
      "  (v_proj): Linear(in_features=512, out_features=512, bias=True)\n",
      "  (q_proj): Linear(in_features=512, out_features=512, bias=True)\n",
      "  (out_proj): Linear(in_features=512, out_features=512, bias=True)\n",
      ")\n",
      "encoder.layers.11.self_attn.k_proj Linear(in_features=512, out_features=512, bias=True)\n",
      "encoder.layers.11.self_attn.v_proj Linear(in_features=512, out_features=512, bias=True)\n",
      "encoder.layers.11.self_attn.q_proj Linear(in_features=512, out_features=512, bias=True)\n",
      "encoder.layers.11.self_attn.out_proj Linear(in_features=512, out_features=512, bias=True)\n",
      "encoder.layers.11.layer_norm1 LayerNorm((512,), eps=1e-05, elementwise_affine=True)\n",
      "encoder.layers.11.mlp CLIPMLP(\n",
      "  (activation_fn): QuickGELUActivation()\n",
      "  (fc1): Linear(in_features=512, out_features=2048, bias=True)\n",
      "  (fc2): Linear(in_features=2048, out_features=512, bias=True)\n",
      ")\n",
      "encoder.layers.11.mlp.activation_fn QuickGELUActivation()\n",
      "encoder.layers.11.mlp.fc1 Linear(in_features=512, out_features=2048, bias=True)\n",
      "encoder.layers.11.mlp.fc2 Linear(in_features=2048, out_features=512, bias=True)\n",
      "encoder.layers.11.layer_norm2 LayerNorm((512,), eps=1e-05, elementwise_affine=True)\n",
      "final_layer_norm LayerNorm((512,), eps=1e-05, elementwise_affine=True)\n"
     ]
    }
   ],
   "source": [
    "print(\"Text encoder: \\n\")\n",
    "for name, module in model.text_model.named_modules():\n",
    "    print(name, module)"
   ],
   "metadata": {
    "collapsed": false,
    "ExecuteTime": {
     "end_time": "2025-08-31T13:26:06.272765300Z",
     "start_time": "2025-08-31T13:26:06.236652300Z"
    }
   },
   "id": "a29ca7e2ff6a076c"
  },
  {
   "cell_type": "markdown",
   "source": [
    "### layers are like: encoder.layers.11.self_attn.k_proj, encoder.layers.11.self_attn.v_proj, encoder.layers.11.self_attn.q_proj \n"
   ],
   "metadata": {
    "collapsed": false
   },
   "id": "86f23ec7b873c1fb"
  },
  {
   "cell_type": "code",
   "execution_count": 19,
   "outputs": [
    {
     "name": "stdout",
     "output_type": "stream",
     "text": [
      "Image encoder: \n",
      "\n",
      " CLIPVisionTransformer(\n",
      "  (embeddings): CLIPVisionEmbeddings(\n",
      "    (patch_embedding): Conv2d(3, 768, kernel_size=(16, 16), stride=(16, 16), bias=False)\n",
      "    (position_embedding): Embedding(197, 768)\n",
      "  )\n",
      "  (pre_layrnorm): LayerNorm((768,), eps=1e-05, elementwise_affine=True)\n",
      "  (encoder): CLIPEncoder(\n",
      "    (layers): ModuleList(\n",
      "      (0-11): 12 x CLIPEncoderLayer(\n",
      "        (self_attn): CLIPAttention(\n",
      "          (k_proj): Linear(in_features=768, out_features=768, bias=True)\n",
      "          (v_proj): Linear(in_features=768, out_features=768, bias=True)\n",
      "          (q_proj): Linear(in_features=768, out_features=768, bias=True)\n",
      "          (out_proj): Linear(in_features=768, out_features=768, bias=True)\n",
      "        )\n",
      "        (layer_norm1): LayerNorm((768,), eps=1e-05, elementwise_affine=True)\n",
      "        (mlp): CLIPMLP(\n",
      "          (activation_fn): QuickGELUActivation()\n",
      "          (fc1): Linear(in_features=768, out_features=3072, bias=True)\n",
      "          (fc2): Linear(in_features=3072, out_features=768, bias=True)\n",
      "        )\n",
      "        (layer_norm2): LayerNorm((768,), eps=1e-05, elementwise_affine=True)\n",
      "      )\n",
      "    )\n",
      "  )\n",
      "  (post_layernorm): LayerNorm((768,), eps=1e-05, elementwise_affine=True)\n",
      ")\n",
      "embeddings CLIPVisionEmbeddings(\n",
      "  (patch_embedding): Conv2d(3, 768, kernel_size=(16, 16), stride=(16, 16), bias=False)\n",
      "  (position_embedding): Embedding(197, 768)\n",
      ")\n",
      "embeddings.patch_embedding Conv2d(3, 768, kernel_size=(16, 16), stride=(16, 16), bias=False)\n",
      "embeddings.position_embedding Embedding(197, 768)\n",
      "pre_layrnorm LayerNorm((768,), eps=1e-05, elementwise_affine=True)\n",
      "encoder CLIPEncoder(\n",
      "  (layers): ModuleList(\n",
      "    (0-11): 12 x CLIPEncoderLayer(\n",
      "      (self_attn): CLIPAttention(\n",
      "        (k_proj): Linear(in_features=768, out_features=768, bias=True)\n",
      "        (v_proj): Linear(in_features=768, out_features=768, bias=True)\n",
      "        (q_proj): Linear(in_features=768, out_features=768, bias=True)\n",
      "        (out_proj): Linear(in_features=768, out_features=768, bias=True)\n",
      "      )\n",
      "      (layer_norm1): LayerNorm((768,), eps=1e-05, elementwise_affine=True)\n",
      "      (mlp): CLIPMLP(\n",
      "        (activation_fn): QuickGELUActivation()\n",
      "        (fc1): Linear(in_features=768, out_features=3072, bias=True)\n",
      "        (fc2): Linear(in_features=3072, out_features=768, bias=True)\n",
      "      )\n",
      "      (layer_norm2): LayerNorm((768,), eps=1e-05, elementwise_affine=True)\n",
      "    )\n",
      "  )\n",
      ")\n",
      "encoder.layers ModuleList(\n",
      "  (0-11): 12 x CLIPEncoderLayer(\n",
      "    (self_attn): CLIPAttention(\n",
      "      (k_proj): Linear(in_features=768, out_features=768, bias=True)\n",
      "      (v_proj): Linear(in_features=768, out_features=768, bias=True)\n",
      "      (q_proj): Linear(in_features=768, out_features=768, bias=True)\n",
      "      (out_proj): Linear(in_features=768, out_features=768, bias=True)\n",
      "    )\n",
      "    (layer_norm1): LayerNorm((768,), eps=1e-05, elementwise_affine=True)\n",
      "    (mlp): CLIPMLP(\n",
      "      (activation_fn): QuickGELUActivation()\n",
      "      (fc1): Linear(in_features=768, out_features=3072, bias=True)\n",
      "      (fc2): Linear(in_features=3072, out_features=768, bias=True)\n",
      "    )\n",
      "    (layer_norm2): LayerNorm((768,), eps=1e-05, elementwise_affine=True)\n",
      "  )\n",
      ")\n",
      "encoder.layers.0 CLIPEncoderLayer(\n",
      "  (self_attn): CLIPAttention(\n",
      "    (k_proj): Linear(in_features=768, out_features=768, bias=True)\n",
      "    (v_proj): Linear(in_features=768, out_features=768, bias=True)\n",
      "    (q_proj): Linear(in_features=768, out_features=768, bias=True)\n",
      "    (out_proj): Linear(in_features=768, out_features=768, bias=True)\n",
      "  )\n",
      "  (layer_norm1): LayerNorm((768,), eps=1e-05, elementwise_affine=True)\n",
      "  (mlp): CLIPMLP(\n",
      "    (activation_fn): QuickGELUActivation()\n",
      "    (fc1): Linear(in_features=768, out_features=3072, bias=True)\n",
      "    (fc2): Linear(in_features=3072, out_features=768, bias=True)\n",
      "  )\n",
      "  (layer_norm2): LayerNorm((768,), eps=1e-05, elementwise_affine=True)\n",
      ")\n",
      "encoder.layers.0.self_attn CLIPAttention(\n",
      "  (k_proj): Linear(in_features=768, out_features=768, bias=True)\n",
      "  (v_proj): Linear(in_features=768, out_features=768, bias=True)\n",
      "  (q_proj): Linear(in_features=768, out_features=768, bias=True)\n",
      "  (out_proj): Linear(in_features=768, out_features=768, bias=True)\n",
      ")\n",
      "encoder.layers.0.self_attn.k_proj Linear(in_features=768, out_features=768, bias=True)\n",
      "encoder.layers.0.self_attn.v_proj Linear(in_features=768, out_features=768, bias=True)\n",
      "encoder.layers.0.self_attn.q_proj Linear(in_features=768, out_features=768, bias=True)\n",
      "encoder.layers.0.self_attn.out_proj Linear(in_features=768, out_features=768, bias=True)\n",
      "encoder.layers.0.layer_norm1 LayerNorm((768,), eps=1e-05, elementwise_affine=True)\n",
      "encoder.layers.0.mlp CLIPMLP(\n",
      "  (activation_fn): QuickGELUActivation()\n",
      "  (fc1): Linear(in_features=768, out_features=3072, bias=True)\n",
      "  (fc2): Linear(in_features=3072, out_features=768, bias=True)\n",
      ")\n",
      "encoder.layers.0.mlp.activation_fn QuickGELUActivation()\n",
      "encoder.layers.0.mlp.fc1 Linear(in_features=768, out_features=3072, bias=True)\n",
      "encoder.layers.0.mlp.fc2 Linear(in_features=3072, out_features=768, bias=True)\n",
      "encoder.layers.0.layer_norm2 LayerNorm((768,), eps=1e-05, elementwise_affine=True)\n",
      "encoder.layers.1 CLIPEncoderLayer(\n",
      "  (self_attn): CLIPAttention(\n",
      "    (k_proj): Linear(in_features=768, out_features=768, bias=True)\n",
      "    (v_proj): Linear(in_features=768, out_features=768, bias=True)\n",
      "    (q_proj): Linear(in_features=768, out_features=768, bias=True)\n",
      "    (out_proj): Linear(in_features=768, out_features=768, bias=True)\n",
      "  )\n",
      "  (layer_norm1): LayerNorm((768,), eps=1e-05, elementwise_affine=True)\n",
      "  (mlp): CLIPMLP(\n",
      "    (activation_fn): QuickGELUActivation()\n",
      "    (fc1): Linear(in_features=768, out_features=3072, bias=True)\n",
      "    (fc2): Linear(in_features=3072, out_features=768, bias=True)\n",
      "  )\n",
      "  (layer_norm2): LayerNorm((768,), eps=1e-05, elementwise_affine=True)\n",
      ")\n",
      "encoder.layers.1.self_attn CLIPAttention(\n",
      "  (k_proj): Linear(in_features=768, out_features=768, bias=True)\n",
      "  (v_proj): Linear(in_features=768, out_features=768, bias=True)\n",
      "  (q_proj): Linear(in_features=768, out_features=768, bias=True)\n",
      "  (out_proj): Linear(in_features=768, out_features=768, bias=True)\n",
      ")\n",
      "encoder.layers.1.self_attn.k_proj Linear(in_features=768, out_features=768, bias=True)\n",
      "encoder.layers.1.self_attn.v_proj Linear(in_features=768, out_features=768, bias=True)\n",
      "encoder.layers.1.self_attn.q_proj Linear(in_features=768, out_features=768, bias=True)\n",
      "encoder.layers.1.self_attn.out_proj Linear(in_features=768, out_features=768, bias=True)\n",
      "encoder.layers.1.layer_norm1 LayerNorm((768,), eps=1e-05, elementwise_affine=True)\n",
      "encoder.layers.1.mlp CLIPMLP(\n",
      "  (activation_fn): QuickGELUActivation()\n",
      "  (fc1): Linear(in_features=768, out_features=3072, bias=True)\n",
      "  (fc2): Linear(in_features=3072, out_features=768, bias=True)\n",
      ")\n",
      "encoder.layers.1.mlp.activation_fn QuickGELUActivation()\n",
      "encoder.layers.1.mlp.fc1 Linear(in_features=768, out_features=3072, bias=True)\n",
      "encoder.layers.1.mlp.fc2 Linear(in_features=3072, out_features=768, bias=True)\n",
      "encoder.layers.1.layer_norm2 LayerNorm((768,), eps=1e-05, elementwise_affine=True)\n",
      "encoder.layers.2 CLIPEncoderLayer(\n",
      "  (self_attn): CLIPAttention(\n",
      "    (k_proj): Linear(in_features=768, out_features=768, bias=True)\n",
      "    (v_proj): Linear(in_features=768, out_features=768, bias=True)\n",
      "    (q_proj): Linear(in_features=768, out_features=768, bias=True)\n",
      "    (out_proj): Linear(in_features=768, out_features=768, bias=True)\n",
      "  )\n",
      "  (layer_norm1): LayerNorm((768,), eps=1e-05, elementwise_affine=True)\n",
      "  (mlp): CLIPMLP(\n",
      "    (activation_fn): QuickGELUActivation()\n",
      "    (fc1): Linear(in_features=768, out_features=3072, bias=True)\n",
      "    (fc2): Linear(in_features=3072, out_features=768, bias=True)\n",
      "  )\n",
      "  (layer_norm2): LayerNorm((768,), eps=1e-05, elementwise_affine=True)\n",
      ")\n",
      "encoder.layers.2.self_attn CLIPAttention(\n",
      "  (k_proj): Linear(in_features=768, out_features=768, bias=True)\n",
      "  (v_proj): Linear(in_features=768, out_features=768, bias=True)\n",
      "  (q_proj): Linear(in_features=768, out_features=768, bias=True)\n",
      "  (out_proj): Linear(in_features=768, out_features=768, bias=True)\n",
      ")\n",
      "encoder.layers.2.self_attn.k_proj Linear(in_features=768, out_features=768, bias=True)\n",
      "encoder.layers.2.self_attn.v_proj Linear(in_features=768, out_features=768, bias=True)\n",
      "encoder.layers.2.self_attn.q_proj Linear(in_features=768, out_features=768, bias=True)\n",
      "encoder.layers.2.self_attn.out_proj Linear(in_features=768, out_features=768, bias=True)\n",
      "encoder.layers.2.layer_norm1 LayerNorm((768,), eps=1e-05, elementwise_affine=True)\n",
      "encoder.layers.2.mlp CLIPMLP(\n",
      "  (activation_fn): QuickGELUActivation()\n",
      "  (fc1): Linear(in_features=768, out_features=3072, bias=True)\n",
      "  (fc2): Linear(in_features=3072, out_features=768, bias=True)\n",
      ")\n",
      "encoder.layers.2.mlp.activation_fn QuickGELUActivation()\n",
      "encoder.layers.2.mlp.fc1 Linear(in_features=768, out_features=3072, bias=True)\n",
      "encoder.layers.2.mlp.fc2 Linear(in_features=3072, out_features=768, bias=True)\n",
      "encoder.layers.2.layer_norm2 LayerNorm((768,), eps=1e-05, elementwise_affine=True)\n",
      "encoder.layers.3 CLIPEncoderLayer(\n",
      "  (self_attn): CLIPAttention(\n",
      "    (k_proj): Linear(in_features=768, out_features=768, bias=True)\n",
      "    (v_proj): Linear(in_features=768, out_features=768, bias=True)\n",
      "    (q_proj): Linear(in_features=768, out_features=768, bias=True)\n",
      "    (out_proj): Linear(in_features=768, out_features=768, bias=True)\n",
      "  )\n",
      "  (layer_norm1): LayerNorm((768,), eps=1e-05, elementwise_affine=True)\n",
      "  (mlp): CLIPMLP(\n",
      "    (activation_fn): QuickGELUActivation()\n",
      "    (fc1): Linear(in_features=768, out_features=3072, bias=True)\n",
      "    (fc2): Linear(in_features=3072, out_features=768, bias=True)\n",
      "  )\n",
      "  (layer_norm2): LayerNorm((768,), eps=1e-05, elementwise_affine=True)\n",
      ")\n",
      "encoder.layers.3.self_attn CLIPAttention(\n",
      "  (k_proj): Linear(in_features=768, out_features=768, bias=True)\n",
      "  (v_proj): Linear(in_features=768, out_features=768, bias=True)\n",
      "  (q_proj): Linear(in_features=768, out_features=768, bias=True)\n",
      "  (out_proj): Linear(in_features=768, out_features=768, bias=True)\n",
      ")\n",
      "encoder.layers.3.self_attn.k_proj Linear(in_features=768, out_features=768, bias=True)\n",
      "encoder.layers.3.self_attn.v_proj Linear(in_features=768, out_features=768, bias=True)\n",
      "encoder.layers.3.self_attn.q_proj Linear(in_features=768, out_features=768, bias=True)\n",
      "encoder.layers.3.self_attn.out_proj Linear(in_features=768, out_features=768, bias=True)\n",
      "encoder.layers.3.layer_norm1 LayerNorm((768,), eps=1e-05, elementwise_affine=True)\n",
      "encoder.layers.3.mlp CLIPMLP(\n",
      "  (activation_fn): QuickGELUActivation()\n",
      "  (fc1): Linear(in_features=768, out_features=3072, bias=True)\n",
      "  (fc2): Linear(in_features=3072, out_features=768, bias=True)\n",
      ")\n",
      "encoder.layers.3.mlp.activation_fn QuickGELUActivation()\n",
      "encoder.layers.3.mlp.fc1 Linear(in_features=768, out_features=3072, bias=True)\n",
      "encoder.layers.3.mlp.fc2 Linear(in_features=3072, out_features=768, bias=True)\n",
      "encoder.layers.3.layer_norm2 LayerNorm((768,), eps=1e-05, elementwise_affine=True)\n",
      "encoder.layers.4 CLIPEncoderLayer(\n",
      "  (self_attn): CLIPAttention(\n",
      "    (k_proj): Linear(in_features=768, out_features=768, bias=True)\n",
      "    (v_proj): Linear(in_features=768, out_features=768, bias=True)\n",
      "    (q_proj): Linear(in_features=768, out_features=768, bias=True)\n",
      "    (out_proj): Linear(in_features=768, out_features=768, bias=True)\n",
      "  )\n",
      "  (layer_norm1): LayerNorm((768,), eps=1e-05, elementwise_affine=True)\n",
      "  (mlp): CLIPMLP(\n",
      "    (activation_fn): QuickGELUActivation()\n",
      "    (fc1): Linear(in_features=768, out_features=3072, bias=True)\n",
      "    (fc2): Linear(in_features=3072, out_features=768, bias=True)\n",
      "  )\n",
      "  (layer_norm2): LayerNorm((768,), eps=1e-05, elementwise_affine=True)\n",
      ")\n",
      "encoder.layers.4.self_attn CLIPAttention(\n",
      "  (k_proj): Linear(in_features=768, out_features=768, bias=True)\n",
      "  (v_proj): Linear(in_features=768, out_features=768, bias=True)\n",
      "  (q_proj): Linear(in_features=768, out_features=768, bias=True)\n",
      "  (out_proj): Linear(in_features=768, out_features=768, bias=True)\n",
      ")\n",
      "encoder.layers.4.self_attn.k_proj Linear(in_features=768, out_features=768, bias=True)\n",
      "encoder.layers.4.self_attn.v_proj Linear(in_features=768, out_features=768, bias=True)\n",
      "encoder.layers.4.self_attn.q_proj Linear(in_features=768, out_features=768, bias=True)\n",
      "encoder.layers.4.self_attn.out_proj Linear(in_features=768, out_features=768, bias=True)\n",
      "encoder.layers.4.layer_norm1 LayerNorm((768,), eps=1e-05, elementwise_affine=True)\n",
      "encoder.layers.4.mlp CLIPMLP(\n",
      "  (activation_fn): QuickGELUActivation()\n",
      "  (fc1): Linear(in_features=768, out_features=3072, bias=True)\n",
      "  (fc2): Linear(in_features=3072, out_features=768, bias=True)\n",
      ")\n",
      "encoder.layers.4.mlp.activation_fn QuickGELUActivation()\n",
      "encoder.layers.4.mlp.fc1 Linear(in_features=768, out_features=3072, bias=True)\n",
      "encoder.layers.4.mlp.fc2 Linear(in_features=3072, out_features=768, bias=True)\n",
      "encoder.layers.4.layer_norm2 LayerNorm((768,), eps=1e-05, elementwise_affine=True)\n",
      "encoder.layers.5 CLIPEncoderLayer(\n",
      "  (self_attn): CLIPAttention(\n",
      "    (k_proj): Linear(in_features=768, out_features=768, bias=True)\n",
      "    (v_proj): Linear(in_features=768, out_features=768, bias=True)\n",
      "    (q_proj): Linear(in_features=768, out_features=768, bias=True)\n",
      "    (out_proj): Linear(in_features=768, out_features=768, bias=True)\n",
      "  )\n",
      "  (layer_norm1): LayerNorm((768,), eps=1e-05, elementwise_affine=True)\n",
      "  (mlp): CLIPMLP(\n",
      "    (activation_fn): QuickGELUActivation()\n",
      "    (fc1): Linear(in_features=768, out_features=3072, bias=True)\n",
      "    (fc2): Linear(in_features=3072, out_features=768, bias=True)\n",
      "  )\n",
      "  (layer_norm2): LayerNorm((768,), eps=1e-05, elementwise_affine=True)\n",
      ")\n",
      "encoder.layers.5.self_attn CLIPAttention(\n",
      "  (k_proj): Linear(in_features=768, out_features=768, bias=True)\n",
      "  (v_proj): Linear(in_features=768, out_features=768, bias=True)\n",
      "  (q_proj): Linear(in_features=768, out_features=768, bias=True)\n",
      "  (out_proj): Linear(in_features=768, out_features=768, bias=True)\n",
      ")\n",
      "encoder.layers.5.self_attn.k_proj Linear(in_features=768, out_features=768, bias=True)\n",
      "encoder.layers.5.self_attn.v_proj Linear(in_features=768, out_features=768, bias=True)\n",
      "encoder.layers.5.self_attn.q_proj Linear(in_features=768, out_features=768, bias=True)\n",
      "encoder.layers.5.self_attn.out_proj Linear(in_features=768, out_features=768, bias=True)\n",
      "encoder.layers.5.layer_norm1 LayerNorm((768,), eps=1e-05, elementwise_affine=True)\n",
      "encoder.layers.5.mlp CLIPMLP(\n",
      "  (activation_fn): QuickGELUActivation()\n",
      "  (fc1): Linear(in_features=768, out_features=3072, bias=True)\n",
      "  (fc2): Linear(in_features=3072, out_features=768, bias=True)\n",
      ")\n",
      "encoder.layers.5.mlp.activation_fn QuickGELUActivation()\n",
      "encoder.layers.5.mlp.fc1 Linear(in_features=768, out_features=3072, bias=True)\n",
      "encoder.layers.5.mlp.fc2 Linear(in_features=3072, out_features=768, bias=True)\n",
      "encoder.layers.5.layer_norm2 LayerNorm((768,), eps=1e-05, elementwise_affine=True)\n",
      "encoder.layers.6 CLIPEncoderLayer(\n",
      "  (self_attn): CLIPAttention(\n",
      "    (k_proj): Linear(in_features=768, out_features=768, bias=True)\n",
      "    (v_proj): Linear(in_features=768, out_features=768, bias=True)\n",
      "    (q_proj): Linear(in_features=768, out_features=768, bias=True)\n",
      "    (out_proj): Linear(in_features=768, out_features=768, bias=True)\n",
      "  )\n",
      "  (layer_norm1): LayerNorm((768,), eps=1e-05, elementwise_affine=True)\n",
      "  (mlp): CLIPMLP(\n",
      "    (activation_fn): QuickGELUActivation()\n",
      "    (fc1): Linear(in_features=768, out_features=3072, bias=True)\n",
      "    (fc2): Linear(in_features=3072, out_features=768, bias=True)\n",
      "  )\n",
      "  (layer_norm2): LayerNorm((768,), eps=1e-05, elementwise_affine=True)\n",
      ")\n",
      "encoder.layers.6.self_attn CLIPAttention(\n",
      "  (k_proj): Linear(in_features=768, out_features=768, bias=True)\n",
      "  (v_proj): Linear(in_features=768, out_features=768, bias=True)\n",
      "  (q_proj): Linear(in_features=768, out_features=768, bias=True)\n",
      "  (out_proj): Linear(in_features=768, out_features=768, bias=True)\n",
      ")\n",
      "encoder.layers.6.self_attn.k_proj Linear(in_features=768, out_features=768, bias=True)\n",
      "encoder.layers.6.self_attn.v_proj Linear(in_features=768, out_features=768, bias=True)\n",
      "encoder.layers.6.self_attn.q_proj Linear(in_features=768, out_features=768, bias=True)\n",
      "encoder.layers.6.self_attn.out_proj Linear(in_features=768, out_features=768, bias=True)\n",
      "encoder.layers.6.layer_norm1 LayerNorm((768,), eps=1e-05, elementwise_affine=True)\n",
      "encoder.layers.6.mlp CLIPMLP(\n",
      "  (activation_fn): QuickGELUActivation()\n",
      "  (fc1): Linear(in_features=768, out_features=3072, bias=True)\n",
      "  (fc2): Linear(in_features=3072, out_features=768, bias=True)\n",
      ")\n",
      "encoder.layers.6.mlp.activation_fn QuickGELUActivation()\n",
      "encoder.layers.6.mlp.fc1 Linear(in_features=768, out_features=3072, bias=True)\n",
      "encoder.layers.6.mlp.fc2 Linear(in_features=3072, out_features=768, bias=True)\n",
      "encoder.layers.6.layer_norm2 LayerNorm((768,), eps=1e-05, elementwise_affine=True)\n",
      "encoder.layers.7 CLIPEncoderLayer(\n",
      "  (self_attn): CLIPAttention(\n",
      "    (k_proj): Linear(in_features=768, out_features=768, bias=True)\n",
      "    (v_proj): Linear(in_features=768, out_features=768, bias=True)\n",
      "    (q_proj): Linear(in_features=768, out_features=768, bias=True)\n",
      "    (out_proj): Linear(in_features=768, out_features=768, bias=True)\n",
      "  )\n",
      "  (layer_norm1): LayerNorm((768,), eps=1e-05, elementwise_affine=True)\n",
      "  (mlp): CLIPMLP(\n",
      "    (activation_fn): QuickGELUActivation()\n",
      "    (fc1): Linear(in_features=768, out_features=3072, bias=True)\n",
      "    (fc2): Linear(in_features=3072, out_features=768, bias=True)\n",
      "  )\n",
      "  (layer_norm2): LayerNorm((768,), eps=1e-05, elementwise_affine=True)\n",
      ")\n",
      "encoder.layers.7.self_attn CLIPAttention(\n",
      "  (k_proj): Linear(in_features=768, out_features=768, bias=True)\n",
      "  (v_proj): Linear(in_features=768, out_features=768, bias=True)\n",
      "  (q_proj): Linear(in_features=768, out_features=768, bias=True)\n",
      "  (out_proj): Linear(in_features=768, out_features=768, bias=True)\n",
      ")\n",
      "encoder.layers.7.self_attn.k_proj Linear(in_features=768, out_features=768, bias=True)\n",
      "encoder.layers.7.self_attn.v_proj Linear(in_features=768, out_features=768, bias=True)\n",
      "encoder.layers.7.self_attn.q_proj Linear(in_features=768, out_features=768, bias=True)\n",
      "encoder.layers.7.self_attn.out_proj Linear(in_features=768, out_features=768, bias=True)\n",
      "encoder.layers.7.layer_norm1 LayerNorm((768,), eps=1e-05, elementwise_affine=True)\n",
      "encoder.layers.7.mlp CLIPMLP(\n",
      "  (activation_fn): QuickGELUActivation()\n",
      "  (fc1): Linear(in_features=768, out_features=3072, bias=True)\n",
      "  (fc2): Linear(in_features=3072, out_features=768, bias=True)\n",
      ")\n",
      "encoder.layers.7.mlp.activation_fn QuickGELUActivation()\n",
      "encoder.layers.7.mlp.fc1 Linear(in_features=768, out_features=3072, bias=True)\n",
      "encoder.layers.7.mlp.fc2 Linear(in_features=3072, out_features=768, bias=True)\n",
      "encoder.layers.7.layer_norm2 LayerNorm((768,), eps=1e-05, elementwise_affine=True)\n",
      "encoder.layers.8 CLIPEncoderLayer(\n",
      "  (self_attn): CLIPAttention(\n",
      "    (k_proj): Linear(in_features=768, out_features=768, bias=True)\n",
      "    (v_proj): Linear(in_features=768, out_features=768, bias=True)\n",
      "    (q_proj): Linear(in_features=768, out_features=768, bias=True)\n",
      "    (out_proj): Linear(in_features=768, out_features=768, bias=True)\n",
      "  )\n",
      "  (layer_norm1): LayerNorm((768,), eps=1e-05, elementwise_affine=True)\n",
      "  (mlp): CLIPMLP(\n",
      "    (activation_fn): QuickGELUActivation()\n",
      "    (fc1): Linear(in_features=768, out_features=3072, bias=True)\n",
      "    (fc2): Linear(in_features=3072, out_features=768, bias=True)\n",
      "  )\n",
      "  (layer_norm2): LayerNorm((768,), eps=1e-05, elementwise_affine=True)\n",
      ")\n",
      "encoder.layers.8.self_attn CLIPAttention(\n",
      "  (k_proj): Linear(in_features=768, out_features=768, bias=True)\n",
      "  (v_proj): Linear(in_features=768, out_features=768, bias=True)\n",
      "  (q_proj): Linear(in_features=768, out_features=768, bias=True)\n",
      "  (out_proj): Linear(in_features=768, out_features=768, bias=True)\n",
      ")\n",
      "encoder.layers.8.self_attn.k_proj Linear(in_features=768, out_features=768, bias=True)\n",
      "encoder.layers.8.self_attn.v_proj Linear(in_features=768, out_features=768, bias=True)\n",
      "encoder.layers.8.self_attn.q_proj Linear(in_features=768, out_features=768, bias=True)\n",
      "encoder.layers.8.self_attn.out_proj Linear(in_features=768, out_features=768, bias=True)\n",
      "encoder.layers.8.layer_norm1 LayerNorm((768,), eps=1e-05, elementwise_affine=True)\n",
      "encoder.layers.8.mlp CLIPMLP(\n",
      "  (activation_fn): QuickGELUActivation()\n",
      "  (fc1): Linear(in_features=768, out_features=3072, bias=True)\n",
      "  (fc2): Linear(in_features=3072, out_features=768, bias=True)\n",
      ")\n",
      "encoder.layers.8.mlp.activation_fn QuickGELUActivation()\n",
      "encoder.layers.8.mlp.fc1 Linear(in_features=768, out_features=3072, bias=True)\n",
      "encoder.layers.8.mlp.fc2 Linear(in_features=3072, out_features=768, bias=True)\n",
      "encoder.layers.8.layer_norm2 LayerNorm((768,), eps=1e-05, elementwise_affine=True)\n",
      "encoder.layers.9 CLIPEncoderLayer(\n",
      "  (self_attn): CLIPAttention(\n",
      "    (k_proj): Linear(in_features=768, out_features=768, bias=True)\n",
      "    (v_proj): Linear(in_features=768, out_features=768, bias=True)\n",
      "    (q_proj): Linear(in_features=768, out_features=768, bias=True)\n",
      "    (out_proj): Linear(in_features=768, out_features=768, bias=True)\n",
      "  )\n",
      "  (layer_norm1): LayerNorm((768,), eps=1e-05, elementwise_affine=True)\n",
      "  (mlp): CLIPMLP(\n",
      "    (activation_fn): QuickGELUActivation()\n",
      "    (fc1): Linear(in_features=768, out_features=3072, bias=True)\n",
      "    (fc2): Linear(in_features=3072, out_features=768, bias=True)\n",
      "  )\n",
      "  (layer_norm2): LayerNorm((768,), eps=1e-05, elementwise_affine=True)\n",
      ")\n",
      "encoder.layers.9.self_attn CLIPAttention(\n",
      "  (k_proj): Linear(in_features=768, out_features=768, bias=True)\n",
      "  (v_proj): Linear(in_features=768, out_features=768, bias=True)\n",
      "  (q_proj): Linear(in_features=768, out_features=768, bias=True)\n",
      "  (out_proj): Linear(in_features=768, out_features=768, bias=True)\n",
      ")\n",
      "encoder.layers.9.self_attn.k_proj Linear(in_features=768, out_features=768, bias=True)\n",
      "encoder.layers.9.self_attn.v_proj Linear(in_features=768, out_features=768, bias=True)\n",
      "encoder.layers.9.self_attn.q_proj Linear(in_features=768, out_features=768, bias=True)\n",
      "encoder.layers.9.self_attn.out_proj Linear(in_features=768, out_features=768, bias=True)\n",
      "encoder.layers.9.layer_norm1 LayerNorm((768,), eps=1e-05, elementwise_affine=True)\n",
      "encoder.layers.9.mlp CLIPMLP(\n",
      "  (activation_fn): QuickGELUActivation()\n",
      "  (fc1): Linear(in_features=768, out_features=3072, bias=True)\n",
      "  (fc2): Linear(in_features=3072, out_features=768, bias=True)\n",
      ")\n",
      "encoder.layers.9.mlp.activation_fn QuickGELUActivation()\n",
      "encoder.layers.9.mlp.fc1 Linear(in_features=768, out_features=3072, bias=True)\n",
      "encoder.layers.9.mlp.fc2 Linear(in_features=3072, out_features=768, bias=True)\n",
      "encoder.layers.9.layer_norm2 LayerNorm((768,), eps=1e-05, elementwise_affine=True)\n",
      "encoder.layers.10 CLIPEncoderLayer(\n",
      "  (self_attn): CLIPAttention(\n",
      "    (k_proj): Linear(in_features=768, out_features=768, bias=True)\n",
      "    (v_proj): Linear(in_features=768, out_features=768, bias=True)\n",
      "    (q_proj): Linear(in_features=768, out_features=768, bias=True)\n",
      "    (out_proj): Linear(in_features=768, out_features=768, bias=True)\n",
      "  )\n",
      "  (layer_norm1): LayerNorm((768,), eps=1e-05, elementwise_affine=True)\n",
      "  (mlp): CLIPMLP(\n",
      "    (activation_fn): QuickGELUActivation()\n",
      "    (fc1): Linear(in_features=768, out_features=3072, bias=True)\n",
      "    (fc2): Linear(in_features=3072, out_features=768, bias=True)\n",
      "  )\n",
      "  (layer_norm2): LayerNorm((768,), eps=1e-05, elementwise_affine=True)\n",
      ")\n",
      "encoder.layers.10.self_attn CLIPAttention(\n",
      "  (k_proj): Linear(in_features=768, out_features=768, bias=True)\n",
      "  (v_proj): Linear(in_features=768, out_features=768, bias=True)\n",
      "  (q_proj): Linear(in_features=768, out_features=768, bias=True)\n",
      "  (out_proj): Linear(in_features=768, out_features=768, bias=True)\n",
      ")\n",
      "encoder.layers.10.self_attn.k_proj Linear(in_features=768, out_features=768, bias=True)\n",
      "encoder.layers.10.self_attn.v_proj Linear(in_features=768, out_features=768, bias=True)\n",
      "encoder.layers.10.self_attn.q_proj Linear(in_features=768, out_features=768, bias=True)\n",
      "encoder.layers.10.self_attn.out_proj Linear(in_features=768, out_features=768, bias=True)\n",
      "encoder.layers.10.layer_norm1 LayerNorm((768,), eps=1e-05, elementwise_affine=True)\n",
      "encoder.layers.10.mlp CLIPMLP(\n",
      "  (activation_fn): QuickGELUActivation()\n",
      "  (fc1): Linear(in_features=768, out_features=3072, bias=True)\n",
      "  (fc2): Linear(in_features=3072, out_features=768, bias=True)\n",
      ")\n",
      "encoder.layers.10.mlp.activation_fn QuickGELUActivation()\n",
      "encoder.layers.10.mlp.fc1 Linear(in_features=768, out_features=3072, bias=True)\n",
      "encoder.layers.10.mlp.fc2 Linear(in_features=3072, out_features=768, bias=True)\n",
      "encoder.layers.10.layer_norm2 LayerNorm((768,), eps=1e-05, elementwise_affine=True)\n",
      "encoder.layers.11 CLIPEncoderLayer(\n",
      "  (self_attn): CLIPAttention(\n",
      "    (k_proj): Linear(in_features=768, out_features=768, bias=True)\n",
      "    (v_proj): Linear(in_features=768, out_features=768, bias=True)\n",
      "    (q_proj): Linear(in_features=768, out_features=768, bias=True)\n",
      "    (out_proj): Linear(in_features=768, out_features=768, bias=True)\n",
      "  )\n",
      "  (layer_norm1): LayerNorm((768,), eps=1e-05, elementwise_affine=True)\n",
      "  (mlp): CLIPMLP(\n",
      "    (activation_fn): QuickGELUActivation()\n",
      "    (fc1): Linear(in_features=768, out_features=3072, bias=True)\n",
      "    (fc2): Linear(in_features=3072, out_features=768, bias=True)\n",
      "  )\n",
      "  (layer_norm2): LayerNorm((768,), eps=1e-05, elementwise_affine=True)\n",
      ")\n",
      "encoder.layers.11.self_attn CLIPAttention(\n",
      "  (k_proj): Linear(in_features=768, out_features=768, bias=True)\n",
      "  (v_proj): Linear(in_features=768, out_features=768, bias=True)\n",
      "  (q_proj): Linear(in_features=768, out_features=768, bias=True)\n",
      "  (out_proj): Linear(in_features=768, out_features=768, bias=True)\n",
      ")\n",
      "encoder.layers.11.self_attn.k_proj Linear(in_features=768, out_features=768, bias=True)\n",
      "encoder.layers.11.self_attn.v_proj Linear(in_features=768, out_features=768, bias=True)\n",
      "encoder.layers.11.self_attn.q_proj Linear(in_features=768, out_features=768, bias=True)\n",
      "encoder.layers.11.self_attn.out_proj Linear(in_features=768, out_features=768, bias=True)\n",
      "encoder.layers.11.layer_norm1 LayerNorm((768,), eps=1e-05, elementwise_affine=True)\n",
      "encoder.layers.11.mlp CLIPMLP(\n",
      "  (activation_fn): QuickGELUActivation()\n",
      "  (fc1): Linear(in_features=768, out_features=3072, bias=True)\n",
      "  (fc2): Linear(in_features=3072, out_features=768, bias=True)\n",
      ")\n",
      "encoder.layers.11.mlp.activation_fn QuickGELUActivation()\n",
      "encoder.layers.11.mlp.fc1 Linear(in_features=768, out_features=3072, bias=True)\n",
      "encoder.layers.11.mlp.fc2 Linear(in_features=3072, out_features=768, bias=True)\n",
      "encoder.layers.11.layer_norm2 LayerNorm((768,), eps=1e-05, elementwise_affine=True)\n",
      "post_layernorm LayerNorm((768,), eps=1e-05, elementwise_affine=True)\n"
     ]
    }
   ],
   "source": [
    "print(\"Image encoder: \\n\")\n",
    "for name, module in model.vision_model.named_modules():\n",
    "    print(name, module)"
   ],
   "metadata": {
    "collapsed": false,
    "ExecuteTime": {
     "end_time": "2025-08-31T13:27:46.805992400Z",
     "start_time": "2025-08-31T13:27:46.772165500Z"
    }
   },
   "id": "5757cbe715dfa13b"
  },
  {
   "cell_type": "code",
   "execution_count": 41,
   "outputs": [
    {
     "name": "stdout",
     "output_type": "stream",
     "text": [
      "trainable params: 737,280 || all params: 150,358,017 || trainable%: 0.4903\n"
     ]
    }
   ],
   "source": [
    "lora_config = LoraConfig(\n",
    "    target_modules=[\"q_proj\", \"v_proj\", \"k_proj\"],  \n",
    "    task_type=\"FEATURE_EXTRACTION\" \n",
    ")\n",
    "\n",
    "model = get_peft_model(model, lora_config)\n",
    "model.print_trainable_parameters()"
   ],
   "metadata": {
    "collapsed": false,
    "ExecuteTime": {
     "end_time": "2025-08-31T13:38:25.824989400Z",
     "start_time": "2025-08-31T13:38:25.670292400Z"
    }
   },
   "id": "ca05eaec16a59dc7"
  },
  {
   "cell_type": "code",
   "execution_count": 42,
   "outputs": [
    {
     "name": "stderr",
     "output_type": "stream",
     "text": [
      "Epoch 1 Training: 100%|██████████| 500/500 [01:21<00:00,  6.14it/s]\n"
     ]
    },
    {
     "name": "stdout",
     "output_type": "stream",
     "text": [
      "Epoch 1 average training loss: 1.6215\n"
     ]
    },
    {
     "name": "stderr",
     "output_type": "stream",
     "text": [
      "Epoch 1 Validation: 100%|██████████| 100/100 [00:07<00:00, 13.69it/s]\n"
     ]
    },
    {
     "name": "stdout",
     "output_type": "stream",
     "text": [
      "Epoch 1 validation accuracy: 0.7100\n"
     ]
    },
    {
     "name": "stderr",
     "output_type": "stream",
     "text": [
      "Epoch 2 Training: 100%|██████████| 500/500 [01:21<00:00,  6.14it/s]\n"
     ]
    },
    {
     "name": "stdout",
     "output_type": "stream",
     "text": [
      "Epoch 2 average training loss: 0.6694\n"
     ]
    },
    {
     "name": "stderr",
     "output_type": "stream",
     "text": [
      "Epoch 2 Validation: 100%|██████████| 100/100 [00:07<00:00, 13.74it/s]\n"
     ]
    },
    {
     "name": "stdout",
     "output_type": "stream",
     "text": [
      "Epoch 2 validation accuracy: 0.7200\n"
     ]
    },
    {
     "name": "stderr",
     "output_type": "stream",
     "text": [
      "Epoch 3 Training: 100%|██████████| 500/500 [01:35<00:00,  5.26it/s]\n"
     ]
    },
    {
     "name": "stdout",
     "output_type": "stream",
     "text": [
      "Epoch 3 average training loss: 0.2744\n"
     ]
    },
    {
     "name": "stderr",
     "output_type": "stream",
     "text": [
      "Epoch 3 Validation: 100%|██████████| 100/100 [00:09<00:00, 10.07it/s]\n"
     ]
    },
    {
     "name": "stdout",
     "output_type": "stream",
     "text": [
      "Epoch 3 validation accuracy: 0.7400\n"
     ]
    },
    {
     "name": "stderr",
     "output_type": "stream",
     "text": [
      "Epoch 4 Training: 100%|██████████| 500/500 [01:48<00:00,  4.60it/s]\n"
     ]
    },
    {
     "name": "stdout",
     "output_type": "stream",
     "text": [
      "Epoch 4 average training loss: 0.0879\n"
     ]
    },
    {
     "name": "stderr",
     "output_type": "stream",
     "text": [
      "Epoch 4 Validation: 100%|██████████| 100/100 [00:09<00:00, 10.10it/s]\n"
     ]
    },
    {
     "name": "stdout",
     "output_type": "stream",
     "text": [
      "Epoch 4 validation accuracy: 0.7600\n"
     ]
    },
    {
     "name": "stderr",
     "output_type": "stream",
     "text": [
      "Epoch 5 Training: 100%|██████████| 500/500 [01:50<00:00,  4.54it/s]\n"
     ]
    },
    {
     "name": "stdout",
     "output_type": "stream",
     "text": [
      "Epoch 5 average training loss: 0.0265\n"
     ]
    },
    {
     "name": "stderr",
     "output_type": "stream",
     "text": [
      "Epoch 5 Validation: 100%|██████████| 100/100 [00:10<00:00,  9.89it/s]"
     ]
    },
    {
     "name": "stdout",
     "output_type": "stream",
     "text": [
      "Epoch 5 validation accuracy: 0.7600\n"
     ]
    },
    {
     "name": "stderr",
     "output_type": "stream",
     "text": [
      "\n"
     ]
    }
   ],
   "source": [
    "optimizer = torch.optim.AdamW(model.parameters(), lr=0.0001)\n",
    "model.train()\n",
    "\n",
    "for epoch in range(5):\n",
    "    running_loss = 0\n",
    "    for item in tqdm(train_subset, desc=f\"Epoch {epoch+1} Training\"):\n",
    "        optimizer.zero_grad()\n",
    "        image_input = processor(images=item[\"image\"], return_tensors=\"pt\").pixel_values.to(device)\n",
    "        image_features = model.get_image_features(pixel_values=image_input)\n",
    "        \n",
    "        text_inputs = processor(text=class_labels, return_tensors=\"pt\", padding=True).to(device)\n",
    "        text_features = model.get_text_features(input_ids=text_inputs.input_ids,\n",
    "                                                attention_mask=text_inputs.attention_mask)\n",
    "        \n",
    "\n",
    "        logits = image_features @ text_features.T\n",
    "        labels = torch.tensor([item[\"label\"]]).to(device)\n",
    "        loss = F.cross_entropy(logits, labels)\n",
    "        \n",
    "        loss.backward()\n",
    "        optimizer.step()\n",
    "        running_loss += loss.item()\n",
    "    \n",
    "    avg_loss = running_loss / len(train_subset)\n",
    "    print(f\"Epoch {epoch+1} average training loss: {avg_loss:.4f}\")\n",
    "    \n",
    "\n",
    "    model.eval()\n",
    "    correct = 0\n",
    "    with torch.no_grad():\n",
    "        for item in tqdm(val_subset, desc=f\"Epoch {epoch+1} Validation\"):\n",
    "            image_input = processor(images=item[\"image\"], return_tensors=\"pt\").pixel_values.to(device)\n",
    "            text_inputs = processor(text=class_labels, return_tensors=\"pt\", padding=True).to(device)\n",
    "            \n",
    "            image_features = model.get_image_features(pixel_values=image_input)\n",
    "            text_features = model.get_text_features(\n",
    "                input_ids=text_inputs.input_ids,\n",
    "                attention_mask=text_inputs.attention_mask\n",
    "            )\n",
    "            logits = image_features @ text_features.T\n",
    "            pred_idx = logits.argmax().item()\n",
    "            if pred_idx == item[\"label\"]:\n",
    "                correct += 1\n",
    "\n",
    "    val_accuracy = correct / len(val_subset)\n",
    "    print(f\"Epoch {epoch+1} validation accuracy: {val_accuracy:.4f}\")\n",
    "    model.train()  \n"
   ],
   "metadata": {
    "collapsed": false,
    "ExecuteTime": {
     "end_time": "2025-08-31T13:51:45.058740900Z",
     "start_time": "2025-08-31T13:43:03.716902400Z"
    }
   },
   "id": "32a95e1638ce512c"
  },
  {
   "cell_type": "markdown",
   "source": [
    "### With fine tune (on both encoder) we achived higer accuracy, let's now see the differences on finetuning weights in the image or text decoder only"
   ],
   "metadata": {
    "collapsed": false
   },
   "id": "2b20ae14365a91f4"
  },
  {
   "cell_type": "code",
   "execution_count": 46,
   "outputs": [
    {
     "data": {
      "text/plain": "Fetching 1 files:   0%|          | 0/1 [00:00<?, ?it/s]",
      "application/vnd.jupyter.widget-view+json": {
       "version_major": 2,
       "version_minor": 0,
       "model_id": "9849e31c93444e6bb124699aaf49c98d"
      }
     },
     "metadata": {},
     "output_type": "display_data"
    },
    {
     "name": "stdout",
     "output_type": "stream",
     "text": [
      "trainable params: 294,912 || all params: 150,358,017 || trainable%: 0.1961\n"
     ]
    }
   ],
   "source": [
    "model_name = \"openai/clip-vit-base-patch16\"\n",
    "model = CLIPModel.from_pretrained(model_name).to(device)\n",
    "processor = CLIPProcessor.from_pretrained(model_name)\n",
    "\n",
    "lora_config = LoraConfig(\n",
    "    target_modules=[\"q_proj\", \"v_proj\", \"k_proj\"],  \n",
    "    task_type=\"FEATURE_EXTRACTION\" \n",
    ")\n",
    "\n",
    "model = get_peft_model(model, lora_config)\n",
    "\n",
    "for param in model.vision_model.parameters():\n",
    "    param.requires_grad = False    # only fine tune text encoder\n",
    "    \n",
    "model.print_trainable_parameters()"
   ],
   "metadata": {
    "collapsed": false,
    "ExecuteTime": {
     "end_time": "2025-08-31T13:56:44.407120700Z",
     "start_time": "2025-08-31T13:56:38.207421700Z"
    }
   },
   "id": "c791d667c1a7fe93"
  },
  {
   "cell_type": "code",
   "execution_count": 47,
   "outputs": [
    {
     "name": "stderr",
     "output_type": "stream",
     "text": [
      "Epoch 1 Training: 100%|██████████| 500/500 [01:09<00:00,  7.22it/s]\n"
     ]
    },
    {
     "name": "stdout",
     "output_type": "stream",
     "text": [
      "Epoch 1 average training loss: 1.8706\n"
     ]
    },
    {
     "name": "stderr",
     "output_type": "stream",
     "text": [
      "Epoch 1 Validation: 100%|██████████| 100/100 [00:08<00:00, 12.47it/s]\n"
     ]
    },
    {
     "name": "stdout",
     "output_type": "stream",
     "text": [
      "Epoch 1 validation accuracy: 0.6800\n"
     ]
    },
    {
     "name": "stderr",
     "output_type": "stream",
     "text": [
      "Epoch 2 Training: 100%|██████████| 500/500 [01:12<00:00,  6.88it/s]\n"
     ]
    },
    {
     "name": "stdout",
     "output_type": "stream",
     "text": [
      "Epoch 2 average training loss: 1.3117\n"
     ]
    },
    {
     "name": "stderr",
     "output_type": "stream",
     "text": [
      "Epoch 2 Validation: 100%|██████████| 100/100 [00:08<00:00, 12.14it/s]\n"
     ]
    },
    {
     "name": "stdout",
     "output_type": "stream",
     "text": [
      "Epoch 2 validation accuracy: 0.7000\n"
     ]
    },
    {
     "name": "stderr",
     "output_type": "stream",
     "text": [
      "Epoch 3 Training: 100%|██████████| 500/500 [01:29<00:00,  5.60it/s]\n"
     ]
    },
    {
     "name": "stdout",
     "output_type": "stream",
     "text": [
      "Epoch 3 average training loss: 1.1145\n"
     ]
    },
    {
     "name": "stderr",
     "output_type": "stream",
     "text": [
      "Epoch 3 Validation: 100%|██████████| 100/100 [00:10<00:00,  9.51it/s]\n"
     ]
    },
    {
     "name": "stdout",
     "output_type": "stream",
     "text": [
      "Epoch 3 validation accuracy: 0.7100\n"
     ]
    },
    {
     "name": "stderr",
     "output_type": "stream",
     "text": [
      "Epoch 4 Training: 100%|██████████| 500/500 [01:32<00:00,  5.38it/s]\n"
     ]
    },
    {
     "name": "stdout",
     "output_type": "stream",
     "text": [
      "Epoch 4 average training loss: 0.9486\n"
     ]
    },
    {
     "name": "stderr",
     "output_type": "stream",
     "text": [
      "Epoch 4 Validation: 100%|██████████| 100/100 [00:09<00:00, 10.10it/s]\n"
     ]
    },
    {
     "name": "stdout",
     "output_type": "stream",
     "text": [
      "Epoch 4 validation accuracy: 0.7300\n"
     ]
    },
    {
     "name": "stderr",
     "output_type": "stream",
     "text": [
      "Epoch 5 Training: 100%|██████████| 500/500 [01:33<00:00,  5.34it/s]\n"
     ]
    },
    {
     "name": "stdout",
     "output_type": "stream",
     "text": [
      "Epoch 5 average training loss: 0.7926\n"
     ]
    },
    {
     "name": "stderr",
     "output_type": "stream",
     "text": [
      "Epoch 5 Validation: 100%|██████████| 100/100 [00:10<00:00,  9.97it/s]"
     ]
    },
    {
     "name": "stdout",
     "output_type": "stream",
     "text": [
      "Epoch 5 validation accuracy: 0.7300\n"
     ]
    },
    {
     "name": "stderr",
     "output_type": "stream",
     "text": [
      "\n"
     ]
    }
   ],
   "source": [
    "optimizer = torch.optim.AdamW(model.parameters(), lr=0.0001)\n",
    "model.train()\n",
    "\n",
    "for epoch in range(5):\n",
    "    running_loss = 0\n",
    "    for item in tqdm(train_subset, desc=f\"Epoch {epoch+1} Training\"):\n",
    "        optimizer.zero_grad()\n",
    "        image_input = processor(images=item[\"image\"], return_tensors=\"pt\").pixel_values.to(device)\n",
    "        image_features = model.get_image_features(pixel_values=image_input)\n",
    "        \n",
    "        text_inputs = processor(text=class_labels, return_tensors=\"pt\", padding=True).to(device)\n",
    "        text_features = model.get_text_features(input_ids=text_inputs.input_ids,\n",
    "                                                attention_mask=text_inputs.attention_mask)\n",
    "        \n",
    "\n",
    "        logits = image_features @ text_features.T\n",
    "        labels = torch.tensor([item[\"label\"]]).to(device)\n",
    "        loss = F.cross_entropy(logits, labels)\n",
    "        \n",
    "        loss.backward()\n",
    "        optimizer.step()\n",
    "        running_loss += loss.item()\n",
    "    \n",
    "    avg_loss = running_loss / len(train_subset)\n",
    "    print(f\"Epoch {epoch+1} average training loss: {avg_loss:.4f}\")\n",
    "    \n",
    "\n",
    "    model.eval()\n",
    "    correct = 0\n",
    "    with torch.no_grad():\n",
    "        for item in tqdm(val_subset, desc=f\"Epoch {epoch+1} Validation\"):\n",
    "            image_input = processor(images=item[\"image\"], return_tensors=\"pt\").pixel_values.to(device)\n",
    "            text_inputs = processor(text=class_labels, return_tensors=\"pt\", padding=True).to(device)\n",
    "            \n",
    "            image_features = model.get_image_features(pixel_values=image_input)\n",
    "            text_features = model.get_text_features(\n",
    "                input_ids=text_inputs.input_ids,\n",
    "                attention_mask=text_inputs.attention_mask\n",
    "            )\n",
    "            logits = image_features @ text_features.T\n",
    "            pred_idx = logits.argmax().item()\n",
    "            if pred_idx == item[\"label\"]:\n",
    "                correct += 1\n",
    "\n",
    "    val_accuracy = correct / len(val_subset)\n",
    "    print(f\"Epoch {epoch+1} validation accuracy: {val_accuracy:.4f}\")\n",
    "    model.train()  \n"
   ],
   "metadata": {
    "collapsed": false,
    "ExecuteTime": {
     "end_time": "2025-08-31T14:04:48.528489800Z",
     "start_time": "2025-08-31T13:57:04.016179100Z"
    }
   },
   "id": "2d3bb1a6c8088b2"
  },
  {
   "cell_type": "code",
   "execution_count": 48,
   "outputs": [
    {
     "data": {
      "text/plain": "Fetching 1 files:   0%|          | 0/1 [00:00<?, ?it/s]",
      "application/vnd.jupyter.widget-view+json": {
       "version_major": 2,
       "version_minor": 0,
       "model_id": "25e2af6cdf094e5fac983096aa659670"
      }
     },
     "metadata": {},
     "output_type": "display_data"
    },
    {
     "name": "stdout",
     "output_type": "stream",
     "text": [
      "trainable params: 442,368 || all params: 150,358,017 || trainable%: 0.2942\n"
     ]
    }
   ],
   "source": [
    "model_name = \"openai/clip-vit-base-patch16\"\n",
    "model = CLIPModel.from_pretrained(model_name).to(device)\n",
    "processor = CLIPProcessor.from_pretrained(model_name)\n",
    "\n",
    "lora_config = LoraConfig(\n",
    "    target_modules=[\"q_proj\", \"v_proj\", \"k_proj\"],  \n",
    "    task_type=\"FEATURE_EXTRACTION\" \n",
    ")\n",
    "\n",
    "model = get_peft_model(model, lora_config)\n",
    "\n",
    "for param in model.text_model.parameters():\n",
    "    param.requires_grad = False    # only fine tune vision encoder\n",
    "    \n",
    "model.print_trainable_parameters()"
   ],
   "metadata": {
    "collapsed": false,
    "ExecuteTime": {
     "end_time": "2025-08-31T14:06:47.612533300Z",
     "start_time": "2025-08-31T14:06:42.257995100Z"
    }
   },
   "id": "39951e01881aa836"
  },
  {
   "cell_type": "code",
   "execution_count": 49,
   "outputs": [
    {
     "name": "stderr",
     "output_type": "stream",
     "text": [
      "Epoch 1 Training: 100%|██████████| 500/500 [01:03<00:00,  7.93it/s]\n"
     ]
    },
    {
     "name": "stdout",
     "output_type": "stream",
     "text": [
      "Epoch 1 average training loss: 1.8970\n"
     ]
    },
    {
     "name": "stderr",
     "output_type": "stream",
     "text": [
      "Epoch 1 Validation: 100%|██████████| 100/100 [00:08<00:00, 12.49it/s]\n"
     ]
    },
    {
     "name": "stdout",
     "output_type": "stream",
     "text": [
      "Epoch 1 validation accuracy: 0.7200\n"
     ]
    },
    {
     "name": "stderr",
     "output_type": "stream",
     "text": [
      "Epoch 2 Training: 100%|██████████| 500/500 [01:05<00:00,  7.67it/s]\n"
     ]
    },
    {
     "name": "stdout",
     "output_type": "stream",
     "text": [
      "Epoch 2 average training loss: 0.9143\n"
     ]
    },
    {
     "name": "stderr",
     "output_type": "stream",
     "text": [
      "Epoch 2 Validation: 100%|██████████| 100/100 [00:08<00:00, 12.43it/s]\n"
     ]
    },
    {
     "name": "stdout",
     "output_type": "stream",
     "text": [
      "Epoch 2 validation accuracy: 0.6800\n"
     ]
    },
    {
     "name": "stderr",
     "output_type": "stream",
     "text": [
      "Epoch 3 Training: 100%|██████████| 500/500 [01:02<00:00,  7.98it/s]\n"
     ]
    },
    {
     "name": "stdout",
     "output_type": "stream",
     "text": [
      "Epoch 3 average training loss: 0.4703\n"
     ]
    },
    {
     "name": "stderr",
     "output_type": "stream",
     "text": [
      "Epoch 3 Validation: 100%|██████████| 100/100 [00:08<00:00, 11.43it/s]\n"
     ]
    },
    {
     "name": "stdout",
     "output_type": "stream",
     "text": [
      "Epoch 3 validation accuracy: 0.6700\n"
     ]
    },
    {
     "name": "stderr",
     "output_type": "stream",
     "text": [
      "Epoch 4 Training: 100%|██████████| 500/500 [01:12<00:00,  6.85it/s]\n"
     ]
    },
    {
     "name": "stdout",
     "output_type": "stream",
     "text": [
      "Epoch 4 average training loss: 0.2149\n"
     ]
    },
    {
     "name": "stderr",
     "output_type": "stream",
     "text": [
      "Epoch 4 Validation: 100%|██████████| 100/100 [00:10<00:00,  9.56it/s]\n"
     ]
    },
    {
     "name": "stdout",
     "output_type": "stream",
     "text": [
      "Epoch 4 validation accuracy: 0.7100\n"
     ]
    },
    {
     "name": "stderr",
     "output_type": "stream",
     "text": [
      "Epoch 5 Training: 100%|██████████| 500/500 [01:12<00:00,  6.90it/s]\n"
     ]
    },
    {
     "name": "stdout",
     "output_type": "stream",
     "text": [
      "Epoch 5 average training loss: 0.0888\n"
     ]
    },
    {
     "name": "stderr",
     "output_type": "stream",
     "text": [
      "Epoch 5 Validation: 100%|██████████| 100/100 [00:10<00:00,  9.83it/s]"
     ]
    },
    {
     "name": "stdout",
     "output_type": "stream",
     "text": [
      "Epoch 5 validation accuracy: 0.6800\n"
     ]
    },
    {
     "name": "stderr",
     "output_type": "stream",
     "text": [
      "\n"
     ]
    }
   ],
   "source": [
    "optimizer = torch.optim.AdamW(model.parameters(), lr=0.0001)\n",
    "model.train()\n",
    "\n",
    "for epoch in range(5):\n",
    "    running_loss = 0\n",
    "    for item in tqdm(train_subset, desc=f\"Epoch {epoch+1} Training\"):\n",
    "        optimizer.zero_grad()\n",
    "        image_input = processor(images=item[\"image\"], return_tensors=\"pt\").pixel_values.to(device)\n",
    "        image_features = model.get_image_features(pixel_values=image_input)\n",
    "        \n",
    "        text_inputs = processor(text=class_labels, return_tensors=\"pt\", padding=True).to(device)\n",
    "        text_features = model.get_text_features(input_ids=text_inputs.input_ids,\n",
    "                                                attention_mask=text_inputs.attention_mask)\n",
    "        \n",
    "\n",
    "        logits = image_features @ text_features.T\n",
    "        labels = torch.tensor([item[\"label\"]]).to(device)\n",
    "        loss = F.cross_entropy(logits, labels)\n",
    "        \n",
    "        loss.backward()\n",
    "        optimizer.step()\n",
    "        running_loss += loss.item()\n",
    "    \n",
    "    avg_loss = running_loss / len(train_subset)\n",
    "    print(f\"Epoch {epoch+1} average training loss: {avg_loss:.4f}\")\n",
    "    \n",
    "\n",
    "    model.eval()\n",
    "    correct = 0\n",
    "    with torch.no_grad():\n",
    "        for item in tqdm(val_subset, desc=f\"Epoch {epoch+1} Validation\"):\n",
    "            image_input = processor(images=item[\"image\"], return_tensors=\"pt\").pixel_values.to(device)\n",
    "            text_inputs = processor(text=class_labels, return_tensors=\"pt\", padding=True).to(device)\n",
    "            \n",
    "            image_features = model.get_image_features(pixel_values=image_input)\n",
    "            text_features = model.get_text_features(\n",
    "                input_ids=text_inputs.input_ids,\n",
    "                attention_mask=text_inputs.attention_mask\n",
    "            )\n",
    "            logits = image_features @ text_features.T\n",
    "            pred_idx = logits.argmax().item()\n",
    "            if pred_idx == item[\"label\"]:\n",
    "                correct += 1\n",
    "\n",
    "    val_accuracy = correct / len(val_subset)\n",
    "    print(f\"Epoch {epoch+1} validation accuracy: {val_accuracy:.4f}\")\n",
    "    model.train()  \n"
   ],
   "metadata": {
    "collapsed": false,
    "ExecuteTime": {
     "end_time": "2025-08-31T14:13:41.083896300Z",
     "start_time": "2025-08-31T14:07:19.288690500Z"
    }
   },
   "id": "c3102f6a8e534854"
  },
  {
   "cell_type": "markdown",
   "source": [
    "### Art dataset: https://www.kaggle.com/code/jaafaryassine/art-style-classification"
   ],
   "metadata": {
    "collapsed": false
   },
   "id": "3a9a339b6499b339"
  },
  {
   "cell_type": "code",
   "execution_count": 3,
   "outputs": [
    {
     "data": {
      "text/plain": "           artist    date     genre  pixelsx  pixelsy  size_bytes   source  \\\n0  Barnett Newman  1955.0  abstract  15530.0   6911.0   9201912.0  wikiart   \n1  Barnett Newman  1950.0  abstract  14559.0   6866.0   8867532.0  wikiart   \n2     kiri nichol  2013.0       NaN   9003.0   9004.0   1756681.0      NaN   \n3     kiri nichol  2013.0       NaN   9003.0   9004.0   1942046.0      NaN   \n4     kiri nichol  2013.0       NaN   9003.0   9004.0   1526212.0      NaN   \n\n                  style                  title    filename  \n0  Color Field Painting                  Uriel  102257.jpg  \n1  Color Field Painting  Vir Heroicus Sublimis   75232.jpg  \n2         Neoplasticism                    NaN   32145.jpg  \n3         Neoplasticism                    NaN   20304.jpg  \n4         Neoplasticism                    NaN     836.jpg  ",
      "text/html": "<div>\n<style scoped>\n    .dataframe tbody tr th:only-of-type {\n        vertical-align: middle;\n    }\n\n    .dataframe tbody tr th {\n        vertical-align: top;\n    }\n\n    .dataframe thead th {\n        text-align: right;\n    }\n</style>\n<table border=\"1\" class=\"dataframe\">\n  <thead>\n    <tr style=\"text-align: right;\">\n      <th></th>\n      <th>artist</th>\n      <th>date</th>\n      <th>genre</th>\n      <th>pixelsx</th>\n      <th>pixelsy</th>\n      <th>size_bytes</th>\n      <th>source</th>\n      <th>style</th>\n      <th>title</th>\n      <th>filename</th>\n    </tr>\n  </thead>\n  <tbody>\n    <tr>\n      <th>0</th>\n      <td>Barnett Newman</td>\n      <td>1955.0</td>\n      <td>abstract</td>\n      <td>15530.0</td>\n      <td>6911.0</td>\n      <td>9201912.0</td>\n      <td>wikiart</td>\n      <td>Color Field Painting</td>\n      <td>Uriel</td>\n      <td>102257.jpg</td>\n    </tr>\n    <tr>\n      <th>1</th>\n      <td>Barnett Newman</td>\n      <td>1950.0</td>\n      <td>abstract</td>\n      <td>14559.0</td>\n      <td>6866.0</td>\n      <td>8867532.0</td>\n      <td>wikiart</td>\n      <td>Color Field Painting</td>\n      <td>Vir Heroicus Sublimis</td>\n      <td>75232.jpg</td>\n    </tr>\n    <tr>\n      <th>2</th>\n      <td>kiri nichol</td>\n      <td>2013.0</td>\n      <td>NaN</td>\n      <td>9003.0</td>\n      <td>9004.0</td>\n      <td>1756681.0</td>\n      <td>NaN</td>\n      <td>Neoplasticism</td>\n      <td>NaN</td>\n      <td>32145.jpg</td>\n    </tr>\n    <tr>\n      <th>3</th>\n      <td>kiri nichol</td>\n      <td>2013.0</td>\n      <td>NaN</td>\n      <td>9003.0</td>\n      <td>9004.0</td>\n      <td>1942046.0</td>\n      <td>NaN</td>\n      <td>Neoplasticism</td>\n      <td>NaN</td>\n      <td>20304.jpg</td>\n    </tr>\n    <tr>\n      <th>4</th>\n      <td>kiri nichol</td>\n      <td>2013.0</td>\n      <td>NaN</td>\n      <td>9003.0</td>\n      <td>9004.0</td>\n      <td>1526212.0</td>\n      <td>NaN</td>\n      <td>Neoplasticism</td>\n      <td>NaN</td>\n      <td>836.jpg</td>\n    </tr>\n  </tbody>\n</table>\n</div>"
     },
     "execution_count": 3,
     "metadata": {},
     "output_type": "execute_result"
    }
   ],
   "source": [
    "art = pd.read_csv('art_dataset/imagesinfo.csv')\n",
    "art.head()"
   ],
   "metadata": {
    "collapsed": false,
    "ExecuteTime": {
     "end_time": "2025-08-31T14:21:46.464219600Z",
     "start_time": "2025-08-31T14:21:46.113810600Z"
    }
   },
   "id": "fdd5efc45fa465c2"
  },
  {
   "cell_type": "code",
   "execution_count": 4,
   "outputs": [
    {
     "data": {
      "text/plain": "             artist    date                     genre  pixelsx  pixelsy  \\\n4       kiri nichol  2013.0                       NaN   9003.0   9004.0   \n78    Thomas Eakins     NaN        nude painting (nu)   3648.0   6264.0   \n79   Paolo Veronese     NaN                  portrait   3688.0   6191.0   \n108   Lorenzo Lotto  c.1531                  portrait   4830.0   4226.0   \n125       Hiroshige    1838  bird-and-flower painting   3859.0   5031.0   \n\n     size_bytes     source                         style  \\\n4     1526212.0        NaN                 Neoplasticism   \n78    9096636.0  wikipedia                       Realism   \n79    7445177.0    wikiart  Mannerism (Late Renaissance)   \n108   7016282.0    wikiart              High Renaissance   \n125   5420701.0    wikiart                       Ukiyo-e   \n\n                                 title filename  file_num  \n4                                  NaN  836.jpg       836  \n78                Nude Woman Standing   633.jpg       633  \n79                Boy with a Greyhound  840.jpg       840  \n108  A Lady with a Drawing of Lucretia  820.jpg       820  \n125      Plum Blossom and Bush Warbler  216.jpg       216  ",
      "text/html": "<div>\n<style scoped>\n    .dataframe tbody tr th:only-of-type {\n        vertical-align: middle;\n    }\n\n    .dataframe tbody tr th {\n        vertical-align: top;\n    }\n\n    .dataframe thead th {\n        text-align: right;\n    }\n</style>\n<table border=\"1\" class=\"dataframe\">\n  <thead>\n    <tr style=\"text-align: right;\">\n      <th></th>\n      <th>artist</th>\n      <th>date</th>\n      <th>genre</th>\n      <th>pixelsx</th>\n      <th>pixelsy</th>\n      <th>size_bytes</th>\n      <th>source</th>\n      <th>style</th>\n      <th>title</th>\n      <th>filename</th>\n      <th>file_num</th>\n    </tr>\n  </thead>\n  <tbody>\n    <tr>\n      <th>4</th>\n      <td>kiri nichol</td>\n      <td>2013.0</td>\n      <td>NaN</td>\n      <td>9003.0</td>\n      <td>9004.0</td>\n      <td>1526212.0</td>\n      <td>NaN</td>\n      <td>Neoplasticism</td>\n      <td>NaN</td>\n      <td>836.jpg</td>\n      <td>836</td>\n    </tr>\n    <tr>\n      <th>78</th>\n      <td>Thomas Eakins</td>\n      <td>NaN</td>\n      <td>nude painting (nu)</td>\n      <td>3648.0</td>\n      <td>6264.0</td>\n      <td>9096636.0</td>\n      <td>wikipedia</td>\n      <td>Realism</td>\n      <td>Nude Woman Standing</td>\n      <td>633.jpg</td>\n      <td>633</td>\n    </tr>\n    <tr>\n      <th>79</th>\n      <td>Paolo Veronese</td>\n      <td>NaN</td>\n      <td>portrait</td>\n      <td>3688.0</td>\n      <td>6191.0</td>\n      <td>7445177.0</td>\n      <td>wikiart</td>\n      <td>Mannerism (Late Renaissance)</td>\n      <td>Boy with a Greyhound</td>\n      <td>840.jpg</td>\n      <td>840</td>\n    </tr>\n    <tr>\n      <th>108</th>\n      <td>Lorenzo Lotto</td>\n      <td>c.1531</td>\n      <td>portrait</td>\n      <td>4830.0</td>\n      <td>4226.0</td>\n      <td>7016282.0</td>\n      <td>wikiart</td>\n      <td>High Renaissance</td>\n      <td>A Lady with a Drawing of Lucretia</td>\n      <td>820.jpg</td>\n      <td>820</td>\n    </tr>\n    <tr>\n      <th>125</th>\n      <td>Hiroshige</td>\n      <td>1838</td>\n      <td>bird-and-flower painting</td>\n      <td>3859.0</td>\n      <td>5031.0</td>\n      <td>5420701.0</td>\n      <td>wikiart</td>\n      <td>Ukiyo-e</td>\n      <td>Plum Blossom and Bush Warbler</td>\n      <td>216.jpg</td>\n      <td>216</td>\n    </tr>\n  </tbody>\n</table>\n</div>"
     },
     "execution_count": 4,
     "metadata": {},
     "output_type": "execute_result"
    }
   ],
   "source": [
    "art['file_num'] = art['filename'].str.replace('.jpg', '', regex=False).astype(int)\n",
    "\n",
    "filtered_df = art[(art['file_num'] >= 0) & (art['file_num'] <= 1000)]\n",
    "\n",
    "filtered_df.head()"
   ],
   "metadata": {
    "collapsed": false,
    "ExecuteTime": {
     "end_time": "2025-08-31T14:25:32.595438600Z",
     "start_time": "2025-08-31T14:25:32.479759800Z"
    }
   },
   "id": "b04046ff9eb30772"
  },
  {
   "cell_type": "code",
   "execution_count": 5,
   "outputs": [
    {
     "name": "stdout",
     "output_type": "stream",
     "text": [
      "genre\n",
      "portrait              177\n",
      "landscape             152\n",
      "genre painting        138\n",
      "abstract               83\n",
      "religious painting     63\n",
      "cityscape              54\n",
      "illustration           33\n",
      "sketch and study       30\n",
      "marina                 27\n",
      "flower painting        24\n",
      "Name: count, dtype: int64\n"
     ]
    }
   ],
   "source": [
    "top_genres = filtered_df['genre'].value_counts().head(10)\n",
    "print(top_genres)"
   ],
   "metadata": {
    "collapsed": false,
    "ExecuteTime": {
     "end_time": "2025-08-31T14:26:38.461830800Z",
     "start_time": "2025-08-31T14:26:38.426141800Z"
    }
   },
   "id": "9c82e566556a7e0c"
  },
  {
   "cell_type": "code",
   "execution_count": 7,
   "outputs": [
    {
     "name": "stdout",
     "output_type": "stream",
     "text": [
      "    filename      genre\n",
      "79   840.jpg   portrait\n",
      "108  820.jpg   portrait\n",
      "324  956.jpg  landscape\n",
      "375  393.jpg   portrait\n",
      "399  254.jpg   portrait\n"
     ]
    }
   ],
   "source": [
    "valid_genres = ['portrait', 'landscape', 'abstract', 'religious painting', 'cityscape']\n",
    "dataset = filtered_df[filtered_df['genre'].isin(valid_genres)].copy()\n",
    "dataset['genre'] = dataset['genre'].replace({'religious painting': 'religious'})\n",
    "dataset = dataset[['filename', 'genre']].dropna()\n",
    "print(dataset.head())"
   ],
   "metadata": {
    "collapsed": false,
    "ExecuteTime": {
     "end_time": "2025-08-31T14:30:32.901739200Z",
     "start_time": "2025-08-31T14:30:32.861782500Z"
    }
   },
   "id": "87d76a25be7b520"
  },
  {
   "cell_type": "code",
   "execution_count": 12,
   "outputs": [],
   "source": [
    "train_df, val_df = train_test_split(dataset, test_size=0.25, random_state=42, stratify=dataset[\"genre\"])"
   ],
   "metadata": {
    "collapsed": false,
    "ExecuteTime": {
     "end_time": "2025-08-31T14:34:15.960513600Z",
     "start_time": "2025-08-31T14:34:15.862345800Z"
    }
   },
   "id": "eb4b02f228c5d968"
  },
  {
   "cell_type": "code",
   "execution_count": 15,
   "outputs": [
    {
     "name": "stdout",
     "output_type": "stream",
     "text": [
      "Train size: 396, Val size: 133\n"
     ]
    }
   ],
   "source": [
    "print(f\"Train size: {len(train_df)}, Val size: {len(val_df)}\")\n",
    "class_labels = dataset[\"genre\"].unique().tolist()"
   ],
   "metadata": {
    "collapsed": false,
    "ExecuteTime": {
     "end_time": "2025-08-31T14:35:16.687140400Z",
     "start_time": "2025-08-31T14:35:16.657603500Z"
    }
   },
   "id": "40b91418dcd2e842"
  },
  {
   "cell_type": "code",
   "execution_count": 42,
   "outputs": [
    {
     "data": {
      "text/plain": "Fetching 1 files:   0%|          | 0/1 [00:00<?, ?it/s]",
      "application/vnd.jupyter.widget-view+json": {
       "version_major": 2,
       "version_minor": 0,
       "model_id": "a0de30f446354b15bb23095176ae227f"
      }
     },
     "metadata": {},
     "output_type": "display_data"
    }
   ],
   "source": [
    "device = \"cuda\" if torch.cuda.is_available() else \"cpu\"\n",
    "model_name = \"openai/clip-vit-base-patch16\"\n",
    "model = CLIPModel.from_pretrained(model_name).to(device)\n",
    "processor = CLIPProcessor.from_pretrained(model_name)"
   ],
   "metadata": {
    "collapsed": false,
    "ExecuteTime": {
     "end_time": "2025-08-31T14:45:10.747368100Z",
     "start_time": "2025-08-31T14:45:06.719041200Z"
    }
   },
   "id": "1dffb88bb6bf70c2"
  },
  {
   "cell_type": "code",
   "execution_count": 43,
   "outputs": [],
   "source": [
    "def predict_image(row, image_folder=\"art_dataset/images\"):\n",
    "    image_path = os.path.join(image_folder, row[\"filename\"])\n",
    "    image = Image.open(image_path).convert(\"RGB\")\n",
    "\n",
    "    text_inputs = processor(text=class_labels, return_tensors=\"pt\", padding=True).to(device)\n",
    "    image_input = processor(images=image, return_tensors=\"pt\").to(device)\n",
    "\n",
    "    with torch.no_grad():\n",
    "        outputs = model(**image_input, **text_inputs)\n",
    "        logits_per_image = outputs.logits_per_image\n",
    "        probs = logits_per_image.softmax(dim=-1)\n",
    "        pred_idx = logits_per_image.argmax().item()\n",
    "    \n",
    "    pred_label = class_labels[pred_idx]\n",
    "\n",
    "    return image, pred_label, probs[0][pred_idx].item()"
   ],
   "metadata": {
    "collapsed": false,
    "ExecuteTime": {
     "end_time": "2025-08-31T14:45:11.637117Z",
     "start_time": "2025-08-31T14:45:11.583818300Z"
    }
   },
   "id": "c759f26fdd1d05d4"
  },
  {
   "cell_type": "code",
   "execution_count": 44,
   "outputs": [
    {
     "data": {
      "text/plain": "<Figure size 640x480 with 1 Axes>",
      "image/png": "[encoded data removed]"
     },
     "metadata": {},
     "output_type": "display_data"
    }
   ],
   "source": [
    "sample_row = val_df.iloc[65]   \n",
    "image, pred_label, confidence = predict_image(sample_row, image_folder=\"art_dataset/images\")\n",
    "\n",
    "plt.imshow(image)\n",
    "plt.title(f\"True: {sample_row['genre']} | Pred: {pred_label} ({confidence:.2f})\")\n",
    "plt.axis(\"off\")\n",
    "plt.show()"
   ],
   "metadata": {
    "collapsed": false,
    "ExecuteTime": {
     "end_time": "2025-08-31T14:45:13.786837700Z",
     "start_time": "2025-08-31T14:45:13.402109600Z"
    }
   },
   "id": "5d72e72a49f10190"
  },
  {
   "cell_type": "code",
   "execution_count": 45,
   "outputs": [
    {
     "name": "stderr",
     "output_type": "stream",
     "text": [
      "Zero-shot evaluation: 100%|██████████| 133/133 [00:05<00:00, 25.71it/s]"
     ]
    },
    {
     "name": "stdout",
     "output_type": "stream",
     "text": [
      "Zero-shot accuracy on 133 validation samples: 0.8722\n"
     ]
    },
    {
     "name": "stderr",
     "output_type": "stream",
     "text": [
      "\n"
     ]
    }
   ],
   "source": [
    "class_labels = train_df[\"genre\"].unique().tolist()\n",
    "label_to_idx = {label: i for i, label in enumerate(class_labels)}\n",
    "\n",
    "text_inputs = processor(text=class_labels, return_tensors=\"pt\", padding=True).to(device)\n",
    "\n",
    "correct = 0\n",
    "for _, row in tqdm(val_df.iterrows(), total=len(val_df), desc=\"Zero-shot evaluation\"):\n",
    "    image_path = os.path.join(\"art_dataset/images\", row[\"filename\"])\n",
    "    image = Image.open(image_path).convert(\"RGB\")\n",
    "    image_inputs = processor(images=image, return_tensors=\"pt\").to(device)\n",
    "\n",
    "    with torch.no_grad():\n",
    "        outputs = model(**image_inputs, **text_inputs)\n",
    "        logits_per_image = outputs.logits_per_image\n",
    "        pred_idx = logits_per_image.argmax().item()\n",
    "\n",
    "    if pred_idx == label_to_idx[row[\"genre\"]]:\n",
    "        correct += 1\n",
    "\n",
    "accuracy = correct / len(val_df)\n",
    "print(f\"Zero-shot accuracy on {len(val_df)} validation samples: {accuracy:.4f}\")"
   ],
   "metadata": {
    "collapsed": false,
    "ExecuteTime": {
     "end_time": "2025-08-31T14:45:20.858878600Z",
     "start_time": "2025-08-31T14:45:15.658268800Z"
    }
   },
   "id": "e89c68a974b4e3c3"
  },
  {
   "cell_type": "code",
   "execution_count": 46,
   "outputs": [
    {
     "name": "stdout",
     "output_type": "stream",
     "text": [
      "trainable params: 737,280 || all params: 150,358,017 || trainable%: 0.4903\n"
     ]
    }
   ],
   "source": [
    "lora_config = LoraConfig(\n",
    "    target_modules=[\"q_proj\", \"v_proj\", \"k_proj\"],  \n",
    "    task_type=\"FEATURE_EXTRACTION\" \n",
    ")\n",
    "\n",
    "model = get_peft_model(model, lora_config)    \n",
    "model.print_trainable_parameters()"
   ],
   "metadata": {
    "collapsed": false,
    "ExecuteTime": {
     "end_time": "2025-08-31T14:45:24.740194900Z",
     "start_time": "2025-08-31T14:45:24.584100500Z"
    }
   },
   "id": "86f67c77a118ec40"
  },
  {
   "cell_type": "code",
   "execution_count": 50,
   "outputs": [
    {
     "name": "stderr",
     "output_type": "stream",
     "text": [
      "Epoch 1 Training: 100%|██████████| 396/396 [00:52<00:00,  7.48it/s]\n"
     ]
    },
    {
     "name": "stdout",
     "output_type": "stream",
     "text": [
      "Epoch 1 average training loss: 0.3073\n"
     ]
    },
    {
     "name": "stderr",
     "output_type": "stream",
     "text": [
      "Epoch 1 Validation: 100%|██████████| 133/133 [00:07<00:00, 17.72it/s]\n"
     ]
    },
    {
     "name": "stdout",
     "output_type": "stream",
     "text": [
      "Epoch 1 validation accuracy: 0.8797\n"
     ]
    },
    {
     "name": "stderr",
     "output_type": "stream",
     "text": [
      "Epoch 2 Training: 100%|██████████| 396/396 [00:52<00:00,  7.53it/s]\n"
     ]
    },
    {
     "name": "stdout",
     "output_type": "stream",
     "text": [
      "Epoch 2 average training loss: 0.1164\n"
     ]
    },
    {
     "name": "stderr",
     "output_type": "stream",
     "text": [
      "Epoch 2 Validation: 100%|██████████| 133/133 [00:07<00:00, 17.68it/s]\n"
     ]
    },
    {
     "name": "stdout",
     "output_type": "stream",
     "text": [
      "Epoch 2 validation accuracy: 0.8872\n"
     ]
    },
    {
     "name": "stderr",
     "output_type": "stream",
     "text": [
      "Epoch 3 Training: 100%|██████████| 396/396 [00:51<00:00,  7.68it/s]\n"
     ]
    },
    {
     "name": "stdout",
     "output_type": "stream",
     "text": [
      "Epoch 3 average training loss: 0.0278\n"
     ]
    },
    {
     "name": "stderr",
     "output_type": "stream",
     "text": [
      "Epoch 3 Validation: 100%|██████████| 133/133 [00:07<00:00, 17.52it/s]\n"
     ]
    },
    {
     "name": "stdout",
     "output_type": "stream",
     "text": [
      "Epoch 3 validation accuracy: 0.9173\n"
     ]
    },
    {
     "name": "stderr",
     "output_type": "stream",
     "text": [
      "Epoch 4 Training: 100%|██████████| 396/396 [00:51<00:00,  7.69it/s]\n"
     ]
    },
    {
     "name": "stdout",
     "output_type": "stream",
     "text": [
      "Epoch 4 average training loss: 0.0088\n"
     ]
    },
    {
     "name": "stderr",
     "output_type": "stream",
     "text": [
      "Epoch 4 Validation: 100%|██████████| 133/133 [00:07<00:00, 18.24it/s]\n"
     ]
    },
    {
     "name": "stdout",
     "output_type": "stream",
     "text": [
      "Epoch 4 validation accuracy: 0.9098\n"
     ]
    },
    {
     "name": "stderr",
     "output_type": "stream",
     "text": [
      "Epoch 5 Training: 100%|██████████| 396/396 [00:51<00:00,  7.64it/s]\n"
     ]
    },
    {
     "name": "stdout",
     "output_type": "stream",
     "text": [
      "Epoch 5 average training loss: 0.0036\n"
     ]
    },
    {
     "name": "stderr",
     "output_type": "stream",
     "text": [
      "Epoch 5 Validation: 100%|██████████| 133/133 [00:07<00:00, 18.21it/s]\n"
     ]
    },
    {
     "name": "stdout",
     "output_type": "stream",
     "text": [
      "Epoch 5 validation accuracy: 0.9098\n"
     ]
    },
    {
     "name": "stderr",
     "output_type": "stream",
     "text": [
      "Epoch 6 Training: 100%|██████████| 396/396 [00:55<00:00,  7.07it/s]\n"
     ]
    },
    {
     "name": "stdout",
     "output_type": "stream",
     "text": [
      "Epoch 6 average training loss: 0.0019\n"
     ]
    },
    {
     "name": "stderr",
     "output_type": "stream",
     "text": [
      "Epoch 6 Validation: 100%|██████████| 133/133 [00:08<00:00, 16.28it/s]\n"
     ]
    },
    {
     "name": "stdout",
     "output_type": "stream",
     "text": [
      "Epoch 6 validation accuracy: 0.9098\n"
     ]
    },
    {
     "name": "stderr",
     "output_type": "stream",
     "text": [
      "Epoch 7 Training: 100%|██████████| 396/396 [00:54<00:00,  7.33it/s]\n"
     ]
    },
    {
     "name": "stdout",
     "output_type": "stream",
     "text": [
      "Epoch 7 average training loss: 0.0011\n"
     ]
    },
    {
     "name": "stderr",
     "output_type": "stream",
     "text": [
      "Epoch 7 Validation: 100%|██████████| 133/133 [00:07<00:00, 17.83it/s]\n"
     ]
    },
    {
     "name": "stdout",
     "output_type": "stream",
     "text": [
      "Epoch 7 validation accuracy: 0.8947\n"
     ]
    },
    {
     "name": "stderr",
     "output_type": "stream",
     "text": [
      "Epoch 8 Training: 100%|██████████| 396/396 [00:51<00:00,  7.69it/s]\n"
     ]
    },
    {
     "name": "stdout",
     "output_type": "stream",
     "text": [
      "Epoch 8 average training loss: 0.0007\n"
     ]
    },
    {
     "name": "stderr",
     "output_type": "stream",
     "text": [
      "Epoch 8 Validation: 100%|██████████| 133/133 [00:07<00:00, 17.97it/s]\n"
     ]
    },
    {
     "name": "stdout",
     "output_type": "stream",
     "text": [
      "Epoch 8 validation accuracy: 0.8947\n"
     ]
    },
    {
     "name": "stderr",
     "output_type": "stream",
     "text": [
      "Epoch 9 Training: 100%|██████████| 396/396 [00:51<00:00,  7.66it/s]\n"
     ]
    },
    {
     "name": "stdout",
     "output_type": "stream",
     "text": [
      "Epoch 9 average training loss: 0.0005\n"
     ]
    },
    {
     "name": "stderr",
     "output_type": "stream",
     "text": [
      "Epoch 9 Validation: 100%|██████████| 133/133 [00:07<00:00, 17.71it/s]\n"
     ]
    },
    {
     "name": "stdout",
     "output_type": "stream",
     "text": [
      "Epoch 9 validation accuracy: 0.9023\n"
     ]
    },
    {
     "name": "stderr",
     "output_type": "stream",
     "text": [
      "Epoch 10 Training: 100%|██████████| 396/396 [00:51<00:00,  7.64it/s]\n"
     ]
    },
    {
     "name": "stdout",
     "output_type": "stream",
     "text": [
      "Epoch 10 average training loss: 0.0003\n"
     ]
    },
    {
     "name": "stderr",
     "output_type": "stream",
     "text": [
      "Epoch 10 Validation: 100%|██████████| 133/133 [00:07<00:00, 17.42it/s]"
     ]
    },
    {
     "name": "stdout",
     "output_type": "stream",
     "text": [
      "Epoch 10 validation accuracy: 0.9023\n"
     ]
    },
    {
     "name": "stderr",
     "output_type": "stream",
     "text": [
      "\n"
     ]
    }
   ],
   "source": [
    "optimizer = torch.optim.AdamW(model.parameters(), lr=0.0001)\n",
    "model.train()\n",
    "\n",
    "for epoch in range(10):\n",
    "    running_loss = 0\n",
    "    for _, row in tqdm(train_df.iterrows(), total=len(train_df), desc=f\"Epoch {epoch+1} Training\"):\n",
    "        optimizer.zero_grad()\n",
    "\n",
    "        image_path = os.path.join(\"art_dataset/images\", row[\"filename\"])\n",
    "        image = Image.open(image_path).convert(\"RGB\")\n",
    "        image_input = processor(images=image, return_tensors=\"pt\").pixel_values.to(device)\n",
    "        image_features = model.get_image_features(pixel_values=image_input)\n",
    "\n",
    "\n",
    "        text_inputs = processor(text=class_labels, return_tensors=\"pt\", padding=True).to(device)\n",
    "        text_features = model.get_text_features(\n",
    "            input_ids=text_inputs.input_ids,\n",
    "            attention_mask=text_inputs.attention_mask\n",
    "        )\n",
    "\n",
    "        logits = image_features @ text_features.T\n",
    "        labels = torch.tensor([label_to_idx[row[\"genre\"]]]).to(device)\n",
    "        loss = F.cross_entropy(logits, labels)\n",
    "\n",
    "\n",
    "        loss.backward()\n",
    "        optimizer.step()\n",
    "        running_loss += loss.item()\n",
    "\n",
    "    avg_loss = running_loss / len(train_df)\n",
    "    print(f\"Epoch {epoch+1} average training loss: {avg_loss:.4f}\")\n",
    "\n",
    "\n",
    "    model.eval()\n",
    "    correct = 0\n",
    "    for _, row in tqdm(val_df.iterrows(), total=len(val_df), desc=f\"Epoch {epoch+1} Validation\"):\n",
    "        image_path = os.path.join(\"art_dataset/images\", row[\"filename\"])\n",
    "        image = Image.open(image_path).convert(\"RGB\")\n",
    "        image_input = processor(images=image, return_tensors=\"pt\").pixel_values.to(device)\n",
    "\n",
    "        text_inputs = processor(text=class_labels, return_tensors=\"pt\", padding=True).to(device)\n",
    "\n",
    "        with torch.no_grad():\n",
    "            image_features = model.get_image_features(pixel_values=image_input)\n",
    "            text_features = model.get_text_features(\n",
    "                input_ids=text_inputs.input_ids,\n",
    "                attention_mask=text_inputs.attention_mask\n",
    "            )\n",
    "            logits = image_features @ text_features.T\n",
    "            pred_idx = logits.argmax().item()\n",
    "            if pred_idx == label_to_idx[row[\"genre\"]]:\n",
    "                correct += 1\n",
    "\n",
    "    val_accuracy = correct / len(val_df)\n",
    "    print(f\"Epoch {epoch+1} validation accuracy: {val_accuracy:.4f}\")\n",
    "    model.train() "
   ],
   "metadata": {
    "collapsed": false,
    "ExecuteTime": {
     "end_time": "2025-08-31T14:58:23.872255700Z",
     "start_time": "2025-08-31T14:48:22.915772900Z"
    }
   },
   "id": "48c315789beed93f"
  }
 ],
 "metadata": {
  "kernelspec": {
   "display_name": "Python 3 (ipykernel)",
   "language": "python",
   "name": "python3"
  },
  "language_info": {
   "codemirror_mode": {
    "name": "ipython",
    "version": 3
   },
   "file_extension": ".py",
   "mimetype": "text/x-python",
   "name": "python",
   "nbconvert_exporter": "python",
   "pygments_lexer": "ipython3",
   "version": "3.13.2"
  }
 },
 "nbformat": 4,
 "nbformat_minor": 5
}
