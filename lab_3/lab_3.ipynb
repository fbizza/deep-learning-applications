{
 "cells": [
  {
   "cell_type": "markdown",
   "id": "08e91cdb-4693-4632-b7aa-f37eec027131",
   "metadata": {},
   "source": [
    "## Working with Transformers in the HuggingFace Ecosystem\n",
    "\n",
    "In this laboratory exercise we will learn how to work with the HuggingFace ecosystem to adapt models to new tasks. As you will see, much of what is required is *investigation* into the inner-workings of the HuggingFace abstractions. With a little work, a little trial-and-error, it is fairly easy to get a working adaptation pipeline up and running."
   ]
  },
  {
   "cell_type": "markdown",
   "id": "7e556105-269f-43e3-8933-227269afb9ea",
   "metadata": {},
   "source": [
    "#### Exercise 1.1\n"
   ]
  },
  {
   "cell_type": "code",
   "execution_count": 57,
   "outputs": [],
   "source": [
    "from datasets import load_dataset, get_dataset_split_names"
   ],
   "metadata": {
    "collapsed": false,
    "ExecuteTime": {
     "end_time": "2025-08-30T15:51:03.927812800Z",
     "start_time": "2025-08-30T15:51:03.910366400Z"
    }
   },
   "id": "e7e3b2d4f225ef24"
  },
  {
   "cell_type": "code",
   "execution_count": 58,
   "id": "15819af4-e850-412b-ab67-61b9b98e3a90",
   "metadata": {
    "ExecuteTime": {
     "end_time": "2025-08-30T15:51:08.902669900Z",
     "start_time": "2025-08-30T15:51:05.182892600Z"
    }
   },
   "outputs": [
    {
     "name": "stdout",
     "output_type": "stream",
     "text": [
      "Splits: ['train', 'validation', 'test']\n"
     ]
    }
   ],
   "source": [
    "dataset = load_dataset(\"cornell-movie-review-data/rotten_tomatoes\")\n",
    "\n",
    "splits = get_dataset_split_names(\"cornell-movie-review-data/rotten_tomatoes\")\n",
    "print(\"Splits:\", splits)"
   ]
  },
  {
   "cell_type": "code",
   "execution_count": 59,
   "outputs": [
    {
     "name": "stdout",
     "output_type": "stream",
     "text": [
      "Train size: 8530\n",
      "Validation size: 1066\n",
      "Test size: 1066\n"
     ]
    }
   ],
   "source": [
    "print(\"Train size:\", len(dataset[\"train\"]))\n",
    "print(\"Validation size:\", len(dataset[\"validation\"]))\n",
    "print(\"Test size:\", len(dataset[\"test\"]))"
   ],
   "metadata": {
    "collapsed": false,
    "ExecuteTime": {
     "end_time": "2025-08-30T15:51:10.186499800Z",
     "start_time": "2025-08-30T15:51:10.166898900Z"
    }
   },
   "id": "5ef46c69e90ec35"
  },
  {
   "cell_type": "code",
   "execution_count": 60,
   "outputs": [
    {
     "name": "stdout",
     "output_type": "stream",
     "text": [
      "Example:\n",
      " {'text': '[a] rare , beautiful film .', 'label': 1}\n"
     ]
    }
   ],
   "source": [
    "print(\"Example:\\n\", dataset[\"train\"][211])"
   ],
   "metadata": {
    "collapsed": false,
    "ExecuteTime": {
     "end_time": "2025-08-30T15:51:12.903556900Z",
     "start_time": "2025-08-30T15:51:12.871374400Z"
    }
   },
   "id": "f4e3c07bfd064cc3"
  },
  {
   "cell_type": "markdown",
   "id": "a27f50a0-0af4-4bdd-9a60-bab26f126c14",
   "metadata": {},
   "source": [
    "#### Exercise 1.2: A Pre-trained BERT and Tokenizer\n",
    "\n",
    "The model we will use is a *very* small BERT transformer called [Distilbert](https://huggingface.co/distilbert/distilbert-base-uncased) this model was trained (using self-supervised learning) on the same corpus as BERT but using the full BERT base model as a *teacher*.\n",
    "\n",
    "**Your next task**: Load the Distilbert model and corresponding tokenizer. Use the tokenizer on a few samples from the dataset and pass the tokens through the model to see what outputs are provided. I suggest you use the [`AutoModel`](https://huggingface.co/transformers/v3.0.2/model_doc/auto.html) class (and the `from_pretrained()` method) to load the model and `AutoTokenizer` to load the tokenizer)."
   ]
  },
  {
   "cell_type": "code",
   "execution_count": 64,
   "id": "3eefc651-8551-44c2-8340-37d64660fc58",
   "metadata": {
    "ExecuteTime": {
     "end_time": "2025-08-30T15:51:55.702202400Z",
     "start_time": "2025-08-30T15:51:54.871260Z"
    }
   },
   "outputs": [
    {
     "name": "stdout",
     "output_type": "stream",
     "text": [
      "intensely romantic , thought-provoking and even an engaging mystery .\n",
      "{'input_ids': tensor([[  101, 20531,  6298,  1010,  2245,  1011,  4013, 22776,  1998,  2130,\n",
      "          2019, 11973,  6547,  1012,   102]]), 'attention_mask': tensor([[1, 1, 1, 1, 1, 1, 1, 1, 1, 1, 1, 1, 1, 1, 1]])}\n"
     ]
    }
   ],
   "source": [
    "from transformers import AutoTokenizer, AutoModel\n",
    "\n",
    "name = \"distilbert-base-uncased\"\n",
    "tokenizer = AutoTokenizer.from_pretrained(name)\n",
    "model = AutoModel.from_pretrained(name)\n",
    "\n",
    "sample = dataset[\"test\"][\"text\"][260]\n",
    "print(sample)\n",
    "\n",
    "encoded_input = tokenizer(sample, return_tensors=\"pt\")\n",
    "print(encoded_input)"
   ]
  },
  {
   "cell_type": "code",
   "execution_count": 67,
   "outputs": [
    {
     "name": "stdout",
     "output_type": "stream",
     "text": [
      "BaseModelOutput(last_hidden_state=tensor([[[-0.2474, -0.2550, -0.1434,  ..., -0.2345,  0.4026,  0.1096],\n",
      "         [-0.0094,  0.2953,  0.0051,  ..., -0.3797,  0.2477, -0.3513],\n",
      "         [-0.2699,  0.1544,  0.3303,  ..., -0.5992,  0.1053, -0.4761],\n",
      "         ...,\n",
      "         [-0.1478, -0.0413,  0.4556,  ..., -0.2515,  0.2923, -0.3443],\n",
      "         [-0.5207, -0.7747, -0.1066,  ...,  0.3429,  0.4019, -0.4375],\n",
      "         [ 0.9744, -0.0602, -0.1639,  ..., -0.0061, -0.3364, -0.0374]]],\n",
      "       grad_fn=<NativeLayerNormBackward0>), hidden_states=None, attentions=None)\n"
     ]
    }
   ],
   "source": [
    "output = model(**encoded_input)\n",
    "print(output)"
   ],
   "metadata": {
    "collapsed": false,
    "ExecuteTime": {
     "end_time": "2025-08-30T15:52:27.175215400Z",
     "start_time": "2025-08-30T15:52:27.116291200Z"
    }
   },
   "id": "a38cbd3d3042e9d9"
  },
  {
   "cell_type": "code",
   "execution_count": 68,
   "outputs": [
    {
     "name": "stdout",
     "output_type": "stream",
     "text": [
      "\n",
      "Last hidden state shape: torch.Size([1, 15, 768])\n"
     ]
    }
   ],
   "source": [
    "print(\"\\nLast hidden state shape:\", output.last_hidden_state.shape)"
   ],
   "metadata": {
    "collapsed": false,
    "ExecuteTime": {
     "end_time": "2025-08-30T15:52:42.007009200Z",
     "start_time": "2025-08-30T15:52:41.979306300Z"
    }
   },
   "id": "27f76d3348856a91"
  },
  {
   "cell_type": "code",
   "execution_count": 69,
   "outputs": [
    {
     "name": "stdout",
     "output_type": "stream",
     "text": [
      "a soul-stirring documentary about the israeli/palestinian conflict as revealed through the eyes of some children who remain curious about each other against all odds .\n",
      "\n",
      "Last hidden state shape: torch.Size([1, 31, 768])\n"
     ]
    }
   ],
   "source": [
    "sample = dataset[\"test\"][\"text\"][29]\n",
    "print(sample)\n",
    "\n",
    "encoded_input = tokenizer(sample, return_tensors=\"pt\")\n",
    "\n",
    "output = model(**encoded_input)\n",
    "print(\"\\nLast hidden state shape:\", output.last_hidden_state.shape)"
   ],
   "metadata": {
    "collapsed": false,
    "ExecuteTime": {
     "end_time": "2025-08-30T15:52:49.624157200Z",
     "start_time": "2025-08-30T15:52:49.573154600Z"
    }
   },
   "id": "832ce7f8c57deef4"
  },
  {
   "cell_type": "markdown",
   "id": "ec0f6fd4-b80b-466d-b4ff-9aac0492c062",
   "metadata": {},
   "source": [
    "#### Exercise 1.3: A Stable Baseline\n",
    "\n",
    "In this exercise I want you to:\n",
    "1. Use Distilbert as a *feature extractor* to extract representations of the text strings from the dataset splits;\n",
    "2. Train a classifier (your choice, by an SVM from Scikit-learn is an easy choice).\n",
    "3. Evaluate performance on the validation and test splits.\n",
    "\n",
    "These results are our *stable baseline* -- the **starting** point on which we will (hopefully) improve in the next exercise.\n",
    "\n",
    "**Hint**: There are a number of ways to implement the feature extractor, but probably the best is to use a [feature extraction `pipeline`](https://huggingface.co/tasks/feature-extraction). You will need to interpret the output of the pipeline and extract only the `[CLS]` token from the *last* transformer layer. *How can you figure out which output that is?*"
   ]
  },
  {
   "cell_type": "code",
   "execution_count": 70,
   "id": "ebb961ab-aa24-4d5c-86a1-c9b4237b40fc",
   "metadata": {
    "ExecuteTime": {
     "end_time": "2025-08-30T15:52:57.815749700Z",
     "start_time": "2025-08-30T15:52:57.799487200Z"
    }
   },
   "outputs": [
    {
     "name": "stdout",
     "output_type": "stream",
     "text": [
      "Token IDs: tensor([[ 101, 1045, 2215, 2000, 2156, 2065,  101, 2003, 2012, 1996, 2927, 2030,\n",
      "         2012, 1996, 2203, 1997, 1996, 5537,  102]])\n",
      "Decoded tokens: ['[CLS]', 'i', 'want', 'to', 'see', 'if', '[CLS]', 'is', 'at', 'the', 'beginning', 'or', 'at', 'the', 'end', 'of', 'the', 'sequence', '[SEP]']\n"
     ]
    }
   ],
   "source": [
    "sample = \"i want to see if [CLS] is at the beginning or at the end of the sequence\"\n",
    "encoded = tokenizer(sample, return_tensors=\"pt\")\n",
    "\n",
    "print(\"Token IDs:\", encoded[\"input_ids\"])\n",
    "print(\"Decoded tokens:\", tokenizer.convert_ids_to_tokens(encoded[\"input_ids\"][0]))"
   ]
  },
  {
   "cell_type": "markdown",
   "source": [
    "#### So the [CLS] is the first element of the output sequence!"
   ],
   "metadata": {
    "collapsed": false
   },
   "id": "3cea50936cfa490"
  },
  {
   "cell_type": "code",
   "execution_count": 76,
   "outputs": [],
   "source": [
    "from tqdm import tqdm\n",
    "import torch\n",
    "\n",
    "def extract_features(texts, tokenizer, model, batch_size=256, device=\"cuda\"):\n",
    "    model = model.to(device)\n",
    "    model.eval()  \n",
    "\n",
    "    num_texts = len(texts)\n",
    "    hidden_size = 768\n",
    "    features = torch.zeros((num_texts, hidden_size))\n",
    "\n",
    "    with torch.no_grad():\n",
    "        for start in tqdm(range(0, num_texts, batch_size), desc=\"Extracting features\"):\n",
    "            end = start + batch_size\n",
    "            batch = texts[start:end]\n",
    "\n",
    "            encoded = tokenizer(\n",
    "                batch,\n",
    "                padding=True,\n",
    "                return_tensors=\"pt\"\n",
    "            ).to(device)\n",
    "\n",
    "            output = model(**encoded)\n",
    "\n",
    "            cls_vec = output.last_hidden_state[:, 0, :] \n",
    "\n",
    "            features[start:end, :] = cls_vec.cpu()\n",
    "\n",
    "    return features"
   ],
   "metadata": {
    "collapsed": false,
    "ExecuteTime": {
     "end_time": "2025-08-30T15:55:23.991554900Z",
     "start_time": "2025-08-30T15:55:23.976913900Z"
    }
   },
   "id": "d53885d4b949b162"
  },
  {
   "cell_type": "code",
   "execution_count": 77,
   "outputs": [
    {
     "name": "stderr",
     "output_type": "stream",
     "text": [
      "Extracting features: 100%|██████████| 34/34 [01:06<00:00,  1.95s/it]\n",
      "Extracting features: 100%|██████████| 5/5 [00:07<00:00,  1.57s/it]\n",
      "Extracting features: 100%|██████████| 5/5 [00:09<00:00,  1.82s/it]\n"
     ]
    }
   ],
   "source": [
    "text_train = extract_features(dataset[\"train\"][\"text\"], tokenizer, model)\n",
    "labels_train = dataset[\"train\"][\"label\"]\n",
    "\n",
    "text_validation = extract_features(dataset[\"validation\"][\"text\"], tokenizer, model)\n",
    "labels_validation = dataset[\"validation\"][\"label\"]\n",
    "\n",
    "text_test = extract_features(dataset[\"test\"][\"text\"], tokenizer, model)\n",
    "labels_test = dataset[\"test\"][\"label\"]\n"
   ],
   "metadata": {
    "collapsed": false,
    "ExecuteTime": {
     "end_time": "2025-08-30T15:56:48.782661800Z",
     "start_time": "2025-08-30T15:55:25.631156700Z"
    }
   },
   "id": "d73ba30cb3617623"
  },
  {
   "cell_type": "code",
   "execution_count": 78,
   "outputs": [
    {
     "name": "stdout",
     "output_type": "stream",
     "text": [
      "Validation accuracy: 0.822\n",
      "Test accuracy: 0.798\n"
     ]
    }
   ],
   "source": [
    "from sklearn.svm import LinearSVC\n",
    "from sklearn.metrics import accuracy_score\n",
    "\n",
    "clf = LinearSVC()\n",
    "clf.fit(text_train, labels_train)\n",
    "\n",
    "validation_predictions = clf.predict(text_validation)\n",
    "test_predictions = clf.predict(text_test)\n",
    "\n",
    "print(f\"Validation accuracy: {accuracy_score(labels_validation, validation_predictions):.3f}\")\n",
    "print(f\"Test accuracy: {accuracy_score(labels_test, test_predictions):.3f}\")"
   ],
   "metadata": {
    "collapsed": false,
    "ExecuteTime": {
     "end_time": "2025-08-30T15:57:10.662559300Z",
     "start_time": "2025-08-30T15:57:04.440814800Z"
    }
   },
   "id": "6da420f82da3854f"
  },
  {
   "cell_type": "markdown",
   "id": "37141d1b-935b-425c-804c-b9b487853791",
   "metadata": {},
   "source": [
    "-----\n",
    "### Exercise 2: Fine-tuning Distilbert"
   ]
  },
  {
   "cell_type": "markdown",
   "id": "b9a53f64-0238-42f2-bc20-86e51c77d2e5",
   "metadata": {},
   "source": [
    "In this exercise we will fine-tune the Distilbert model to (hopefully) improve sentiment analysis performance."
   ]
  },
  {
   "cell_type": "markdown",
   "id": "3392b1ed-597b-4a92-90fc-10eb11eac515",
   "metadata": {},
   "source": [
    "#### Exercise 2.1: Token Preprocessing\n",
    "\n",
    "The first thing we need to do is *tokenize* our dataset splits. Our current datasets return a dictionary with *strings*, but we want *input token ids* (i.e. the output of the tokenizer). This is easy enough to do my hand, but the HugginFace `Dataset` class provides convenient, efficient, and *lazy* methods. See the documentation for [`Dataset.map`](https://huggingface.co/docs/datasets/v3.5.0/en/package_reference/main_classes#datasets.Dataset.map).\n",
    "\n",
    "**Tip**: Verify that your new datasets are returning for every element: `text`, `label`, `intput_ids`, and `attention_mask`."
   ]
  },
  {
   "cell_type": "code",
   "execution_count": 82,
   "id": "9e6e2a95-5b08-4f81-b824-59a0fb3404e5",
   "metadata": {
    "ExecuteTime": {
     "end_time": "2025-08-30T15:57:27.099700Z",
     "start_time": "2025-08-30T15:57:27.082251900Z"
    }
   },
   "outputs": [],
   "source": [
    "def tokenize(dataset_element):\n",
    "    encoded = tokenizer(dataset_element[\"text\"])\n",
    "\n",
    "    return {\n",
    "        \"text\": dataset_element[\"text\"],\n",
    "        \"label\": dataset_element[\"label\"],\n",
    "        \"input_ids\": encoded[\"input_ids\"],\n",
    "        \"attention_mask\": encoded[\"attention_mask\"],\n",
    "    }"
   ]
  },
  {
   "cell_type": "code",
   "execution_count": 83,
   "outputs": [],
   "source": [
    "tokenized_train = dataset[\"train\"].map(tokenize)\n",
    "tokenized_val = dataset[\"validation\"].map(tokenize)\n",
    "tokenized_test = dataset[\"test\"].map(tokenize)"
   ],
   "metadata": {
    "collapsed": false,
    "ExecuteTime": {
     "end_time": "2025-08-30T15:57:28.703128900Z",
     "start_time": "2025-08-30T15:57:28.659891800Z"
    }
   },
   "id": "7c7e18b26df57c90"
  },
  {
   "cell_type": "code",
   "execution_count": 88,
   "outputs": [
    {
     "name": "stdout",
     "output_type": "stream",
     "text": [
      "{'text': 'a soul-stirring documentary about the israeli/palestinian conflict as revealed through the eyes of some children who remain curious about each other against all odds .', 'label': 1, 'input_ids': [101, 1037, 3969, 1011, 18385, 4516, 2055, 1996, 5611, 1013, 9302, 4736, 2004, 3936, 2083, 1996, 2159, 1997, 2070, 2336, 2040, 3961, 8025, 2055, 2169, 2060, 2114, 2035, 10238, 1012, 102], 'attention_mask': [1, 1, 1, 1, 1, 1, 1, 1, 1, 1, 1, 1, 1, 1, 1, 1, 1, 1, 1, 1, 1, 1, 1, 1, 1, 1, 1, 1, 1, 1, 1]}\n"
     ]
    }
   ],
   "source": [
    "print(tokenized_test[29])"
   ],
   "metadata": {
    "collapsed": false,
    "ExecuteTime": {
     "end_time": "2025-08-30T15:58:14.150925600Z",
     "start_time": "2025-08-30T15:58:14.114798800Z"
    }
   },
   "id": "1ff77ced3604c97f"
  },
  {
   "cell_type": "markdown",
   "id": "62a80de2-83c9-4c12-af4e-34babe23ffd1",
   "metadata": {},
   "source": [
    "#### Exercise 2.2: Setting up the Model to be Fine-tuned\n",
    "\n",
    "In this exercise we need to prepare the base Distilbert model for fine-tuning for a *sequence classification task*. This means, at the very least, appending a new, randomly-initialized classification head connected to the `[CLS]` token of the last transformer layer. Luckily, HuggingFace already provides an `AutoModel` for just this type of instantiation: [`AutoModelForSequenceClassification`](https://huggingface.co/transformers/v3.0.2/model_doc/auto.html#automodelforsequenceclassification). You will want you instantiate one of these for fine-tuning."
   ]
  },
  {
   "cell_type": "code",
   "execution_count": 1,
   "id": "a6327d73-3b71-478a-9932-bb062a650c57",
   "metadata": {},
   "outputs": [],
   "source": [
    "# Your code here."
   ]
  },
  {
   "cell_type": "markdown",
   "id": "d109f7bd-955f-4fc4-bc3e-75bd99a17adf",
   "metadata": {},
   "source": [
    "#### Exercise 2.3: Fine-tuning Distilbert\n",
    "\n",
    "Finally. In this exercise you should use a HuggingFace [`Trainer`](https://huggingface.co/docs/transformers/main/en/trainer) to fine-tune your model on the Rotten Tomatoes training split. Setting up the trainer will involve (at least):\n",
    "\n",
    "\n",
    "1. Instantiating a [`DataCollatorWithPadding`](https://huggingface.co/docs/transformers/en/main_classes/data_collator) object which is what *actually* does your batch construction (by padding all sequences to the same length).\n",
    "2. Writing an *evaluation function* that will measure the classification accuracy. This function takes a single argument which is a tuple containing `(logits, labels)` which you should use to compute classification accuracy (and maybe other metrics like F1 score, precision, recall) and return a `dict` with these metrics.  \n",
    "3. Instantiating a [`TrainingArguments`](https://huggingface.co/docs/transformers/v4.51.1/en/main_classes/trainer#transformers.TrainingArguments) object using some reasonable defaults.\n",
    "4. Instantiating a `Trainer` object using your train and validation splits, you data collator, and function to compute performance metrics.\n",
    "5. Calling `trainer.train()`, waiting, waiting some more, and then calling `trainer.evaluate()` to see how it did.\n",
    "\n",
    "**Tip**: When prototyping this laboratory I discovered the HuggingFace [Evaluate library](https://huggingface.co/docs/evaluate/en/index) which provides evaluation metrics. However I found it to have insufferable layers of abstraction and getting actual metrics computed. I suggest just using the Scikit-learn metrics..."
   ]
  },
  {
   "cell_type": "code",
   "execution_count": 2,
   "id": "ab17178d-5028-47e3-af97-953e8de5aae4",
   "metadata": {},
   "outputs": [],
   "source": [
    "# Your code here."
   ]
  },
  {
   "cell_type": "markdown",
   "id": "fc8376de-8554-4a13-aac3-59257f3eb3fd",
   "metadata": {},
   "source": [
    "-----\n",
    "### Exercise 3: Choose at Least One\n"
   ]
  },
  {
   "cell_type": "markdown",
   "id": "9b55cf4d-e64b-47fc-b8d5-37288b72d90d",
   "metadata": {},
   "source": [
    "#### Exercise 3.1: Efficient Fine-tuning for Sentiment Analysis (easy)"
   ]
  },
  {
   "cell_type": "markdown",
   "id": "6f183856-1111-4fe9-81f1-691fe7c1b706",
   "metadata": {},
   "source": [
    "In Exercise 2 we fine-tuned the *entire* Distilbert model on Rotten Tomatoes. This is expensive, even for a small model. Find an *efficient* way to fine-tune Distilbert on the Rotten Tomatoes dataset (or some other dataset).\n",
    "\n",
    "**Hint**: You could check out the [HuggingFace PEFT library](https://huggingface.co/docs/peft/en/index) for some state-of-the-art approaches that should \"just work\". How else might you go about making fine-tuning more efficient without having to change your training pipeline from above?"
   ]
  },
  {
   "cell_type": "code",
   "execution_count": 3,
   "id": "6ea6bca5-9b36-424e-898c-52c0777eae5e",
   "metadata": {},
   "outputs": [],
   "source": [
    "# Your code here."
   ]
  },
  {
   "cell_type": "markdown",
   "id": "5eeca737-ee00-4d98-a3ae-f4d6eb3d264f",
   "metadata": {},
   "source": [
    "#### Exercise 3.2: Fine-tuning a CLIP Model (harder)\n",
    "\n",
    "Use a (small) CLIP model like [`openai/clip-vit-base-patch16`](https://huggingface.co/openai/clip-vit-base-patch16) and evaluate its zero-shot performance on a small image classification dataset like ImageNette or TinyImageNet. Fine-tune (using a parameter-efficient method!) the CLIP model to see how much improvement you can squeeze out of it.\n",
    "\n",
    "**Note**: There are several ways to adapt the CLIP model; you could fine-tune the image encoder, the text encoder, or both. Or, you could experiment with prompt learning.\n",
    "\n",
    "**Tip**: CLIP probably already works very well on ImageNet and ImageNet-like images. For extra fun, look for an image classification dataset with different image types (e.g. *sketches*)."
   ]
  },
  {
   "cell_type": "code",
   "execution_count": 4,
   "id": "00b59ec2-4fe6-44c6-ab0b-0069f486bbb5",
   "metadata": {},
   "outputs": [],
   "source": [
    "# Your code here."
   ]
  },
  {
   "cell_type": "markdown",
   "id": "fe42ed48-444d-47d4-bd8b-839a99e7996a",
   "metadata": {},
   "source": [
    "#### Exercise 3.3: Choose your Own Adventure"
   ]
  },
  {
   "cell_type": "markdown",
   "id": "196f9129-ef2e-45f7-9e8f-baa697ccd91e",
   "metadata": {},
   "source": [
    "There are a *ton* of interesting and fun models on the HuggingFace hub. Pick one that does something interesting and adapt it in some way to a new task. Or, combine two or more models into something more interesting or fun. The sky's the limit.\n",
    "\n",
    "**Note**: Reach out to me by email or on the Discord if you are unsure about anything."
   ]
  },
  {
   "cell_type": "code",
   "execution_count": 5,
   "id": "c150bd36-6535-4724-a06d-a61632d3132e",
   "metadata": {},
   "outputs": [],
   "source": [
    "# Your code here."
   ]
  }
 ],
 "metadata": {
  "kernelspec": {
   "display_name": "Python 3 (ipykernel)",
   "language": "python",
   "name": "python3"
  },
  "language_info": {
   "codemirror_mode": {
    "name": "ipython",
    "version": 3
   },
   "file_extension": ".py",
   "mimetype": "text/x-python",
   "name": "python",
   "nbconvert_exporter": "python",
   "pygments_lexer": "ipython3",
   "version": "3.13.2"
  }
 },
 "nbformat": 4,
 "nbformat_minor": 5
}
